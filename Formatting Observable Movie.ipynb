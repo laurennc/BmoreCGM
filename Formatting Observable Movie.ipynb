{
 "cells": [
  {
   "cell_type": "code",
   "execution_count": 1,
   "metadata": {
    "collapsed": false
   },
   "outputs": [
    {
     "name": "stderr",
     "output_type": "stream",
     "text": [
      "/Users/dalek/anaconda2/lib/python2.7/site-packages/yt/fields/local_fields.py:46: UserWarning: Because 'sampling_type' not specified, yt will assume a cell 'sampling_type'\n",
      "  warnings.warn(\"Because 'sampling_type' not specified, yt will \"\n"
     ]
    }
   ],
   "source": [
    "import yt\n",
    "import cPickle\n",
    "import matplotlib.pyplot as plt\n",
    "import numpy as np\n",
    "from astropy.table import Table\n",
    "import brewer2mpl as brew\n",
    "import matplotlib.gridspec as gridspec\n",
    "from mpl_toolkits.axes_grid1.inset_locator import inset_axes\n",
    "import matplotlib as mpl\n",
    "from emission_functions import *\n",
    "import trident\n",
    "\n",
    "from radial_data_nozeros import *\n",
    "from astropy.table import Table\n",
    "from holoviews.operation.datashader import aggregate, datashade, dynspread, shade\n",
    "from holoviews.operation import decimate\n",
    "from holoviews.operation import histogram\n",
    "import pandas as pd\n",
    "import holoviews as hv\n",
    "\n",
    "import seaborn as sns\n",
    "sns.set_style(\"white\", {'axes.grid' : False})"
   ]
  },
  {
   "cell_type": "code",
   "execution_count": 2,
   "metadata": {
    "collapsed": true
   },
   "outputs": [],
   "source": [
    "def get_refine_box(ds, zsnap, track):\n",
    "    ## find closest output, modulo not updating before printout\n",
    "    diff = track['col1'] - zsnap\n",
    "    this_loc = track[np.where(diff == np.min(diff[np.where(diff > 1.e-6)]))]\n",
    "    print \"using this loc:\", this_loc\n",
    "    x_left = this_loc['col2'][0]\n",
    "    y_left = this_loc['col3'][0]\n",
    "    z_left = this_loc['col4'][0]\n",
    "    x_right = this_loc['col5'][0]\n",
    "    y_right = this_loc['col6'][0]\n",
    "    z_right = this_loc['col7'][0]\n",
    "    refine_box_center = [0.5*(x_left+x_right), 0.5*(y_left+y_right), 0.5*(z_left+z_right)]\n",
    "    refine_box = ds.r[x_left:x_right, y_left:y_right, z_left:z_right]\n",
    "    refine_width = np.abs(x_right - x_left)\n",
    "    return refine_box, refine_box_center, refine_width\n"
   ]
  },
  {
   "cell_type": "code",
   "execution_count": 13,
   "metadata": {
    "collapsed": true
   },
   "outputs": [],
   "source": [
    "baseREF = \"/Users/dalek/data/Molly/nref11n_nref10f_refine200kpc_z4to2\"\n",
    "fnREF = baseREF+\"/RD0016/RD0016\"\n",
    "baseNAT = \"/Users/dalek/data/Molly/natural/nref11\"\n",
    "fnNAT = baseNAT+\"/RD0016/RD0016\"\n",
    "\n",
    "track_name = baseREF+\"/halo_track\"\n",
    "track = Table.read(track_name, format='ascii')\n",
    "track.sort('col1')"
   ]
  },
  {
   "cell_type": "code",
   "execution_count": 14,
   "metadata": {
    "collapsed": false
   },
   "outputs": [
    {
     "name": "stderr",
     "output_type": "stream",
     "text": [
      "yt : [INFO     ] 2018-03-16 13:53:10,280 Parameters: current_time              = 101.408837975\n",
      "yt : [INFO     ] 2018-03-16 13:53:10,282 Parameters: domain_dimensions         = [256 256 256]\n",
      "yt : [INFO     ] 2018-03-16 13:53:10,283 Parameters: domain_left_edge          = [ 0.  0.  0.]\n",
      "yt : [INFO     ] 2018-03-16 13:53:10,284 Parameters: domain_right_edge         = [ 1.  1.  1.]\n",
      "yt : [INFO     ] 2018-03-16 13:53:10,286 Parameters: cosmological_simulation   = 1\n",
      "yt : [INFO     ] 2018-03-16 13:53:10,288 Parameters: current_redshift          = 2.99999975405\n",
      "yt : [INFO     ] 2018-03-16 13:53:10,289 Parameters: omega_lambda              = 0.715\n",
      "yt : [INFO     ] 2018-03-16 13:53:10,290 Parameters: omega_matter              = 0.285\n",
      "yt : [INFO     ] 2018-03-16 13:53:10,293 Parameters: hubble_constant           = 0.695\n",
      "yt : [INFO     ] 2018-03-16 13:53:10,335 Parameters: current_time              = 101.408837971\n",
      "yt : [INFO     ] 2018-03-16 13:53:10,336 Parameters: domain_dimensions         = [256 256 256]\n",
      "yt : [INFO     ] 2018-03-16 13:53:10,341 Parameters: domain_left_edge          = [ 0.  0.  0.]\n",
      "yt : [INFO     ] 2018-03-16 13:53:10,345 Parameters: domain_right_edge         = [ 1.  1.  1.]\n",
      "yt : [INFO     ] 2018-03-16 13:53:10,349 Parameters: cosmological_simulation   = 1\n",
      "yt : [INFO     ] 2018-03-16 13:53:10,350 Parameters: current_redshift          = 2.99999975416\n",
      "yt : [INFO     ] 2018-03-16 13:53:10,351 Parameters: omega_lambda              = 0.715\n",
      "yt : [INFO     ] 2018-03-16 13:53:10,352 Parameters: omega_matter              = 0.285\n",
      "yt : [INFO     ] 2018-03-16 13:53:10,353 Parameters: hubble_constant           = 0.695\n",
      "Parsing Hierarchy : 100%|██████████| 4505/4505 [00:00<00:00, 23796.07it/s]\n",
      "yt : [INFO     ] 2018-03-16 13:53:11,173 Gathering a field list (this may take a moment.)\n",
      "Parsing Hierarchy : 100%|██████████| 1190/1190 [00:00<00:00, 19753.29it/s]\n",
      "yt : [INFO     ] 2018-03-16 13:53:12,591 Gathering a field list (this may take a moment.)\n"
     ]
    },
    {
     "name": "stdout",
     "output_type": "stream",
     "text": [
      "using this loc:      col1       col2     col3     col4     col5     col6     col7   col8\n",
      "------------- -------- -------- -------- -------- -------- -------- ----\n",
      "3.04999996364 0.494074 0.490963 0.500097 0.496074 0.492963 0.502097   10\n",
      "using this loc:      col1       col2     col3     col4     col5     col6     col7   col8\n",
      "------------- -------- -------- -------- -------- -------- -------- ----\n",
      "3.04999996364 0.494074 0.490963 0.500097 0.496074 0.492963 0.502097   10\n"
     ]
    }
   ],
   "source": [
    "dsREF = yt.load(fnREF)\n",
    "dsNAT = yt.load(fnNAT)\n",
    "\n",
    "trident.add_ion_fields(dsREF,ions=['Si III','O VI'])\n",
    "trident.add_ion_fields(dsNAT,ions=['Si III','O VI'])\n",
    "\n",
    "rbR,rb_centerR,rb_widthR = get_refine_box(dsREF,dsREF.current_redshift,track)\n",
    "rbN,rb_centerN,rb_widthN = get_refine_box(dsNAT,dsNAT.current_redshift,track)"
   ]
  },
  {
   "cell_type": "markdown",
   "metadata": {},
   "source": [
    "### Consistency.py  colormaps!"
   ]
  },
  {
   "cell_type": "code",
   "execution_count": 5,
   "metadata": {
    "collapsed": true
   },
   "outputs": [],
   "source": [
    "h1_color_map = sns.blend_palette((\"white\",\"#ababab\",\"#565656\",\"black\",\"#4575b4\",\"#984ea3\",\"#d73027\",\"darkorange\",\"#ffe34d\"), as_cmap=True)\n",
    "h1_proj_min = 11\n",
    "h1_proj_max = 21\n",
    "\n",
    "\n",
    "o6_color_map = sns.blend_palette((\"white\",\"black\",\"#4daf4a\",\"#4575b4\",\"#984ea3\",\"#d73027\",\"darkorange\"), as_cmap=True)\n",
    "o6_min = 11\n",
    "o6_max = 15\n",
    "\n",
    "si3_color_map = \"magma\"\n",
    "si3_min = 11\n",
    "si3_max = 16"
   ]
  },
  {
   "cell_type": "code",
   "execution_count": null,
   "metadata": {
    "collapsed": false
   },
   "outputs": [],
   "source": [
    "HIN = yt.ProjectionPlot(dsNAT,'x','H_number_density',center=rb_centerN,data_source=rbN,\n",
    "                              width=(rb_widthN,'code_length'))\n",
    "HIN.set_zlim('H_number_density',10**18,10**24)\n",
    "frbHN = np.log10(HIN.frb['H_number_density'])\n",
    "\n",
    "im = plt.imshow(frbHN,vmin=h1_proj_min,vmax=h1_proj_max,interpolation='none',cmap=h1_color_map,origin='lower')\n",
    "im.axes.set_xticks([])\n",
    "im.axes.set_yticks([])\n",
    "plt.show()"
   ]
  },
  {
   "cell_type": "code",
   "execution_count": 15,
   "metadata": {
    "collapsed": false
   },
   "outputs": [
    {
     "name": "stderr",
     "output_type": "stream",
     "text": [
      "yt : [INFO     ] 2018-03-16 13:53:17,741 Projection completed\n",
      "yt : [INFO     ] 2018-03-16 13:53:17,744 xlim = 0.490963 0.492963\n",
      "yt : [INFO     ] 2018-03-16 13:53:17,748 ylim = 0.500097 0.502097\n",
      "yt : [INFO     ] 2018-03-16 13:53:17,752 xlim = 0.490963 0.492963\n",
      "yt : [INFO     ] 2018-03-16 13:53:17,753 ylim = 0.500097 0.502097\n",
      "yt : [INFO     ] 2018-03-16 13:53:17,761 Making a fixed resolution buffer of (('gas', 'Si_p2_number_density')) 800 by 800\n",
      "yt : [INFO     ] 2018-03-16 13:53:18,400 Making a fixed resolution buffer of (Si_p2_number_density) 800 by 800\n",
      "/Users/dalek/anaconda2/lib/python2.7/site-packages/ipykernel/__main__.py:4: RuntimeWarning: divide by zero encountered in log10\n"
     ]
    },
    {
     "data": {
      "image/png": "[encoded data removed]",
      "text/plain": [
       "<matplotlib.figure.Figure at 0x12906f610>"
      ]
     },
     "metadata": {},
     "output_type": "display_data"
    }
   ],
   "source": [
    "SIIIN = yt.ProjectionPlot(dsNAT,'x','Si_p2_number_density',center=rb_centerN,data_source=rbN,\n",
    "                              width=(rb_widthN,'code_length'))\n",
    "#SIIN.set_zlim('H_number_density',10**18,10**24)\n",
    "frbSN = np.log10(SIIIN.frb['Si_p2_number_density'])\n",
    "\n",
    "im = plt.imshow(frbSN,vmin=si3_min,vmax=si3_max,interpolation='none',cmap=si3_color_map,origin='lower')\n",
    "im.axes.set_xticks([])\n",
    "im.axes.set_yticks([])\n",
    "plt.show()"
   ]
  },
  {
   "cell_type": "code",
   "execution_count": null,
   "metadata": {
    "collapsed": true
   },
   "outputs": [],
   "source": [
    "make_fig = True"
   ]
  },
  {
   "cell_type": "code",
   "execution_count": null,
   "metadata": {
    "collapsed": false
   },
   "outputs": [],
   "source": [
    "## Let's \n",
    "if make_fig == True:\n",
    "    print 'HI REF'\n",
    "    HIR = yt.ProjectionPlot(dsREF,'x','H_number_density',center=rb_centerR,data_source=rbR,\n",
    "                              width=(rb_widthR,'code_length'))\n",
    "    HIR.set_zlim('H_number_density',10**h1_proj_min,10**h1_proj_max)\n",
    "    frbHR = np.log10(HIR.frb['H_number_density'])\n",
    "\n",
    "    print 'SiIII REF'\n",
    "    SiIIIR = yt.ProjectionPlot(dsREF,'x','Si_p2_number_density',center=rb_centerR,data_source=rbR,\n",
    "                              width=(rb_widthR,'code_length'))\n",
    "    SiIIIR.set_zlim('Si_p2_number_density',10**si3_min,10**si3_max)\n",
    "    frbSR = np.log10(SiIIIR.frb['Si_p2_number_density'])\n",
    "\n",
    "    print 'OVI REF'\n",
    "    OVIR = yt.ProjectionPlot(dsREF,'x','O_p5_number_density',center=rb_centerR,data_source=rbR,\n",
    "                               width=(rb_widthR,'code_length'))\n",
    "    OVIR.set_zlim('O_p5_number_density',10**o6_min,10**o6_max)\n",
    "    frbOR = np.log10(OVIR.frb['O_p5_number_density'])\n",
    "\n",
    "    print 'HI NAT'\n",
    "    HIN = yt.ProjectionPlot(dsNAT,'x','H_number_density',center=rb_centerN,data_source=rbN,\n",
    "                              width=(rb_widthN,'code_length'))\n",
    "    HIN.set_zlim('H_number_density',10**h1_proj_min,10**h1_proj_max)\n",
    "    frbHN = np.log10(HIN.frb['H_number_density'])\n",
    "\n",
    "    print 'SiIII NAT' \n",
    "    SiIIIN = yt.ProjectionPlot(dsNAT,'x','Si_p2_number_density',center=rb_centerN,data_source=rbN,\n",
    "                              width=(rb_widthN,'code_length'))\n",
    "    SiIIIN.set_zlim('Si_p2_number_density',10**si3_min,10**si3_max)\n",
    "    frbSN = np.log10(SiIIIN.frb['Si_p2_number_density'])\n",
    "\n",
    "    print 'OVI NAT'\n",
    "    OVIN = yt.ProjectionPlot(dsNAT,'x','O_p5_number_density',center=rb_centerN,data_source=rbN,\n",
    "                               width=(rb_widthN,'code_length'))\n",
    "    OVIN.set_zlim('O_p5_number_density',10**o6_min,10**o6_max)\n",
    "    frbON = np.log10(OVIN.frb['O_p5_number_density'])\n",
    "    "
   ]
  },
  {
   "cell_type": "markdown",
   "metadata": {},
   "source": [
    "#### This was me trying a post-processing trick to get rid of the white portions of projections\n",
    "but the where function is tricky with the 2D arrays. So I just went into trident and got rid of the lines where the zero things out for who knows what reason. Hoping that fixes it!"
   ]
  },
  {
   "cell_type": "code",
   "execution_count": null,
   "metadata": {
    "collapsed": false
   },
   "outputs": [],
   "source": [
    "SiIIIN = yt.ProjectionPlot(dsNAT,'x','Si_p2_number_density',center=rb_centerN,data_source=rbN,\n",
    "                              width=(rb_widthN,'code_length'))\n",
    "SiIIIN.set_zlim('Si_p2_number_density',10**si3_min,10**si3_max)\n",
    "idx = np.where(SiIIIN.frb['Si_p2_number_density'] == 0)[0]\n",
    "frbSN = np.log10(SiIIIN.frb['Si_p2_number_density'])\n",
    "frbSN2 = np.log10(SiIIIN.frb['Si_p2_number_density'])\n",
    "frbSN2[idx] = si3_min"
   ]
  },
  {
   "cell_type": "markdown",
   "metadata": {},
   "source": [
    "#### back to plot making!"
   ]
  },
  {
   "cell_type": "code",
   "execution_count": null,
   "metadata": {
    "collapsed": false
   },
   "outputs": [],
   "source": [
    "if make_fig == True:\n",
    "    fig,ax = plt.subplots(2,3)#,sharex=True,sharey=True)\n",
    "    fig.set_size_inches(20,12)\n",
    "\n",
    "    ### HI Ref ###\n",
    "    print 'HI REF'\n",
    "    im = ax[0,0].imshow(frbHR,vmin=h1_proj_min,vmax=h1_proj_max,interpolation='none',cmap=h1_color_map,origin='lower')\n",
    "    im.axes.set_xticks([])\n",
    "    im.axes.set_yticks([])\n",
    "    ax[0,0].text(0.95, 0.95, 'HI',\n",
    "                verticalalignment='top', horizontalalignment='right',fontweight='bold',\n",
    "                transform=ax[0,0].transAxes,color='SlateBlue', fontsize=30)\n",
    "\n",
    "    ### SiIII Ref ###\n",
    "    print 'SiIII REF'\n",
    "    im2 = ax[0,1].imshow(frbSR,vmin=si3_min,vmax=si3_max,interpolation='none',cmap=si3_color_map,origin='lower')\n",
    "    im2.axes.set_xticks([])\n",
    "    im2.axes.set_yticks([])\n",
    "    ax[0,1].text(0.95, 0.95, 'SiIII',\n",
    "                verticalalignment='top', horizontalalignment='right',fontweight='bold',\n",
    "                transform=ax[0,1].transAxes,color='DodgerBlue', fontsize=30)\n",
    "\n",
    "    ### OVI Ref ###\n",
    "    print 'OVI REF'\n",
    "    im3 = ax[0,2].imshow(frbOR,vmin=o6_min,vmax=o6_max,interpolation='none',cmap=o6_color_map,origin='lower')\n",
    "    im3.axes.set_xticks([])\n",
    "    im3.axes.set_yticks([])\n",
    "    ax[0,2].text(0.95, 0.95, 'OVI',\n",
    "                verticalalignment='top', horizontalalignment='right',fontweight='bold',\n",
    "                transform=ax[0,2].transAxes,color='DeepPink', fontsize=30)\n",
    "\n",
    "    ## HI  Nat ###\n",
    "    #val,pos = dsNAT.find_max('dark_matter_density')\n",
    "    print 'HI NAT'\n",
    "    im = ax[1,0].imshow(frbHN,vmin=h1_proj_min,vmax=h1_proj_max,interpolation='none',cmap=h1_color_map,origin='lower')\n",
    "    im.axes.set_xticks([])\n",
    "    im.axes.set_yticks([])\n",
    "\n",
    "\n",
    "    ## SiIII Nat ###\n",
    "    print 'SiIII NAT'\n",
    "    im2 = ax[1,1].imshow(frbSN,vmin=si3_min,vmax=si3_max,interpolation='none',cmap=si3_color_map,origin='lower')\n",
    "    im2.axes.set_xticks([])\n",
    "    im2.axes.set_yticks([])\n",
    "\n",
    "    ### OVI Nat ###\n",
    "    print 'OVI NAT'\n",
    "    im3 = ax[1,2].imshow(frbON,vmin=o6_min,vmax=o6_max,interpolation='none',cmap=o6_color_map,origin='lower')\n",
    "    im3.axes.set_xticks([])\n",
    "    im3.axes.set_yticks([])\n",
    "\n",
    "    ## Reformat ##\n",
    "    plt.tight_layout()\n",
    "    fig.subplots_adjust(bottom=0.065)\n",
    "\n",
    "    ## Colorbars ##\n",
    "    print 'COLORBARS'\n",
    "    cbaxes = fig.add_axes([0.0408, 0.03, 0.273, 0.02])\n",
    "    cb = plt.colorbar(im, cax = cbaxes,orientation='horizontal')\n",
    "    axcb = cb.ax\n",
    "    text = axcb.yaxis.label\n",
    "    font = mpl.font_manager.FontProperties(family='Osaka', size=20)\n",
    "    text.set_font_properties(font)\n",
    "\n",
    "    cbaxes2 = fig.add_axes([0.363, 0.03, 0.273, 0.02])\n",
    "    cb2 = plt.colorbar(im2, cax = cbaxes2,orientation='horizontal')\n",
    "    axcb = cb2.ax\n",
    "    text = axcb.yaxis.label\n",
    "    font = mpl.font_manager.FontProperties(family='Osaka', size=20)\n",
    "    text.set_font_properties(font)\n",
    "\n",
    "    cbaxes3 = fig.add_axes([0.689, 0.03, 0.273, 0.02])\n",
    "    cb3 = plt.colorbar(im3, cax = cbaxes3,orientation='horizontal')\n",
    "    axcb = cb3.ax\n",
    "    text = axcb.yaxis.label\n",
    "    font = mpl.font_manager.FontProperties(family='Osaka', size=20)\n",
    "    text.set_font_properties(font)\n",
    "\n",
    "plt.show()"
   ]
  },
  {
   "cell_type": "code",
   "execution_count": null,
   "metadata": {
    "collapsed": false
   },
   "outputs": [],
   "source": [
    "np.min(SiIIIR.frb['Si_p2_number_density'])"
   ]
  },
  {
   "cell_type": "code",
   "execution_count": null,
   "metadata": {
    "collapsed": false
   },
   "outputs": [],
   "source": [
    "plt.imshow(np.log10(SiIIIN.frb['Si_p2_number_density']),vmax=2)\n",
    "plt.colorbar()\n",
    "plt.show()"
   ]
  },
  {
   "cell_type": "code",
   "execution_count": null,
   "metadata": {
    "collapsed": false
   },
   "outputs": [],
   "source": [
    "frbSN.min()"
   ]
  },
  {
   "cell_type": "code",
   "execution_count": null,
   "metadata": {
    "collapsed": false
   },
   "outputs": [],
   "source": [
    "id2 = np.where(frbSN == -float('Inf'))[0]\n",
    "print len(id2),len(idx)\n",
    "print len(frbSN)"
   ]
  },
  {
   "cell_type": "code",
   "execution_count": null,
   "metadata": {
    "collapsed": false
   },
   "outputs": [],
   "source": [
    "rbR['Si_p2_number_density'].min()"
   ]
  }
 ],
 "metadata": {
  "kernelspec": {
   "display_name": "Python 2",
   "language": "python",
   "name": "python2"
  },
  "language_info": {
   "codemirror_mode": {
    "name": "ipython",
    "version": 2
   },
   "file_extension": ".py",
   "mimetype": "text/x-python",
   "name": "python",
   "nbconvert_exporter": "python",
   "pygments_lexer": "ipython2",
   "version": "2.7.13"
  }
 },
 "nbformat": 4,
 "nbformat_minor": 2
}
