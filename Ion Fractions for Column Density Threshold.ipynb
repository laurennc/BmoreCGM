{
 "cells": [
  {
   "cell_type": "code",
   "execution_count": 1,
   "metadata": {},
   "outputs": [],
   "source": [
    "import yt\n",
    "import matplotlib.pyplot as plt\n",
    "import numpy as np\n",
    "import cPickle\n",
    "import re\n",
    "import trident\n",
    "from astropy.io import fits\n",
    "from astropy.table import Table\n",
    "from cloud_utils import *"
   ]
  },
  {
   "cell_type": "code",
   "execution_count": 2,
   "metadata": {},
   "outputs": [
    {
     "name": "stderr",
     "output_type": "stream",
     "text": [
      "yt : [INFO     ] 2019-02-01 15:51:19,620 Parameters: current_time              = 154.801032717\n",
      "yt : [INFO     ] 2019-02-01 15:51:19,622 Parameters: domain_dimensions         = [256 256 256]\n",
      "yt : [INFO     ] 2019-02-01 15:51:19,624 Parameters: domain_left_edge          = [0. 0. 0.]\n",
      "yt : [INFO     ] 2019-02-01 15:51:19,628 Parameters: domain_right_edge         = [1. 1. 1.]\n",
      "yt : [INFO     ] 2019-02-01 15:51:19,630 Parameters: cosmological_simulation   = 1\n",
      "yt : [INFO     ] 2019-02-01 15:51:19,634 Parameters: current_redshift          = 1.99999968795\n",
      "yt : [INFO     ] 2019-02-01 15:51:19,635 Parameters: omega_lambda              = 0.715\n",
      "yt : [INFO     ] 2019-02-01 15:51:19,636 Parameters: omega_matter              = 0.285\n",
      "yt : [INFO     ] 2019-02-01 15:51:19,637 Parameters: hubble_constant           = 0.695\n",
      "Parsing Hierarchy : 100%|██████████| 2177/2177 [00:00<00:00, 2606.78it/s]\n",
      "yt : [INFO     ] 2019-02-01 15:51:20,588 Gathering a field list (this may take a moment.)\n",
      "/Users/lcorlies/repos/qobilidop/yt/yt/units/yt_array.py:1036: FutureWarning: Using a non-tuple sequence for multidimensional indexing is deprecated; use `arr[tuple(seq)]` instead of `arr[seq]`. In the future this will be interpreted as an array index, `arr[np.array(seq)]`, which will result either in an error or a different result.\n",
      "  ret = super(YTArray, self).__getitem__(item)\n",
      "/Users/lcorlies/repos/qobilidop/yt/yt/fields/fluid_fields.py:201: FutureWarning: Using a non-tuple sequence for multidimensional indexing is deprecated; use `arr[tuple(seq)]` instead of `arr[seq]`. In the future this will be interpreted as an array index, `arr[np.array(seq)]`, which will result either in an error or a different result.\n",
      "  new_field[slice_3d] = f\n"
     ]
    }
   ],
   "source": [
    "fn1 = '/Users/lcorlies/Documents/CGM_Research/spectra/hlsp_misty_foggie_halo008508_rd0020_i032.5_dx11.73_v2_los.fits'\n",
    "hdu1 = fits.open(fn1)\n",
    "fn = '/Users/lcorlies/data/Molly/nref11n_nref10f_refine200kpc_z4to2/RD0020/RD0020'\n",
    "ds = yt.load(fn)\n",
    "trident.add_ion_fields(ds, ions=['Si II', 'Si III', 'Si IV', 'C II','C III', 'C IV', 'O VI', 'Mg II','Ne VIII'])"
   ]
  },
  {
   "cell_type": "code",
   "execution_count": 4,
   "metadata": {},
   "outputs": [],
   "source": [
    "start,end = parse_for_ray_parameters(fn1) "
   ]
  },
  {
   "cell_type": "code",
   "execution_count": 5,
   "metadata": {},
   "outputs": [],
   "source": [
    "ray = ds.ray(start,end)\n",
    "ids = np.argsort(ray['z'])"
   ]
  },
  {
   "cell_type": "code",
   "execution_count": 36,
   "metadata": {},
   "outputs": [],
   "source": [
    "ion_to_use = ray['H_p0_number_density']*ray['dz'].in_units('cm')\n",
    "threshold,num_cells_above = get_fion_threshold(ion_to_use,0.85)"
   ]
  },
  {
   "cell_type": "code",
   "execution_count": 37,
   "metadata": {},
   "outputs": [
    {
     "name": "stdout",
     "output_type": "stream",
     "text": [
      "1.1097537104074166e+16 cm**(-2) 12\n"
     ]
    }
   ],
   "source": [
    "print threshold,num_cells_above"
   ]
  },
  {
   "cell_type": "code",
   "execution_count": 39,
   "metadata": {},
   "outputs": [
    {
     "data": {
      "text/plain": [
       "<matplotlib.lines.Line2D at 0x82b123790>"
      ]
     },
     "execution_count": 39,
     "metadata": {},
     "output_type": "execute_result"
    },
    {
     "data": {
      "image/png": "[encoded data removed]",
      "text/plain": [
       "<Figure size 432x288 with 1 Axes>"
      ]
     },
     "metadata": {
      "needs_background": "light"
     },
     "output_type": "display_data"
    }
   ],
   "source": [
    "plt.plot(ray['z'][ids],np.log10(ion_to_use[ids]))\n",
    "plt.axhline(y=np.log10(threshold),color='red')\n",
    "#plt.ylim(16,17)"
   ]
  },
  {
   "cell_type": "code",
   "execution_count": null,
   "metadata": {},
   "outputs": [],
   "source": []
  }
 ],
 "metadata": {
  "kernelspec": {
   "display_name": "Python 2",
   "language": "python",
   "name": "python2"
  },
  "language_info": {
   "codemirror_mode": {
    "name": "ipython",
    "version": 2
   },
   "file_extension": ".py",
   "mimetype": "text/x-python",
   "name": "python",
   "nbconvert_exporter": "python",
   "pygments_lexer": "ipython2",
   "version": "2.7.15"
  }
 },
 "nbformat": 4,
 "nbformat_minor": 2
}
