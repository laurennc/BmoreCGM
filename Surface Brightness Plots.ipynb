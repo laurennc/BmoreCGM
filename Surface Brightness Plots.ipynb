{
 "cells": [
  {
   "cell_type": "code",
   "execution_count": 1,
   "metadata": {
    "collapsed": false
   },
   "outputs": [
    {
     "data": {
      "text/html": [
       "\n",
       "<script src=\"https://code.jquery.com/ui/1.10.4/jquery-ui.min.js\" type=\"text/javascript\"></script>\n",
       "<script type=\"text/javascript\">function HoloViewsWidget(){\n",
       "}\n",
       "\n",
       "HoloViewsWidget.comms = {};\n",
       "HoloViewsWidget.comm_state = {};\n",
       "\n",
       "HoloViewsWidget.prototype.init_slider = function(init_val){\n",
       "  if(this.load_json) {\n",
       "    this.from_json()\n",
       "  } else {\n",
       "    this.update_cache();\n",
       "  }\n",
       "}\n",
       "\n",
       "HoloViewsWidget.prototype.populate_cache = function(idx){\n",
       "  this.cache[idx].html(this.frames[idx]);\n",
       "  if (this.embed) {\n",
       "    delete this.frames[idx];\n",
       "  }\n",
       "}\n",
       "\n",
       "HoloViewsWidget.prototype.process_error = function(msg){\n",
       "\n",
       "}\n",
       "\n",
       "HoloViewsWidget.prototype.from_json = function() {\n",
       "  var data_url = this.json_path + this.id + '.json';\n",
       "  $.getJSON(data_url, $.proxy(function(json_data) {\n",
       "    this.frames = json_data;\n",
       "    this.update_cache();\n",
       "    this.update(0);\n",
       "  }, this));\n",
       "}\n",
       "\n",
       "HoloViewsWidget.prototype.dynamic_update = function(current){\n",
       "  if (current === undefined) {\n",
       "    return\n",
       "  }\n",
       "  if(this.dynamic) {\n",
       "    current = JSON.stringify(current);\n",
       "  }\n",
       "  function callback(initialized, msg){\n",
       "    /* This callback receives data from Python as a string\n",
       "       in order to parse it correctly quotes are sliced off*/\n",
       "    if (msg.content.ename != undefined) {\n",
       "      this.process_error(msg);\n",
       "    }\n",
       "    if (msg.msg_type != \"execute_result\") {\n",
       "      console.log(\"Warning: HoloViews callback returned unexpected data for key: (\", current, \") with the following content:\", msg.content)\n",
       "    } else {\n",
       "      if (msg.content.data['text/plain'].includes('Complete')) {\n",
       "        if (this.queue.length > 0) {\n",
       "          this.time = Date.now();\n",
       "          this.dynamic_update(this.queue[this.queue.length-1]);\n",
       "          this.queue = [];\n",
       "        } else {\n",
       "          this.wait = false;\n",
       "        }\n",
       "        return\n",
       "      }\n",
       "    }\n",
       "  }\n",
       "  this.current = current;\n",
       "  if ((window.Jupyter !== undefined) && (Jupyter.notebook.kernel != null)) {\n",
       "    var kernel = Jupyter.notebook.kernel;\n",
       "    callbacks = {iopub: {output: $.proxy(callback, this, this.initialized)}};\n",
       "    var cmd = \"holoviews.plotting.widgets.NdWidget.widgets['\" + this.id + \"'].update(\" + current + \")\";\n",
       "    kernel.execute(\"import holoviews;\" + cmd, callbacks, {silent : false});\n",
       "  }\n",
       "}\n",
       "\n",
       "HoloViewsWidget.prototype.update_cache = function(force){\n",
       "  var frame_len = Object.keys(this.frames).length;\n",
       "  for (var i=0; i<frame_len; i++) {\n",
       "    if(!this.load_json || this.dynamic)  {\n",
       "      frame = Object.keys(this.frames)[i];\n",
       "    } else {\n",
       "      frame = i;\n",
       "    }\n",
       "    if(!(frame in this.cache) || force) {\n",
       "      if ((frame in this.cache) && force) { this.cache[frame].remove() }\n",
       "      this.cache[frame] = $('<div />').appendTo(\"#\"+\"_anim_img\"+this.id).hide();\n",
       "      var cache_id = \"_anim_img\"+this.id+\"_\"+frame;\n",
       "      this.cache[frame].attr(\"id\", cache_id);\n",
       "      this.populate_cache(frame);\n",
       "    }\n",
       "  }\n",
       "}\n",
       "\n",
       "HoloViewsWidget.prototype.update = function(current){\n",
       "  if(current in this.cache) {\n",
       "    $.each(this.cache, function(index, value) {\n",
       "      value.hide();\n",
       "    });\n",
       "    this.cache[current].show();\n",
       "    this.wait = false;\n",
       "  }\n",
       "}\n",
       "\n",
       "HoloViewsWidget.prototype.init_comms = function() {\n",
       "  if ((window.Jupyter !== undefined) && (Jupyter.notebook.kernel !== undefined)) {\n",
       "    var widget = this;\n",
       "    comm_manager = Jupyter.notebook.kernel.comm_manager;\n",
       "    comm_manager.register_target(this.id, function (comm) {\n",
       "      comm.on_msg(function (msg) { widget.process_msg(msg) });\n",
       "    });\n",
       "  }\n",
       "}\n",
       "\n",
       "HoloViewsWidget.prototype.process_msg = function(msg) {\n",
       "}\n",
       "\n",
       "function SelectionWidget(frames, id, slider_ids, keyMap, dim_vals, notFound, load_json, mode, cached, json_path, dynamic){\n",
       "  this.frames = frames;\n",
       "  this.id = id;\n",
       "  this.slider_ids = slider_ids;\n",
       "  this.keyMap = keyMap\n",
       "  this.current_frame = 0;\n",
       "  this.current_vals = dim_vals;\n",
       "  this.load_json = load_json;\n",
       "  this.mode = mode;\n",
       "  this.notFound = notFound;\n",
       "  this.cached = cached;\n",
       "  this.dynamic = dynamic;\n",
       "  this.cache = {};\n",
       "  this.json_path = json_path;\n",
       "  this.init_slider(this.current_vals[0]);\n",
       "  this.queue = [];\n",
       "  this.wait = false;\n",
       "  if (!this.cached || this.dynamic) {\n",
       "    this.init_comms()\n",
       "  }\n",
       "}\n",
       "\n",
       "SelectionWidget.prototype = new HoloViewsWidget;\n",
       "\n",
       "\n",
       "SelectionWidget.prototype.get_key = function(current_vals) {\n",
       "  var key = \"(\";\n",
       "  for (var i=0; i<this.slider_ids.length; i++)\n",
       "  {\n",
       "    val = this.current_vals[i];\n",
       "    if (!(typeof val === 'string')) {\n",
       "      if (val % 1 === 0) { val = val.toFixed(1); }\n",
       "      else { val = val.toFixed(10); val = val.slice(0, val.length-1);}\n",
       "    }\n",
       "    key += \"'\" + val + \"'\";\n",
       "    if(i != this.slider_ids.length-1) { key += ', ';}\n",
       "    else if(this.slider_ids.length == 1) { key += ',';}\n",
       "  }\n",
       "  key += \")\";\n",
       "  return this.keyMap[key];\n",
       "}\n",
       "\n",
       "SelectionWidget.prototype.set_frame = function(dim_val, dim_idx){\n",
       "  this.current_vals[dim_idx] = dim_val;\n",
       "  var key = this.current_vals;\n",
       "  if (!this.dynamic) {\n",
       "    key = this.get_key(key)\n",
       "  }\n",
       "  if (this.dynamic || !this.cached) {\n",
       "    if ((this.time !== undefined) && ((this.wait) && ((this.time + 10000) > Date.now()))) {\n",
       "      this.queue.push(key);\n",
       "      return\n",
       "    }\n",
       "    this.queue = [];\n",
       "    this.time = Date.now();\n",
       "    this.current_frame = key;\n",
       "    this.wait = true;\n",
       "    this.dynamic_update(key)\n",
       "  } else if (key !== undefined) {\n",
       "    this.update(key)\n",
       "  }\n",
       "}\n",
       "\n",
       "\n",
       "/* Define the ScrubberWidget class */\n",
       "function ScrubberWidget(frames, num_frames, id, interval, load_json, mode, cached, json_path, dynamic){\n",
       "  this.slider_id = \"_anim_slider\" + id;\n",
       "  this.loop_select_id = \"_anim_loop_select\" + id;\n",
       "  this.id = id;\n",
       "  this.interval = interval;\n",
       "  this.current_frame = 0;\n",
       "  this.direction = 0;\n",
       "  this.dynamic = dynamic;\n",
       "  this.timer = null;\n",
       "  this.load_json = load_json;\n",
       "  this.mode = mode;\n",
       "  this.cached = cached;\n",
       "  this.frames = frames;\n",
       "  this.cache = {};\n",
       "  this.length = num_frames;\n",
       "  this.json_path = json_path;\n",
       "  document.getElementById(this.slider_id).max = this.length - 1;\n",
       "  this.init_slider(0);\n",
       "  this.wait = false;\n",
       "  this.queue = [];\n",
       "  if (!this.cached || this.dynamic) {\n",
       "    this.init_comms()\n",
       "  }\n",
       "}\n",
       "\n",
       "ScrubberWidget.prototype = new HoloViewsWidget;\n",
       "\n",
       "ScrubberWidget.prototype.set_frame = function(frame){\n",
       "  this.current_frame = frame;\n",
       "  widget = document.getElementById(this.slider_id);\n",
       "  if (widget === null) {\n",
       "    this.pause_animation();\n",
       "    return\n",
       "  }\n",
       "  widget.value = this.current_frame;\n",
       "  if(this.cached) {\n",
       "    this.update(frame)\n",
       "  } else {\n",
       "    this.dynamic_update(frame)\n",
       "  }\n",
       "}\n",
       "\n",
       "\n",
       "ScrubberWidget.prototype.get_loop_state = function(){\n",
       "  var button_group = document[this.loop_select_id].state;\n",
       "  for (var i = 0; i < button_group.length; i++) {\n",
       "    var button = button_group[i];\n",
       "    if (button.checked) {\n",
       "      return button.value;\n",
       "    }\n",
       "  }\n",
       "  return undefined;\n",
       "}\n",
       "\n",
       "\n",
       "ScrubberWidget.prototype.next_frame = function() {\n",
       "  this.set_frame(Math.min(this.length - 1, this.current_frame + 1));\n",
       "}\n",
       "\n",
       "ScrubberWidget.prototype.previous_frame = function() {\n",
       "  this.set_frame(Math.max(0, this.current_frame - 1));\n",
       "}\n",
       "\n",
       "ScrubberWidget.prototype.first_frame = function() {\n",
       "  this.set_frame(0);\n",
       "}\n",
       "\n",
       "ScrubberWidget.prototype.last_frame = function() {\n",
       "  this.set_frame(this.length - 1);\n",
       "}\n",
       "\n",
       "ScrubberWidget.prototype.slower = function() {\n",
       "  this.interval /= 0.7;\n",
       "  if(this.direction > 0){this.play_animation();}\n",
       "  else if(this.direction < 0){this.reverse_animation();}\n",
       "}\n",
       "\n",
       "ScrubberWidget.prototype.faster = function() {\n",
       "  this.interval *= 0.7;\n",
       "  if(this.direction > 0){this.play_animation();}\n",
       "  else if(this.direction < 0){this.reverse_animation();}\n",
       "}\n",
       "\n",
       "ScrubberWidget.prototype.anim_step_forward = function() {\n",
       "  if(this.current_frame < this.length - 1){\n",
       "    this.next_frame();\n",
       "  }else{\n",
       "    var loop_state = this.get_loop_state();\n",
       "    if(loop_state == \"loop\"){\n",
       "      this.first_frame();\n",
       "    }else if(loop_state == \"reflect\"){\n",
       "      this.last_frame();\n",
       "      this.reverse_animation();\n",
       "    }else{\n",
       "      this.pause_animation();\n",
       "      this.last_frame();\n",
       "    }\n",
       "  }\n",
       "}\n",
       "\n",
       "ScrubberWidget.prototype.anim_step_reverse = function() {\n",
       "  if(this.current_frame > 0){\n",
       "    this.previous_frame();\n",
       "  } else {\n",
       "    var loop_state = this.get_loop_state();\n",
       "    if(loop_state == \"loop\"){\n",
       "      this.last_frame();\n",
       "    }else if(loop_state == \"reflect\"){\n",
       "      this.first_frame();\n",
       "      this.play_animation();\n",
       "    }else{\n",
       "      this.pause_animation();\n",
       "      this.first_frame();\n",
       "    }\n",
       "  }\n",
       "}\n",
       "\n",
       "ScrubberWidget.prototype.pause_animation = function() {\n",
       "  this.direction = 0;\n",
       "  if (this.timer){\n",
       "    clearInterval(this.timer);\n",
       "    this.timer = null;\n",
       "  }\n",
       "}\n",
       "\n",
       "ScrubberWidget.prototype.play_animation = function() {\n",
       "  this.pause_animation();\n",
       "  this.direction = 1;\n",
       "  var t = this;\n",
       "  if (!this.timer) this.timer = setInterval(function(){t.anim_step_forward();}, this.interval);\n",
       "}\n",
       "\n",
       "ScrubberWidget.prototype.reverse_animation = function() {\n",
       "  this.pause_animation();\n",
       "  this.direction = -1;\n",
       "  var t = this;\n",
       "  if (!this.timer) this.timer = setInterval(function(){t.anim_step_reverse();}, this.interval);\n",
       "}\n",
       "\n",
       "function extend(destination, source) {\n",
       "  for (var k in source) {\n",
       "    if (source.hasOwnProperty(k)) {\n",
       "      destination[k] = source[k];\n",
       "    }\n",
       "  }\n",
       "  return destination;\n",
       "}\n",
       "\n",
       "function update_widget(widget, values) {\n",
       "  if (widget.hasClass(\"ui-slider\")) {\n",
       "    widget.slider('option', {\n",
       "      min: 0,\n",
       "      max: values.length-1,\n",
       "      dim_vals: values,\n",
       "      value: 0,\n",
       "      dim_labels: values\n",
       "\t})\n",
       "    widget.slider('option', 'slide').call(widget, event, {value: 0})\n",
       "  } else {\n",
       "    widget.empty();\n",
       "    for (var i=0; i<values.length; i++){\n",
       "      widget.append($(\"<option>\", {\n",
       "        value: i,\n",
       "        text: values[i]\n",
       "      }))\n",
       "    };\n",
       "    widget.data('values', values);\n",
       "    widget.data('value', 0);\n",
       "    widget.trigger(\"change\");\n",
       "  };\n",
       "}\n",
       "\n",
       "// Define MPL specific subclasses\n",
       "function MPLSelectionWidget() {\n",
       "    SelectionWidget.apply(this, arguments);\n",
       "}\n",
       "\n",
       "function MPLScrubberWidget() {\n",
       "    ScrubberWidget.apply(this, arguments);\n",
       "}\n",
       "\n",
       "// Let them inherit from the baseclasses\n",
       "MPLSelectionWidget.prototype = Object.create(SelectionWidget.prototype);\n",
       "MPLScrubberWidget.prototype = Object.create(ScrubberWidget.prototype);\n",
       "\n",
       "// Define methods to override on widgets\n",
       "var MPLMethods = {\n",
       "    init_slider : function(init_val){\n",
       "        if(this.load_json) {\n",
       "            this.from_json()\n",
       "        } else {\n",
       "            this.update_cache();\n",
       "        }\n",
       "        this.update(0);\n",
       "        if(this.mode == 'nbagg') {\n",
       "            this.set_frame(init_val, 0);\n",
       "        }\n",
       "    },\n",
       "    populate_cache : function(idx){\n",
       "        var cache_id = \"_anim_img\"+this.id+\"_\"+idx;\n",
       "        this.cache[idx].html(this.frames[idx]);\n",
       "        if (this.embed) {\n",
       "            delete this.frames[idx];\n",
       "        }\n",
       "    },\n",
       "    process_msg : function(msg) {\n",
       "        if (!(this.mode == 'nbagg')) {\n",
       "            var data = msg.content.data;\n",
       "            this.frames[this.current] = data;\n",
       "            this.update_cache(true);\n",
       "            this.update(this.current);\n",
       "        }\n",
       "    }\n",
       "}\n",
       "// Extend MPL widgets with backend specific methods\n",
       "extend(MPLSelectionWidget.prototype, MPLMethods);\n",
       "extend(MPLScrubberWidget.prototype, MPLMethods);\n",
       "</script>\n",
       "\n",
       "\n",
       "<link rel=\"stylesheet\" href=\"https://code.jquery.com/ui/1.10.4/themes/smoothness/jquery-ui.css\">\n",
       "<style>div.hololayout {\n",
       "    display: flex;\n",
       "    align-items: center;\n",
       "    margin: 0;\n",
       "}\n",
       "\n",
       "div.holoframe {\n",
       "\twidth: 75%;\n",
       "}\n",
       "\n",
       "div.holowell {\n",
       "    display: flex;\n",
       "    align-items: center;\n",
       "    margin: 0;\n",
       "}\n",
       "\n",
       "form.holoform {\n",
       "    background-color: #fafafa;\n",
       "    border-radius: 5px;\n",
       "    overflow: hidden;\n",
       "\tpadding-left: 0.8em;\n",
       "    padding-right: 0.8em;\n",
       "    padding-top: 0.4em;\n",
       "    padding-bottom: 0.4em;\n",
       "}\n",
       "\n",
       "div.holowidgets {\n",
       "    padding-right: 0;\n",
       "\twidth: 25%;\n",
       "}\n",
       "\n",
       "div.holoslider {\n",
       "    min-height: 0 !important;\n",
       "    height: 0.8em;\n",
       "    width: 60%;\n",
       "}\n",
       "\n",
       "div.holoformgroup {\n",
       "    padding-top: 0.5em;\n",
       "    margin-bottom: 0.5em;\n",
       "}\n",
       "\n",
       "div.hologroup {\n",
       "    padding-left: 0;\n",
       "    padding-right: 0.8em;\n",
       "    width: 50%;\n",
       "}\n",
       "\n",
       ".holoselect {\n",
       "    width: 92%;\n",
       "    margin-left: 0;\n",
       "    margin-right: 0;\n",
       "}\n",
       "\n",
       ".holotext {\n",
       "    width: 100%;\n",
       "    padding-left:  0.5em;\n",
       "    padding-right: 0;\n",
       "}\n",
       "\n",
       ".holowidgets .ui-resizable-se {\n",
       "\tvisibility: hidden\n",
       "}\n",
       "\n",
       ".holoframe > .ui-resizable-se {\n",
       "\tvisibility: hidden\n",
       "}\n",
       "\n",
       ".holowidgets .ui-resizable-s {\n",
       "\tvisibility: hidden\n",
       "}\n",
       "</style>\n",
       "\n",
       "\n",
       "<div class=\"logo-block\">\n",
       "<img src='data:image/png;base64,iVBORw0KGgoAAAANSUhEUgAAAEAAAABACAYAAACqaXHeAAAABHNCSVQICAgIfAhkiAAAAAlwSFlz\n",
       "AAAB+wAAAfsBxc2miwAAABl0RVh0U29mdHdhcmUAd3d3Lmlua3NjYXBlLm9yZ5vuPBoAAA6zSURB\n",
       "VHic7ZtpeFRVmsf/5966taWqUlUJ2UioBBJiIBAwCZtog9IOgjqACsogKtqirT2ttt069nQ/zDzt\n",
       "tI4+CrJIREFaFgWhBXpUNhHZQoKBkIUASchWla1S+3ar7r1nPkDaCAnZKoQP/D7mnPOe9/xy76n3\n",
       "nFSAW9ziFoPFNED2LLK5wcyBDObkb8ZkxuaoSYlI6ZcOKq1eWFdedqNzGHQBk9RMEwFAASkk0Xw3\n",
       "ETacDNi2vtvc7L0ROdw0AjoSotQVkKSvHQz/wRO1lScGModBFbDMaNRN1A4tUBCS3lk7BWhQkgpD\n",
       "lG4852/+7DWr1R3uHAZVQDsbh6ZPN7CyxUrCzJMRouusj0ipRwD2uKm0Zn5d2dFwzX1TCGhnmdGo\n",
       "G62Nna+isiUqhkzuKrkQaJlPEv5mFl2fvGg2t/VnzkEV8F5ioioOEWkLG86fvbpthynjdhXYZziQ\n",
       "x1hC9J2NFyi8vCTt91Fh04KGip0AaG9zuCk2wQCVyoNU3Hjezee9bq92duzzTmxsRJoy+jEZZZYo\n",
       "GTKJ6SJngdJqAfRzpze0+jHreUtPc7gpBLQnIYK6BYp/uGhw9YK688eu7v95ysgshcg9qSLMo3JC\n",
       "4jqLKQFBgdKDPoQ+Pltb8dUyQLpeDjeVgI6EgLIQFT5tEl3rn2losHVsexbZ3EyT9wE1uGdkIPcy\n",
       "BGxn8QUq1QrA5nqW5i2tLqvrrM9NK6AdkVIvL9E9bZL/oyfMVd/jqvc8LylzRBKDJSzIExwhQzuL\n",
       "QYGQj4rHfFTc8mUdu3E7yoLtbTe9gI4EqVgVkug2i5+uXGo919ixbRog+3fTbQ8qJe4ZOYNfMoTI\n",
       "OoshUNosgO60AisX15aeI2PSIp5KiFLI9ubb1vV3Qb2ltwLakUCDAkWX7/nHKRmmGIl9VgYsUhJm\n",
       "2NXjKYADtM1ygne9QQDIXlk49FBstMKx66D1v4+XuQr7vqTe0VcBHQlRWiOCbmmSYe2SqtL6q5rJ\n",
       "zsTb7lKx3FKOYC4DoqyS/B5bvLPxvD9Qtf6saxYLQGJErmDOdOMr/zo96km1nElr8bmPOBwI9COv\n",
       "HnFPRIwmkSOv9kcAS4heRsidOkpeWBgZM+UBrTFAXNYL5Vf2ii9c1trNzpYdaoVil3WIc+wdk+gQ\n",
       "noie3ecCcxt9ITcLAPWt/laGEO/9U6PmzZkenTtsSMQ8uYywJVW+grCstAvCIaAdArAsIWkRDDs/\n",
       "KzLm2YcjY1Lv0UdW73HabE9n6V66cxSzfEmuJssTpKGVp+0vHq73FwL46eOjpMpbRAnNmJFrGJNu\n",
       "Ukf9Yrz+3rghiumCKNXXWPhLYcjxGsIpoCMsIRoFITkW8AuyM8jC1+/QLx4bozCEJIq38+1rtpR6\n",
       "V/yzb8eBlRb3fo5l783N0CWolAzJHaVNzkrTzlEp2bQ2q3TC5gn6wpnoQAmwSiGh2GitnTmVMc5O\n",
       "UyfKWUKCIsU7+fZDKwqdT6DDpvkzAX4/+AMFjk0tDp5GRXLpQ2MUmhgDp5gxQT8+Y7hyPsMi8uxF\n",
       "71H0oebujHALECjFKaW9Lm68n18wXp2kVzIcABytD5iXFzg+WVXkegpAsOOYziqo0OkK76GyquC3\n",
       "ltZAzMhhqlSNmmWTE5T6e3IN05ITFLM4GdN0vtZ3ob8Jh1NAKXFbm5PtLU/eqTSlGjkNAJjdgn/N\n",
       "aedXa0tdi7+t9G0FIF49rtMSEgAs1kDLkTPO7ebm4IUWeyh1bKomXqlgMG6kJmHcSM0clYLJ8XtR\n",
       "1GTnbV3F6I5wCGikAb402npp1h1s7LQUZZSMIfALFOuL3UUrfnS8+rez7v9qcold5tilgHbO1fjK\n",
       "9ubb17u9oshxzMiUBKXWqJNxd+fqb0tLVs4lILFnK71H0Ind7uiPgACVcFJlrb0tV6DzxqqTIhUM\n",
       "CwDf1/rrVhTa33/3pGPxJYdQ2l2cbgVcQSosdx8uqnDtbGjh9SlDVSMNWhlnilfqZk42Th2ZpLpf\n",
       "xrHec5e815zrr0dfBZSwzkZfqsv+1FS1KUknUwPARVvItfKUY+cn57yP7qv07UE3p8B2uhUwLk09\n",
       "e0SCOrK+hbdYHYLjRIl71wWzv9jpEoeOHhGRrJAzyEyNiJuUqX0g2sBN5kGK6y2Blp5M3lsB9Qh4\n",
       "y2Ja6x6+i0ucmKgwMATwhSjdUu49tKrQ/pvN5d53ml2CGwCmJipmKjgmyuaXzNeL2a0AkQ01Th5j\n",
       "2DktO3Jyk8f9vcOBQHV94OK+fPumJmvQHxJoWkaKWq9Vs+yUsbq0zGT1I4RgeH2b5wef7+c7bl8F\n",
       "eKgoHVVZa8ZPEORzR6sT1BzDUAD/d9F78e2Tzv99v8D+fLVTqAKAsbGamKey1Mt9Ann4eH3gTXTz\n",
       "idWtAJ8PQWOk7NzSeQn/OTHDuEikVF1R4z8BQCy+6D1aWRfY0tTGG2OM8rRoPaeIj5ZHzJxszElN\n",
       "VM8K8JS5WOfv8mzRnQAKoEhmt8gyPM4lU9SmBK1MCQBnW4KONT86v1hZ1PbwSXPw4JWussVjtH9Y\n",
       "NCoiL9UoH/6PSu8jFrfY2t36erQHXLIEakMi1SydmzB31h3GGXFDFNPaK8Rme9B79Ixrd0WN+1ij\n",
       "NRQ/doRmuFLBkHSTOm5GruG+pFjFdAmorG4IXH1Qua6ASniclfFtDYt+oUjKipPrCQB7QBQ2lrgP\n",
       "fFzm+9XWUtcqJ3/5vDLDpJ79XHZk3u8nGZ42qlj1+ydtbxysCezrydp6ugmipNJ7WBPB5tydY0jP\n",
       "HaVNzs3QzeE4ZpTbI+ZbnSFPbVOw9vsfnVvqWnirPyCNGD08IlqtYkh2hjZ5dErEQzoNm+6ykyOt\n",
       "Lt5/PQEuSRRKo22VkydK+vvS1XEKlhCJAnsqvcVvH7f/ZU2R67eXbMEGAMiIV5oWZWiWvz5Fv2xG\n",
       "sjqNJQRvn3Rs2lji/lNP19VjAQDgD7FHhujZB9OGqYxRkZxixgRDVlqS6uEOFaJUVu0rPFzctrnF\n",
       "JqijImVp8dEKVWyUXDk92zAuMZ6bFwpBU1HrOw6AdhQgUooChb0+ItMbWJitSo5Ws3IAOGEOtL53\n",
       "0vHZih9sC4vtofZ7Qu6523V/fmGcds1TY3V36pUsBwAbSlxnVh2xLfAD/IAIMDf7XYIkNmXfpp2l\n",
       "18rkAJAy9HKFaIr/qULkeQQKy9zf1JgDB2uaeFNGijo5QsUyacNUUTOnGO42xSnv4oOwpDi1zYkc\n",
       "efUc3I5Gk6PhyTuVKaOGyLUAYPGIoY9Pu/atL/L92+4q9wbflRJ2Trpm/jPjdBtfnqB/dIThcl8A\n",
       "KG7hbRuKnb8qsQsVvVlTrwQAQMUlf3kwJI24Z4JhPMtcfng5GcH49GsrxJpGvvHIaeem2ma+KSjQ\n",
       "lIwUdYyCY8j4dE1KzijNnIP2llF2wcXNnsoapw9XxsgYAl6k+KzUXbi2yP3KR2ecf6z3BFsBICdW\n",
       "nvnIaG3eHybqX7vbpEqUMT+9OL4Qpe8VON7dXuFd39v19FoAABRVePbGGuXTszO0P7tu6lghUonE\n",
       "llRdrhArLvmKdh9u29jcFiRRkfLUxBiFNiqSU9icoZQHo5mYBI1MBgBH6wMNb+U7Pnw337H4gi1Y\n",
       "ciWs+uks3Z9fztUvfzxTm9Ne8XXkvQLHNytOOZeiD4e0PgkAIAYCYknKUNUDSXEKzdWNpnil7r4p\n",
       "xqkjTarZMtk/K8TQ6Qve78qqvXurGwIJqcOUKfUWHsm8KGvxSP68YudXq4pcj39X49uOK2X142O0\n",
       "Tz5/u/7TVybqH0rSya6ZBwD21/gubbrgWdDgEOx9WUhfBaC2ibcEBYm7a7x+ukrBMNcEZggyR0TE\n",
       "T8zUPjikQ4VosQZbTpS4vqizBKvqmvjsqnpfzaZyx9JPiz1/bfGKdgD45XB1zoIMzYbfTdS/NClB\n",
       "Gct0USiY3YL/g0LHy/uq/Ef6uo5+n0R/vyhp17Klpge763f8rMu6YU/zrn2nml+2WtH+Z+5IAAFc\n",
       "2bUTdTDOSNa9+cQY7YLsOIXhevEkCvzph7a8laecz/Un/z4/Ae04XeL3UQb57IwU9ZDr9UuKVajv\n",
       "nxp1+1UVIo/LjztZkKH59fO3G/JemqCfmaCRqbqbd90ZZ8FfjtkfAyD0J/9+C2h1hDwsSxvGjNDc\n",
       "b4zk5NfrSwiQblLHzZhg+Jf4aPlUwpDqkQqa9nimbt1/TDH8OitGMaQnj+RJS6B1fbF7SY1TqO5v\n",
       "/v0WAADl1f7zokgS7s7VT2DZ7pegUjBM7mjtiDZbcN4j0YrHH0rXpCtY0qPX0cVL0rv5jv/ZXend\n",
       "0u/EESYBAFBU4T4Qa5TflZOhTe7pmKpaP8kCVUVw1+yhXfJWvn1P3hnXi33JsTN6PnP3hHZ8Z3/h\n",
       "aLHzmkNPuPj7Bc/F/Q38CwjTpSwQXgE4Vmwry9tpfq/ZFgqFMy4AVDtCvi8rvMvOmv0N4YwbVgEA\n",
       "sPM72/KVnzfspmH7HQGCRLG2yL1+z8XwvPcdCbsAANh+xPzstgMtxeGKt+6MK3/tacfvwhWvIwMi\n",
       "oKEBtm0H7W+UVfkc/Y1V0BhoPlDr/w1w/eu1vjIgAgDg22OtX6/eYfnEz/focrZTHAFR+PSs56/7\n",
       "q32nwpjazxgwAQCwcU/T62t3WL7r6/jVRa6/byp1rei+Z98ZUAEAhEPHPc8fKnTU9nbgtnOe8h0l\n",
       "9hcGIqmODLQAHCy2Xti6v/XNRivf43f4fFvIteu854+VHnR7q9tfBlwAAGz+pnndB9vM26UebAe8\n",
       "SLHujPOTPVW+rwY+sxskAAC2HrA8t2Vvc7ffP1r9o+vwR2dcr92InIAbKKC1FZ5tB1tf+/G8p8sv\n",
       "N/9Q5zd/XR34LYCwV5JdccMEAMDBk45DH243r/X4xGvqxFa/GNpS7n6rwOwNWwHVE26oAADYurf1\n",
       "zx/utOzt+DMKYM0p17YtZZ5VNzqfsB2HewG1WXE8PoZ7gOclbTIvynZf9JV+fqZtfgs/8F/Nu5rB\n",
       "EIBmJ+8QRMmpU7EzGRsf2FzuePqYRbzh/zE26EwdrT10f6r6o8HOYzCJB9Dpff8tbnGLG8L/A/WE\n",
       "roTBs2RqAAAAAElFTkSuQmCC'\n",
       "     style='height:25px; border-radius:12px; display: inline-block; float: left; vertical-align: middle'></img>\n",
       "\n",
       "\n",
       "\n",
       "\n",
       "  <img src='data:image/png;base64,iVBORw0KGgoAAAANSUhEUgAAACAAAAAgCAYAAABzenr0AAAABHNCSVQICAgIfAhkiAAAAAlwSFlz\n",
       "AAAFMAAABTABZarKtgAAABl0RVh0U29mdHdhcmUAd3d3Lmlua3NjYXBlLm9yZ5vuPBoAAArNSURB\n",
       "VFiFnVd5VFNXGv/ee0kgGyQhbFoXIKCFYEXEDVErTucMoKUOWA/VLsNSLPQgFTOdyrHPiIp1lFIQ\n",
       "OlaPShEG3EpPcQmISCuV1bQ1CLKIULeQhJA9JO+9+UMT0x5aPfOdc895373f/e7v/t537/ddBF5Q\n",
       "JBIJl81mJwCACEVRQBCEQhAEAQCgnghCURRCkmS7Wq2+WlJSYn0Rv8jzDHAcD0EQJIVGo5mFQuGF\n",
       "jIyMu39kq1KpkOrq6gU6nS6aIAiGzWY7VVBQ0P9/AcjNzWXy+fxcOp2uiY+Przm0d6+n8dblv/Fo\n",
       "kzM4SzYfPlRePvFnjnt6ehh1dXVv2mw2nlar/byoqMj8wgBwHBchCJIZEhJSeu1yHVi7vtu02t8+\n",
       "NykQ7BMWoOUMhXQsXLv5IQAwSJJEEASxcDicoeTk5DtCoZBy9XX69Gnv3t7ebJIky3EcH3guAKlU\n",
       "GoGiaOKWLVsOvhs7/9XXPMde3/IyIFbMnaPDuD5AUdQuOf2XlD0npTExMWYAgNbWVpZcLg8xGAzB\n",
       "JEnSvby82tPT052LaTQatLy8fBtJkt/s3Lnz5h8CwHFcRKPRNu/YsePAjh072KTs0IGCxRg8RgUB\n",
       "TGpSx6cmHgMAfNqN6Xa1GvJ/D35gYAAViURkcXHxUrPZHDRv3rxv4uLiDI7xPXv2bLdYLBUFBQWD\n",
       "jj7M8ZGbm8tkMpmSrKysQiaTScXGxtpqL7dManT6tcu5mgEWWJyOhicozpk+c3NsbKzNFcBbWWEf\n",
       "1Td9/upA30i3ZJv0h8bGxiSFQmFcuHDhOACAWCy+0d3dvX3lypUtzc3N9t8AiIuLk4SEhByLiooy\n",
       "AgAcO3ZsNlPgH3Cttb35JZo+bCYXIQAA9MDiUW7sWS1KN687w6Mera2twa2trfMvXboUOS28Pyb1\n",
       "U08McRtf/sXBSmt5cc35pqamVQqFwhoZGallMpnU/fv3e7RaberVq1d/AABAn1IfQqfTNRs3blQB\n",
       "AFy+fJk7Nja2XCKRnD3dNSorusPq6NfTPR+gPiEEoLRFXO1tS2+zavv27ReftjNttyr0S1/j0rUP\n",
       "PEJQwNwQYGgAACQSyXmNRhMtk8lYAAApKSlKDMP0+fn5QU4ACIKkxMfH1zjYuHnz5uspKSlOfdX7\n",
       "u68fvOePcCzKQR4YVCgATGfa/F3pnzaHWOAXSDyaMCqH2+r8VXErP3D+snXr1tV2dXW94dATExOr\n",
       "6XT6JgAAVCKRcDEMM4WHh9sAAHJyUqNu//wDymKx7AAAVVVVPiaTKXxByrYMvBsxEMSTwPXhuL+8\n",
       "e/fu9fv371+flvbemogYNz+TnsBOFEwMFO8/KzEYDKFVVVX+AAChoaGT7u7ud48ePRro0DEMs+bl\n",
       "5bFRNpud4O3tfdGBzq5uy/5wTUPM/q2zC9atmbVqeHg4Pi0t7WxGRoZFH5rw76I7LI8HqHfwPL7d\n",
       "rfVagzw1NfW81t4ePUfsP/OrnWZ6fPSuUqFQSEkkkrOjo6OvuQR5q0ajiXLoPj4+lzgcTjwKACLH\n",
       "9SqXy2kzhBO8haGo+UA2wZW+p880DxeveGt9aHx9fT09ctlq3sC0NT9e6xsbjuZblSxl7wKtVotM\n",
       "m6PnXvlmZJBtX91CEMQsxyJsNlteXl4udugIghAajQYFAEhPTx9AEGQOimGY8y4oLt63KlJkdB4t\n",
       "P282Z/c/dPrDH04ktJ9P2tfWXP3+2o1vHzunEp6Xq0lsGt08KzUrcSGTQ3n3XeefLCs5UqnT6Rap\n",
       "VCoEACA7O/snvV4f5gJooLa2NsihoygKKEVRzquTND2OCpttGXdG1tOxwOlgzdvE9v30rV+m3W5I\n",
       "2jfJNQmLH85QUUzPNTwvkAx0+vVGhq2/VV9fT+dyuZ01NTXOXQOA3fGxevXq2waDYY5r8KIoij5b\n",
       "jzB5Cz2oKdOo0erOm+1tVuVtBMZXElNMRJR1fvvjx9iPLQ/RjpuB0Xu/Vp7YmH1864YNG3oNBkPw\n",
       "VD7mzp1rJUnSzZUBmqsBggAgGFC/n6jVA+3WoN3tu1Gg39cg2tEx1Cg3CIJHsclxnl2HRorMN8Z0\n",
       "fRW+vr7GJ36Q56Z5h9BIknzGAMJWtvdQYs0EZe3/FSwqk5tpXEMb1JoYD+n8xRdQJl/fMPEgzKhS\n",
       "L40KCD7lGzg92qIyovpb3y/msT2un2psvFpWVvYyl8vtc1nDSXFXV5c7iqLOtEyS5LNBAADfWeKm\n",
       "Ly4uuvR1++sfv51/P5sfnHm2/Iy+mBmwsaHJbpt+Q0jHSS7TZ/PSNVkNJ/973OxtemD1s91CPb12\n",
       "h9MfvZsk5meo1eqo5ORkxTNWn7HR1tY2l8PhOAsUiqIolCRJcETtv/61qzNySYK5trZ2TCgUUiwW\n",
       "S1FSUhLR+bA/kAzwXcAbHa/cFhrTXrJ/v+7IkSPu3Je4Xm5eboJv2wba5QbO5fQwxhsP679Y+nFO\n",
       "jgAAoKSkJILFYjnBGI1G0YYNGwYBnqRoiqIQlKKojurq6gUAAAKBgKQoiuGYkJWVpTCZTOKmI1Xd\n",
       "HwnDcm+cOnOMw+H0FxYWbqpvqv/r9EV+bky+O+/QoUPiqJRt9JphTLFHbKBCR87tWL9EPN9oNIZn\n",
       "ZWUpXHaMCQQCEgCgsrIyEgBuoGq1+qpOp4t2GPH5/BvFxcVLHXpgYGDD8ePH/56Xl2cCAMjMzOxP\n",
       "S0s7pWfow4RCbz/fAF9RT0+P9yeffHJySSqev+9nxLD1FaAlTR8vlJ8vxxzsFhUVLRMIBB0OvwaD\n",
       "YRlFUdfQkpISK0EQ9J6eHgYAQEZGxl2z2Rw0MjJCBwBITk5+xOVyfzpw4ECSw5lQKKQIbxtJm4EN\n",
       "8eZ7jPz0oNv+dK5FG/jq54eH+IFr/S1KabBy0UerAvI+++wzD4vFEpCWljYEACCTyVh2ux3FcXwS\n",
       "BQCw2WxVdXV1bzrQRURE1FVVVTn1zMzM/pkzZ35/9OjRd0pLS19RqVQIy4/tCwDgOcPTQvFQEQBA\n",
       "aWnpK0ERK2LbyVllN341GUJ4YDu8zD5bKyur7O+85tx9Z2fnO1ar9QjA04KkpaVFs2LFir8olcq7\n",
       "YWFhJpFINNnX16drbGyMjY6Ovg0AIBaLjcuXL5d3d3d7XbhwIW704b3F479MeD1qVfJ5Og/bvb4R\n",
       "LwaDMZabm9uwflNa/z/3HOIv5NsDEK7XS7FeevXPvYNLvm5S/GglCK5KpZorlUobXE8g5ObmMqVS\n",
       "6UG1Wu1BURSHoijOiRMnwgoLC7coFAqBo+9Fm0KhEKStmvvto3TeucFN7pVJYbytarXaQyqVHsRx\n",
       "3N15TF1BuBaljr4rV66wOzo63mAymXdzcnKuwwtIUVHRMqvVGkgQxMV7NXvyJijGvcNXB/7z5Zdf\n",
       "bicI4gSO40NTAgD4bVnuODIAT2pElUq1FEEQO4fD6QsPD++fqixHEATj8/ntjoCrqKhwS0hIsJWV\n",
       "leURBHEOx3G563pT3tn5+flBDAbjg6CgoMMpKSlK17GhoSFMJpMFPk04DJIkEQzDzCwW6+5UD5Oa\n",
       "mhrfO3fufECS5GHXnf8pAAAAHMfdURTdimGYPjExsTo0NHTyj2ynEplMxurs7HyHIAiKJMlSHMct\n",
       "U9k9N2vl5+cH0en0TRiGWX18fC65vnh+LxqNBq2oqFhgMpmi7XY7arVaj+zdu/fxn/l/4bSZl5fH\n",
       "5nK5CQAQMtXznCRJePpEbwOAZhzHX4ix/wHzzC/tu64gcwAAAABJRU5ErkJggg=='\n",
       "       style='height:15px; border-radius:12px; display: inline-block; float: left'></img>\n",
       "  \n",
       "\n",
       "\n",
       "</div>\n"
      ],
      "text/plain": [
       "<IPython.core.display.HTML object>"
      ]
     },
     "metadata": {},
     "output_type": "display_data"
    },
    {
     "name": "stderr",
     "output_type": "stream",
     "text": [
      "/Users/dalek/anaconda2/lib/python2.7/site-packages/yt/fields/local_fields.py:46: UserWarning: Because 'sampling_type' not specified, yt will assume a cell 'sampling_type'\n",
      "  warnings.warn(\"Because 'sampling_type' not specified, yt will \"\n"
     ]
    }
   ],
   "source": [
    "import holoviews as hv\n",
    "import holoviews.util\n",
    "#hv.extension('bokeh')\n",
    "from matplotlib import colors\n",
    "hv.extension('matplotlib')\n",
    "%output fig='pdf'\n",
    "\n",
    "import numpy as np\n",
    "import cPickle\n",
    "import yt\n",
    "import matplotlib.pyplot as pl\n",
    "from astropy.cosmology import WMAP9 as cosmo\n",
    "from astropy.table import Table\n",
    "from emission_functions import *\n",
    "import pandas as pd\n",
    "import datashader as dshade\n",
    "import matplotlib.pyplot as plt\n",
    "\n",
    "from holoviews.operation.datashader import aggregate, datashade, dynspread, shade\n",
    "from holoviews.operation import decimate\n",
    "from holoviews.operation import histogram\n",
    "from holoviews import Store"
   ]
  },
  {
   "cell_type": "code",
   "execution_count": 2,
   "metadata": {
    "collapsed": true
   },
   "outputs": [],
   "source": [
    "def make_radius_array(rb_width,frbarr):\n",
    "    box_size = rb_width/2.\n",
    "    num_cells = frbarr.shape[0]\n",
    "    xL = np.linspace(-1*box_size,box_size,num_cells)\n",
    "    xL2,yL = np.meshgrid(xL,xL)\n",
    "    r = abs(xL2+1j*yL)\n",
    "    return r "
   ]
  },
  {
   "cell_type": "markdown",
   "metadata": {},
   "source": [
    "## Perfecting Radial Profiles with Holoviews + Datashader"
   ]
  },
  {
   "cell_type": "code",
   "execution_count": 3,
   "metadata": {
    "collapsed": false
   },
   "outputs": [
    {
     "name": "stderr",
     "output_type": "stream",
     "text": [
      "yt : [INFO     ] 2018-02-15 16:15:12,996 Parameters: current_time              = 154.801032717\n",
      "yt : [INFO     ] 2018-02-15 16:15:12,997 Parameters: domain_dimensions         = [256 256 256]\n",
      "yt : [INFO     ] 2018-02-15 16:15:12,998 Parameters: domain_left_edge          = [ 0.  0.  0.]\n",
      "yt : [INFO     ] 2018-02-15 16:15:12,999 Parameters: domain_right_edge         = [ 1.  1.  1.]\n",
      "yt : [INFO     ] 2018-02-15 16:15:13,000 Parameters: cosmological_simulation   = 1\n",
      "yt : [INFO     ] 2018-02-15 16:15:13,001 Parameters: current_redshift          = 1.99999968795\n",
      "yt : [INFO     ] 2018-02-15 16:15:13,002 Parameters: omega_lambda              = 0.715\n",
      "yt : [INFO     ] 2018-02-15 16:15:13,003 Parameters: omega_matter              = 0.285\n",
      "yt : [INFO     ] 2018-02-15 16:15:13,004 Parameters: hubble_constant           = 0.695\n"
     ]
    },
    {
     "name": "stdout",
     "output_type": "stream",
     "text": [
      "using this loc:      col1       col2     col3     col4     col5     col6     col7   col8\n",
      "------------- -------- -------- -------- -------- -------- -------- ----\n",
      "2.04999996364 0.493091 0.488119 0.501099 0.495091 0.490119 0.503099   10\n"
     ]
    }
   ],
   "source": [
    "base = \"/Users/dalek/data/Molly/nref11n_nref10f_refine200kpc_z4to2\"\n",
    "fn = base+\"/RD0020/RD0020\"\n",
    "lines = ['HAlpha','OVI','CIV','CIII_977','SiIV']\n",
    "track_name = base+\"/halo_track\"\n",
    "args = fn.split('/')\n",
    "\n",
    "ds = yt.load(fn)\n",
    "track = Table.read(track_name, format='ascii')\n",
    "track.sort('col1')\n",
    "rb,rb_center,rb_width = get_refine_box(ds,ds.current_redshift,track)\n",
    "redshift = ds.current_redshift\n",
    "\n",
    "box_width = ds.arr(rb_width,'code_length').in_units('kpc')"
   ]
  },
  {
   "cell_type": "code",
   "execution_count": null,
   "metadata": {
    "collapsed": false
   },
   "outputs": [],
   "source": [
    "natural_base = '_nref11_RD0020_'\n",
    "refined_base = '_nref11n_nref10f_refine200kpc_z4to2_RD0020_'\n",
    "box_size = ds.arr(rb_width,'code_length').in_units('kpc')\n",
    "res_list = [0.2,1,5,10]\n",
    "lines = ['CIII_977','OVI']"
   ]
  },
  {
   "cell_type": "code",
   "execution_count": null,
   "metadata": {
    "collapsed": false
   },
   "outputs": [],
   "source": [
    "field = 'Emission_CIII_977'\n",
    "fileinNAT = 'frbs/frb'+'x'+natural_base+field+'_forcedres.cpkl'\n",
    "fileinREF = 'frbs/frb'+'x'+refined_base+field+'_forcedres.cpkl'\n",
    "\n",
    "frbNAT = cPickle.load(open(fileinNAT,'rb'))\n",
    "frbREF = cPickle.load(open(fileinREF,'rb'))\n",
    "\n",
    "frbNAT = np.log10(frbNAT/(1.+redshift)**4)\n",
    "frbREF = np.log10(frbREF/(1.+redshift)**4)\n",
    "\n",
    "r = make_radius_array(box_width,frbNAT)"
   ]
  },
  {
   "cell_type": "code",
   "execution_count": null,
   "metadata": {
    "collapsed": false
   },
   "outputs": [],
   "source": [
    "emisREF = frbREF.flatten()\n",
    "dist = r.flatten()\n",
    "detect_prob = np.chararray(np.size(dist), 4)\n",
    "detect_prob[emisREF >= 3] = 'definite'\n",
    "detect_prob[((emisREF < 3) & (emisREF >= 2))] = 'probable'\n",
    "detect_prob[((emisREF < 2) & (emisREF >= 1))] = 'possible'\n",
    "detect_prob[emisREF < 1] = 'nope'\n",
    "dfREF = pd.DataFrame({'dist':dist,'emisREF':emisREF,'detect_prob':detect_prob})\n",
    "dfREF.detec_prob = dfREF.detect_prob.astype('category') \n",
    "\n",
    "#arrH = np.zeros((len(idH),2))\n",
    "#arrH[:,0],arrH[:,1] = dist[idH],emisREF[idH]\n",
    "#arrM = np.zeros((len(idM),2))\n",
    "#arrM[:,0],arrM[:,1] = dist[idM],emisREF[idM]\n",
    "#arrL = np.zeros((len(idL),2))\n",
    "#arrL[:,0],arrL[:,1] = dist[idL],emisREF[idL]\n",
    "#arrN = np.zeros((len(idN),2))\n",
    "#arrN[:,0],arrN[:,1] = dist[idN],emisREF[idN]"
   ]
  },
  {
   "cell_type": "code",
   "execution_count": null,
   "metadata": {
    "collapsed": false
   },
   "outputs": [],
   "source": [
    "print np.unique(dfREF['detect_prob'])"
   ]
  },
  {
   "cell_type": "code",
   "execution_count": null,
   "metadata": {
    "collapsed": false
   },
   "outputs": [],
   "source": [
    "dtest = dist[0:1000]\n",
    "etest = emisREF[0:1000]\n",
    "dfTEST = pd.DataFrame({'dist':dtest,'emisREF':etest})"
   ]
  },
  {
   "cell_type": "code",
   "execution_count": null,
   "metadata": {
    "collapsed": true
   },
   "outputs": [],
   "source": [
    "detect_color_key = {b'nope':'#808080',\n",
    "                    b'poss':'#FF69B4',\n",
    "                    b'prob':'#00CED1',\n",
    "                    b'defi': '#32CD32'} #'#7FFF00'}"
   ]
  },
  {
   "cell_type": "code",
   "execution_count": null,
   "metadata": {
    "collapsed": false,
    "scrolled": true
   },
   "outputs": [],
   "source": [
    "#%%opts RGB [width=820] {+axiswise}\n",
    "\n",
    "sb_point = hv.Points(dfREF,kdims=['dist','emisREF'],label='CIII 977') \n",
    "sb_shade = datashade(sb_point,color_key=detect_color_key,\n",
    "                     aggregator=dshade.count_cat('detect_prob'),y_range=(-10,6),\n",
    "                     dynamic=False).opts(plot=dict(aspect='square'))\n",
    "sb_shade\n",
    "#help(testout)"
   ]
  },
  {
   "cell_type": "code",
   "execution_count": null,
   "metadata": {
    "collapsed": false
   },
   "outputs": [],
   "source": [
    "from holoviews import Store\n",
    "renderer = Store.renderers['matplotlib'].instance(fig='pdf', holomap='gif')\n",
    "renderer.save(sb_shade, 'SBprof_test') "
   ]
  },
  {
   "cell_type": "code",
   "execution_count": null,
   "metadata": {
    "collapsed": false
   },
   "outputs": [],
   "source": [
    "emisNAT = frbNAT.flatten()\n",
    "dist = r.flatten()\n",
    "detect_prob = np.chararray(np.size(dist), 4)\n",
    "detect_prob[emisNAT >= 3] = 'definite'\n",
    "detect_prob[((emisNAT < 3) & (emisNAT >= 2))] = 'probable'\n",
    "detect_prob[((emisNAT < 2) & (emisNAT >= 1))] = 'possible'\n",
    "detect_prob[emisNAT < 1] = 'nope'\n",
    "dfNAT = pd.DataFrame({'dist':dist,'emisREF':emisNAT,'detect_prob':detect_prob})\n",
    "dfNAT.detec_prob = dfNAT.detect_prob.astype('category') "
   ]
  },
  {
   "cell_type": "code",
   "execution_count": null,
   "metadata": {
    "collapsed": false
   },
   "outputs": [],
   "source": [
    "test_plot = hv.Points(dfNAT,kdims=['dist','emisREF'],label='CIII 977') \n",
    "shade2 = datashade(test_plot,color_key=detect_color_key,\n",
    "                   aggregator=dshade.count_cat('detect_prob'),y_range=(-10,6),\n",
    "                   dynamic=False).opts(plot=dict(aspect='square',show_title=False))\n",
    "\n",
    "test2 = (sb_shade+shade2).cols(1)\n",
    "test3 = (sb_shade + sb_shade)\n",
    "test4 = (shade2 + shade2)\n",
    "\n",
    "(test3 + test4).cols(2)"
   ]
  },
  {
   "cell_type": "code",
   "execution_count": null,
   "metadata": {
    "collapsed": false
   },
   "outputs": [],
   "source": [
    "idH,idM,idL,idN = (emisREF >=3),((emisREF >=2) & (emisREF <3)), ((emisREF >=1) & (emisREF <2)),(emisREF <1)\n",
    "eH,dH = emisREF[idH],dist[idH]\n",
    "eM,dM = emisREF[idM],dist[idM]\n",
    "eL,dL = emisREF[idL],dist[idL]\n",
    "eN,dN = emisREF[idN],dist[idN]\n",
    "\n",
    "ptsH = np.vstack((dH, eH)).T\n",
    "ptsM = np.vstack((dM, eM)).T\n",
    "ptsL = np.vstack((dL, eL)).T\n",
    "ptsN = np.vstack((dN, eN)).T"
   ]
  },
  {
   "cell_type": "code",
   "execution_count": null,
   "metadata": {
    "collapsed": false
   },
   "outputs": [],
   "source": []
  },
  {
   "cell_type": "code",
   "execution_count": null,
   "metadata": {
    "collapsed": false
   },
   "outputs": [],
   "source": [
    "test_plot = hv.Points(ptsH,kdims=['dist','emisREF'],label='CIII 977').opts(style=dict(color=detect_color_key['defi']))\n",
    "test_plot = test_plot * hv.Points(ptsM,kdims=['dist','emisREF'],\n",
    "                                  label='CIII 977').opts(style=dict(color=detect_color_key['prob']))\n",
    "test_plot = test_plot * hv.Points(ptsL,kdims=['dist','emisREF'],\n",
    "                                  label='CIII 977').opts(style=dict(color=detect_color_key['poss']))\n",
    "test_plot = test_plot * hv.Points(ptsN,kdims=['dist','emisREF'],\n",
    "                                  label='CIII 977').opts(style=dict(color=detect_color_key['nope']))"
   ]
  },
  {
   "cell_type": "code",
   "execution_count": null,
   "metadata": {
    "collapsed": false
   },
   "outputs": [],
   "source": [
    "test_plot"
   ]
  },
  {
   "cell_type": "markdown",
   "metadata": {
    "collapsed": true
   },
   "source": [
    "## Connecting Emission and HI Properties"
   ]
  },
  {
   "cell_type": "markdown",
   "metadata": {},
   "source": [
    "#### First, let's test out matching pixels from one frb to another. "
   ]
  },
  {
   "cell_type": "code",
   "execution_count": null,
   "metadata": {
    "collapsed": true
   },
   "outputs": [],
   "source": [
    "cmap = colors.ListedColormap(['Gray','HotPink','DarkTurquoise','Chartreuse'])\n",
    "bounds = [-5,1,2,3,5]\n",
    "norm = colors.BoundaryNorm(bounds,cmap.N)"
   ]
  },
  {
   "cell_type": "code",
   "execution_count": null,
   "metadata": {
    "collapsed": true
   },
   "outputs": [],
   "source": [
    "data = cPickle.load(open('frbs/frbx_nref11_RD0020_H_p0_number_density_forcedres.cpkl','rb'))\n",
    "emis = cPickle.load(open('frbs/frbx_nref11_RD0020_Emission_CIII_977_forcedres.cpkl','rb'))\n",
    "#emis = cPickle.load(open('frbs/frbx_nref11_RD0020_Emission_OVI_forcedres.cpkl','rb'))\n",
    "emis = emis/(3.**4)\n",
    "test = np.ma.masked_where((np.log10(emis) > 1.),emis)"
   ]
  },
  {
   "cell_type": "code",
   "execution_count": null,
   "metadata": {
    "collapsed": false
   },
   "outputs": [],
   "source": [
    "fig,ax = plt.subplots(1,2)\n",
    "\n",
    "ax[0].imshow(np.log10(emis),cmap=cmap,norm=norm,vmin=-6,vmax=6)\n",
    "datamasked = data*test.mask\n",
    "ax[1].imshow(np.log10(data),cmap='Greys_r',vmin=12,vmax=23)\n",
    "ax[1].imshow(np.log10(datamasked),vmin=16,vmax=22,cmap='GnBu_r')\n",
    "plt.show()"
   ]
  },
  {
   "cell_type": "code",
   "execution_count": null,
   "metadata": {
    "collapsed": false
   },
   "outputs": [],
   "source": [
    "data = cPickle.load(open('frbs/frbx_nref11_RD0020_H_p0_number_density_10kpc.cpkl','rb'))\n",
    "emis = cPickle.load(open('frbs/frbx_nref11_RD0020_Emission_CIII_977_10kpc.cpkl','rb'))\n",
    "#emis = cPickle.load(open('frbs/frbx_nref11_RD0020_Emission_OVI_forcedres.cpkl','rb'))\n",
    "test = np.ma.masked_where((np.log10(emis) > 2.),emis)\n",
    "\n",
    "fig,ax = plt.subplots(1,2)\n",
    "\n",
    "ax[0].imshow(np.log10(emis),cmap=cmap,norm=norm,vmin=-6,vmax=6)\n",
    "datamasked = data*test.mask\n",
    "ax[1].imshow(np.log10(data),cmap='bone',vmin=12,vmax=23)\n",
    "ax[1].imshow(np.log10(datamasked),vmin=16,vmax=22,cmap='GnBu_r')\n",
    "plt.show()"
   ]
  },
  {
   "cell_type": "markdown",
   "metadata": {},
   "source": [
    "Well now that I'm seeing these next to each other, I like them a lot less than I thought I would. Maybe if I try with the forced refinement it'll make more of an impact for me?\n",
    "\n",
    "Ehh I'm still not really sure if these are necessary. Can show Molly and Jason though. At any rate, they could be interesting for a talk if not the paper."
   ]
  },
  {
   "cell_type": "code",
   "execution_count": null,
   "metadata": {
    "collapsed": false
   },
   "outputs": [],
   "source": [
    "data = cPickle.load(open('frbs/frbx_nref11n_nref10f_refine200kpc_z4to2_RD0020_H_p0_number_density_forcedres.cpkl','rb'))\n",
    "#emis = cPickle.load(open('frbs/frbx_nref11n_nref10f_refine200kpc_z4to2_RD0020_Emission_CIII_977_forcedres.cpkl','rb'))\n",
    "emis = cPickle.load(open('frbs/frbx_nref11n_nref10f_refine200kpc_z4to2_RD0020_Emission_OVI_forcedres.cpkl','rb'))\n",
    "emis = emis/(3.**4)\n",
    "test = np.ma.masked_where((np.log10(emis) > 1.),emis)\n",
    "\n",
    "fig,ax = plt.subplots(1,2)\n",
    "\n",
    "out1 = ax[0].imshow(np.log10(emis),cmap=cmap,norm=norm,vmin=-6,vmax=6)\n",
    "#plt.colorbar(out1)\n",
    "datamasked = data*test.mask\n",
    "ax[1].imshow(np.log10(data),cmap='Greys_r',vmin=12,vmax=23)\n",
    "out2 = ax[1].imshow(np.log10(datamasked),vmin=16,vmax=22,cmap='GnBu_r')\n",
    "#plt.colorbar(out2)\n",
    "plt.show()"
   ]
  },
  {
   "cell_type": "code",
   "execution_count": null,
   "metadata": {
    "collapsed": false
   },
   "outputs": [],
   "source": [
    "data = cPickle.load(open('frbs/frbx_nref11n_nref10f_refine200kpc_z4to2_RD0020_H_p0_number_density_10kpc.cpkl','rb'))\n",
    "emis = cPickle.load(open('frbs/frbx_nref11n_nref10f_refine200kpc_z4to2_RD0020_Emission_CIII_977_10kpc.cpkl','rb'))\n",
    "#emis = cPickle.load(open('frbs/frbx_nref11n_nref10f_refine200kpc_z4to2_RD0020_Emission_OVI_10kpc.cpkl','rb'))\n",
    "emis = emis/(3.**4)\n",
    "test = np.ma.masked_where((np.log10(emis) > 1.),emis)\n",
    "\n",
    "fig,ax = plt.subplots(1,2)\n",
    "\n",
    "ax[0].imshow(np.log10(emis),cmap=cmap,norm=norm,vmin=-6,vmax=6)\n",
    "datamasked = data*test.mask\n",
    "ax[1].imshow(np.log10(data),cmap='Greys_r',vmin=12,vmax=23)\n",
    "ax[1].imshow(np.log10(datamasked),vmin=16,vmax=22,cmap='GnBu_r')\n",
    "plt.show()"
   ]
  },
  {
   "cell_type": "code",
   "execution_count": null,
   "metadata": {
    "collapsed": true
   },
   "outputs": [],
   "source": []
  },
  {
   "cell_type": "code",
   "execution_count": null,
   "metadata": {
    "collapsed": false
   },
   "outputs": [],
   "source": [
    "colHI = cPickle.load(open('frbs/frbx_nref11n_nref10f_refine200kpc_z4to2_RD0020_H_p0_number_density_forcedres.cpkl','rb'))\n",
    "emisCIII = cPickle.load(open('frbs/frbx_nref11n_nref10f_refine200kpc_z4to2_RD0020_Emission_CIII_977_forcedres.cpkl','rb'))\n",
    "emisOVI = cPickle.load(open('frbs/frbx_nref11n_nref10f_refine200kpc_z4to2_RD0020_Emission_OVI_forcedres.cpkl','rb'))\n",
    "emisCIII = np.log10(emisCIII/(3.**4))\n",
    "emisOVI = np.log10(emisOVI/(3.**4))\n",
    "colHI = np.log10(colHI)\n",
    "\n",
    "iOVI = np.where(emisOVI >= 1.)\n",
    "ptshereOVI = np.vstack((colHI[iOVI], emisOVI[iOVI])).T\n",
    "iCIII = np.where(emisCIII >= 1.)\n",
    "ptshereCIII = np.vstack((colHI[iCIII], emisCIII[iCIII])).T\n",
    "\n",
    "pltOVI = hv.Points(ptshereOVI,kdims=['HI column','Emission'])#.opts(style=dict(alpha=0.4))\n",
    "pltCIII = hv.Points(ptshereCIII,kdims=['HI column','Emission'])\n",
    "\n",
    "datashade(pltCIII).opts(plot=dict(aspect='square')) + pltCIII"
   ]
  },
  {
   "cell_type": "markdown",
   "metadata": {
    "collapsed": false
   },
   "source": [
    "One thing that I could try to do is draw the contours, figure out ow to get them returned and then do a hybrid plot of shading within the contour and plotting the points that lie outside it."
   ]
  },
  {
   "cell_type": "code",
   "execution_count": null,
   "metadata": {
    "collapsed": false
   },
   "outputs": [],
   "source": [
    "counts,ybins,xbins,image = plt.hist2d(colHI[iCIII],emisCIII[iCIII],bins=100,cmap='Blues')\n",
    "tout = plt.contour(counts.T,extent=[ybins.min(),ybins.max(),xbins.min(),xbins.max()],linewidths=3,cmap='Reds_r')\n",
    "#plt.contour(counts,extent=[xbins.min(),xbins.max(),ybins.min(),ybins.max()],linewidths=3,color='red')\n",
    "\n",
    "plt.show()"
   ]
  },
  {
   "cell_type": "markdown",
   "metadata": {
    "collapsed": false
   },
   "source": [
    "Buttt turns out getting those contours from matplotlib is so not easy. But in making emission pots for Jason, I refound code from my paper with David where I just used 2D histograms. If I pick a colorbar that doesn't end in white, even the low density points are shown."
   ]
  },
  {
   "cell_type": "code",
   "execution_count": null,
   "metadata": {
    "collapsed": false
   },
   "outputs": [],
   "source": [
    "#colHI,emisOVI,emisCIII = colHI.flat,emisOVI.flat,emisCIII.flat\n",
    "iOVI = np.where(emisOVI >= 1.)\n",
    "colHIw,emisOVIw = colHI[iOVI],emisOVI[iOVI]\n",
    "iCIII = np.where(emisCIII >= 1.)\n",
    "colHIx,emisCIIIx = colHI[iCIII],emisCIII[iCIII]\n",
    "\n",
    "hist, xedges, yedges  = np.histogram2d(colHIw,emisOVIw,bins=80,\n",
    "                                       range=[[14,24],[0.5,7]])\n",
    "plt.imshow(np.log10(hist.T),extent=[14,24,0.5,7],origin='lower')\n",
    "plt.colorbar()\n",
    "plt.show()"
   ]
  },
  {
   "cell_type": "code",
   "execution_count": null,
   "metadata": {
    "collapsed": false
   },
   "outputs": [],
   "source": [
    "print np.min(colHIx),np.max(colHI)\n",
    "print np.min(emisCIIIx),np.max(emisCIIIx)"
   ]
  },
  {
   "cell_type": "code",
   "execution_count": null,
   "metadata": {
    "collapsed": false
   },
   "outputs": [],
   "source": [
    "hist, xedges, yedges  = np.histogram2d(colHIx,emisCIIIx,bins=80,\n",
    "                                       range=[[14,24],[0.5,7]])\n",
    "plt.imshow(np.log10(hist.T),extent=[14,24,0.5,7],origin='lower')\n",
    "plt.colorbar()\n",
    "plt.show()"
   ]
  },
  {
   "cell_type": "code",
   "execution_count": null,
   "metadata": {
    "collapsed": false
   },
   "outputs": [],
   "source": [
    "colHIN = cPickle.load(open('frbs/frbx_nref11_RD0020_H_p0_number_density_forcedres.cpkl','rb'))\n",
    "emisCIIIN = cPickle.load(open('frbs/frbx_nref11_RD0020_Emission_CIII_977_forcedres.cpkl','rb'))\n",
    "emisOVIN = cPickle.load(open('frbs/frbx_nref11_RD0020_Emission_OVI_forcedres.cpkl','rb'))\n",
    "emisCIIIN = np.log10(emisCIIIN/(3.**4))\n",
    "emisOVIN = np.log10(emisOVIN/(3.**4))\n",
    "colHIN = np.log10(colHIN)\n",
    "\n",
    "colHIN,emisOVIN,emisCIIIN = colHIN.flat,emisOVIN.flat,emisCIIIN.flat\n",
    "iOVIN = np.where(emisOVIN >= 1.)\n",
    "colHIwN,emisOVIwN = colHIN[iOVIN],emisOVIN[iOVIN]\n",
    "iCIIIN = np.where(emisCIIIN >= 1.)\n",
    "colHIxN,emisCIIIxN = colHIN[iCIIIN],emisCIIIN[iCIIIN]"
   ]
  },
  {
   "cell_type": "code",
   "execution_count": null,
   "metadata": {
    "collapsed": false
   },
   "outputs": [],
   "source": [
    "hist, xedges, yedges  = np.histogram2d(colHIwN,emisOVIwN,bins=80,\n",
    "                                       range=[[14,24],[0.5,7]])\n",
    "plt.imshow(np.log10(hist.T),extent=[14,24,0.5,7],origin='lower')\n",
    "plt.colorbar()\n",
    "plt.show()"
   ]
  },
  {
   "cell_type": "code",
   "execution_count": null,
   "metadata": {
    "collapsed": false
   },
   "outputs": [],
   "source": [
    "hist, xedges, yedges  = np.histogram2d(colHIxN,emisCIIIxN,bins=80,\n",
    "                                       range=[[14,24],[0.5,7]])\n",
    "plt.imshow(np.log10(hist.T),extent=[14,24,0.5,7],origin='lower')\n",
    "plt.colorbar()\n",
    "plt.show()"
   ]
  },
  {
   "cell_type": "code",
   "execution_count": null,
   "metadata": {
    "collapsed": true
   },
   "outputs": [],
   "source": [
    "ptshereOVIN = np.vstack((colHIN[iOVIN], emisOVIN[iOVIN])).T\n",
    "ptshereCIIIN = np.vstack((colHIN[iCIIIN], emisCIIIN[iCIIIN])).T\n",
    "\n",
    "pltOVIN = hv.Points(ptshereOVIN,kdims=['HI column','Emission'])#.opts(style=dict(alpha=0.4))\n",
    "pltCIIIN = hv.Points(ptshereCIIIN,kdims=['HI column','Emission'])\n",
    "\n"
   ]
  },
  {
   "cell_type": "code",
   "execution_count": null,
   "metadata": {
    "collapsed": false
   },
   "outputs": [],
   "source": [
    "totalCIII = datashade(pltCIII).opts(plot=dict(aspect='square')) + datashade(pltCIIIN,cmap='red').opts(plot=dict(aspect='square'))\n",
    "totalCIII.opts(plot=dict(figsize=[18,18]))"
   ]
  },
  {
   "cell_type": "code",
   "execution_count": null,
   "metadata": {
    "collapsed": true
   },
   "outputs": [],
   "source": [
    "renderer = Store.renderers['matplotlib'].instance(fig='pdf',holomap='gif')\n",
    "renderer.save(totalCIII,'emisCIII_vs_HI')"
   ]
  },
  {
   "cell_type": "code",
   "execution_count": null,
   "metadata": {
    "collapsed": false
   },
   "outputs": [],
   "source": [
    "totalOVI = datashade(pltOVI).opts(plot=dict(aspect='square')) * datashade(pltOVIN,cmap='red').opts(plot=dict(aspect='square'))\n",
    "totalOVI.opts(plot=dict(figsize=[18,18]))"
   ]
  },
  {
   "cell_type": "markdown",
   "metadata": {
    "collapsed": false
   },
   "source": [
    "## Looking at LOS Properties and Kinematics"
   ]
  },
  {
   "cell_type": "markdown",
   "metadata": {
    "collapsed": false
   },
   "source": [
    "First, let's start with a 3D frb and compare that too just shooting a ray through the box with the same position. For the 3D box with the same resolution as the simulation, they should be roughly equal but there may be big differences once the resolution gets bad."
   ]
  },
  {
   "cell_type": "code",
   "execution_count": 7,
   "metadata": {
    "collapsed": false
   },
   "outputs": [],
   "source": [
    "#rb,rb_center,rb_width = get_refine_box(ds,ds.current_redshift,track)\n",
    "dxs = np.unique(rb['dx'])\n",
    "dx = dxs[1]"
   ]
  },
  {
   "cell_type": "code",
   "execution_count": 18,
   "metadata": {
    "collapsed": false
   },
   "outputs": [],
   "source": [
    "num_cells = rb_width/dx\n",
    "num_cells = int(num_cells.value)+1\n",
    "num_cells = complex(0,num_cells)\n"
   ]
  },
  {
   "cell_type": "code",
   "execution_count": 19,
   "metadata": {
    "collapsed": false
   },
   "outputs": [],
   "source": [
    "xL,yL,zL = rb.left_edge[0],rb.left_edge[1],rb.left_edge[2]\n",
    "xR,yR,zR = rb.right_edge[0],rb.right_edge[1],rb.right_edge[2]\n",
    "\n",
    "box = ds.r[xL:xR:num_cells,yL:yR:num_cells,zL:zR:num_cells]"
   ]
  },
  {
   "cell_type": "code",
   "execution_count": 29,
   "metadata": {
    "collapsed": false
   },
   "outputs": [
    {
     "data": {
      "text/plain": [
       "(0.00015632204365310215, 0.0012245268353744997)"
      ]
     },
     "execution_count": 29,
     "metadata": {},
     "output_type": "execute_result"
    }
   ],
   "source": [
    "test = np.sum(box['H_number_density'],axis=1)\n",
    "np.average(box['H_number_density']),np.average(rb['H_number_density'])"
   ]
  },
  {
   "cell_type": "code",
   "execution_count": 36,
   "metadata": {
    "collapsed": false
   },
   "outputs": [
    {
     "data": {
      "image/png": "[encoded data removed]",
      "text/plain": [
       "<matplotlib.figure.Figure at 0x1043da8d0>"
      ]
     },
     "metadata": {},
     "output_type": "display_data"
    }
   ],
   "source": [
    "plt.hist(np.log10(box['H_number_density'].flat),alpha=0.4,normed=True)\n",
    "plt.hist(np.log10(rb['H_number_density']),alpha=0.4,normed=True)\n",
    "plt.show()"
   ]
  },
  {
   "cell_type": "code",
   "execution_count": 75,
   "metadata": {
    "collapsed": false
   },
   "outputs": [
    {
     "name": "stdout",
     "output_type": "stream",
     "text": [
      "23649.5422567 kpc\n"
     ]
    }
   ],
   "source": [
    "hden = box['H_nuclei_density'][:,200,200]\n",
    "temp = box['Temperature'][:,200,200]\n",
    "xs = box['x'][:,200,200].in_units('kpc')\n",
    "xmin_box = xs.min()\n",
    "print xmin_box"
   ]
  },
  {
   "cell_type": "code",
   "execution_count": 91,
   "metadata": {
    "collapsed": false
   },
   "outputs": [
    {
     "data": {
      "image/png": "[encoded data removed]",
      "text/plain": [
       "<matplotlib.figure.Figure at 0x1a9843150>"
      ]
     },
     "metadata": {},
     "output_type": "display_data"
    }
   ],
   "source": [
    "fig,ax = plt.subplots(2,1,sharex=True)\n",
    "ax[0].plot(xs-xmin_box,np.log10(hden),'b')\n",
    "ax[0].set_ylabel('log(hden)')\n",
    "ax[1].set_ylabel('log(T)')\n",
    "#ax[0].set_xlabel('x [kpc]')\n",
    "ax[1].set_xlabel('x [kpc]')\n",
    "ax[1].plot(xs-xmin_box,np.log10(temp),'r')\n",
    "plt.tight_layout()\n",
    "plt.show()"
   ]
  },
  {
   "cell_type": "code",
   "execution_count": 83,
   "metadata": {
    "collapsed": false
   },
   "outputs": [],
   "source": [
    "xmin = float((xs.min().in_units('code_length')).value)\n",
    "xmax = float((xs.max().in_units('code_length')).value)\n",
    "y = float((box['y'][200,200,200].in_units('code_length')).value)\n",
    "z = float((box['z'][200,200,200].in_units('code_length')).value)\n",
    "\n",
    "ray_start = [xmin,y,z]\n",
    "ray_end = [xmax,y,z]\n",
    "\n",
    "ray_test = ds.ray(ray_start,ray_end)"
   ]
  },
  {
   "cell_type": "code",
   "execution_count": 93,
   "metadata": {
    "collapsed": false
   },
   "outputs": [
    {
     "name": "stdout",
     "output_type": "stream",
     "text": [
      "23649.5703545 kpc\n"
     ]
    }
   ],
   "source": [
    "xmin_ray = ray_test['x'].min().in_units('kpc')\n",
    "print xmin_ray\n",
    "\n",
    "hden_ray = ray_test['H_nuclei_density']\n",
    "temp_ray = ray_test['Temperature']\n",
    "xs_ray = ray_test['x'].in_units('kpc')\n",
    "idx = np.argsort(xs_ray)\n"
   ]
  },
  {
   "cell_type": "code",
   "execution_count": 103,
   "metadata": {
    "collapsed": false
   },
   "outputs": [
    {
     "data": {
      "image/png": "[encoded data removed]",
      "text/plain": [
       "<matplotlib.figure.Figure at 0x1a962af90>"
      ]
     },
     "metadata": {},
     "output_type": "display_data"
    }
   ],
   "source": [
    "fig,ax = plt.subplots(2,1,sharex=True)\n",
    "ax[0].plot(xs-xmin_box,np.log10(hden),'b')\n",
    "ax[0].plot(xs_ray[idx]-xmin_box,np.log10(hden_ray[idx]),'k--')\n",
    "ax[0].set_ylabel('log(hden)')\n",
    "ax[1].set_ylabel('log(T)')\n",
    "#ax[0].set_xlabel('x [kpc]')\n",
    "ax[1].set_xlabel('x [kpc]')\n",
    "ax[1].plot(xs-xmin_box,np.log10(temp),'r')\n",
    "ax[1].plot(xs_ray[idx]-xmin_box,np.log10(temp_ray[idx]),'k--')\n",
    "plt.tight_layout()\n",
    "plt.show()"
   ]
  },
  {
   "cell_type": "markdown",
   "metadata": {},
   "source": [
    "So there are some differences but not very many when you sample the box with the same resolution as what's native to the must refine region. "
   ]
  }
 ],
 "metadata": {
  "kernelspec": {
   "display_name": "Python 2",
   "language": "python",
   "name": "python2"
  },
  "language_info": {
   "codemirror_mode": {
    "name": "ipython",
    "version": 2
   },
   "file_extension": ".py",
   "mimetype": "text/x-python",
   "name": "python",
   "nbconvert_exporter": "python",
   "pygments_lexer": "ipython2",
   "version": "2.7.13"
  }
 },
 "nbformat": 4,
 "nbformat_minor": 2
}
