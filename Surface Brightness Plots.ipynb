{
 "cells": [
  {
   "cell_type": "code",
   "execution_count": 58,
   "metadata": {
    "collapsed": false
   },
   "outputs": [
    {
     "data": {
      "text/html": [
       "\n",
       "<script src=\"https://code.jquery.com/ui/1.10.4/jquery-ui.min.js\" type=\"text/javascript\"></script>\n",
       "<script type=\"text/javascript\">function HoloViewsWidget(){\n",
       "}\n",
       "\n",
       "HoloViewsWidget.comms = {};\n",
       "HoloViewsWidget.comm_state = {};\n",
       "\n",
       "HoloViewsWidget.prototype.init_slider = function(init_val){\n",
       "  if(this.load_json) {\n",
       "    this.from_json()\n",
       "  } else {\n",
       "    this.update_cache();\n",
       "  }\n",
       "}\n",
       "\n",
       "HoloViewsWidget.prototype.populate_cache = function(idx){\n",
       "  this.cache[idx].html(this.frames[idx]);\n",
       "  if (this.embed) {\n",
       "    delete this.frames[idx];\n",
       "  }\n",
       "}\n",
       "\n",
       "HoloViewsWidget.prototype.process_error = function(msg){\n",
       "\n",
       "}\n",
       "\n",
       "HoloViewsWidget.prototype.from_json = function() {\n",
       "  var data_url = this.json_path + this.id + '.json';\n",
       "  $.getJSON(data_url, $.proxy(function(json_data) {\n",
       "    this.frames = json_data;\n",
       "    this.update_cache();\n",
       "    this.update(0);\n",
       "  }, this));\n",
       "}\n",
       "\n",
       "HoloViewsWidget.prototype.dynamic_update = function(current){\n",
       "  if (current === undefined) {\n",
       "    return\n",
       "  }\n",
       "  if(this.dynamic) {\n",
       "    current = JSON.stringify(current);\n",
       "  }\n",
       "  function callback(initialized, msg){\n",
       "    /* This callback receives data from Python as a string\n",
       "       in order to parse it correctly quotes are sliced off*/\n",
       "    if (msg.content.ename != undefined) {\n",
       "      this.process_error(msg);\n",
       "    }\n",
       "    if (msg.msg_type != \"execute_result\") {\n",
       "      console.log(\"Warning: HoloViews callback returned unexpected data for key: (\", current, \") with the following content:\", msg.content)\n",
       "    } else {\n",
       "      if (msg.content.data['text/plain'].includes('Complete')) {\n",
       "        if (this.queue.length > 0) {\n",
       "          this.time = Date.now();\n",
       "          this.dynamic_update(this.queue[this.queue.length-1]);\n",
       "          this.queue = [];\n",
       "        } else {\n",
       "          this.wait = false;\n",
       "        }\n",
       "        return\n",
       "      }\n",
       "    }\n",
       "  }\n",
       "  this.current = current;\n",
       "  if ((window.Jupyter !== undefined) && (Jupyter.notebook.kernel != null)) {\n",
       "    var kernel = Jupyter.notebook.kernel;\n",
       "    callbacks = {iopub: {output: $.proxy(callback, this, this.initialized)}};\n",
       "    var cmd = \"holoviews.plotting.widgets.NdWidget.widgets['\" + this.id + \"'].update(\" + current + \")\";\n",
       "    kernel.execute(\"import holoviews;\" + cmd, callbacks, {silent : false});\n",
       "  }\n",
       "}\n",
       "\n",
       "HoloViewsWidget.prototype.update_cache = function(force){\n",
       "  var frame_len = Object.keys(this.frames).length;\n",
       "  for (var i=0; i<frame_len; i++) {\n",
       "    if(!this.load_json || this.dynamic)  {\n",
       "      frame = Object.keys(this.frames)[i];\n",
       "    } else {\n",
       "      frame = i;\n",
       "    }\n",
       "    if(!(frame in this.cache) || force) {\n",
       "      if ((frame in this.cache) && force) { this.cache[frame].remove() }\n",
       "      this.cache[frame] = $('<div />').appendTo(\"#\"+\"_anim_img\"+this.id).hide();\n",
       "      var cache_id = \"_anim_img\"+this.id+\"_\"+frame;\n",
       "      this.cache[frame].attr(\"id\", cache_id);\n",
       "      this.populate_cache(frame);\n",
       "    }\n",
       "  }\n",
       "}\n",
       "\n",
       "HoloViewsWidget.prototype.update = function(current){\n",
       "  if(current in this.cache) {\n",
       "    $.each(this.cache, function(index, value) {\n",
       "      value.hide();\n",
       "    });\n",
       "    this.cache[current].show();\n",
       "    this.wait = false;\n",
       "  }\n",
       "}\n",
       "\n",
       "HoloViewsWidget.prototype.init_comms = function() {\n",
       "  if ((window.Jupyter !== undefined) && (Jupyter.notebook.kernel !== undefined)) {\n",
       "    var widget = this;\n",
       "    comm_manager = Jupyter.notebook.kernel.comm_manager;\n",
       "    comm_manager.register_target(this.id, function (comm) {\n",
       "      comm.on_msg(function (msg) { widget.process_msg(msg) });\n",
       "    });\n",
       "  }\n",
       "}\n",
       "\n",
       "HoloViewsWidget.prototype.process_msg = function(msg) {\n",
       "}\n",
       "\n",
       "function SelectionWidget(frames, id, slider_ids, keyMap, dim_vals, notFound, load_json, mode, cached, json_path, dynamic){\n",
       "  this.frames = frames;\n",
       "  this.id = id;\n",
       "  this.slider_ids = slider_ids;\n",
       "  this.keyMap = keyMap\n",
       "  this.current_frame = 0;\n",
       "  this.current_vals = dim_vals;\n",
       "  this.load_json = load_json;\n",
       "  this.mode = mode;\n",
       "  this.notFound = notFound;\n",
       "  this.cached = cached;\n",
       "  this.dynamic = dynamic;\n",
       "  this.cache = {};\n",
       "  this.json_path = json_path;\n",
       "  this.init_slider(this.current_vals[0]);\n",
       "  this.queue = [];\n",
       "  this.wait = false;\n",
       "  if (!this.cached || this.dynamic) {\n",
       "    this.init_comms()\n",
       "  }\n",
       "}\n",
       "\n",
       "SelectionWidget.prototype = new HoloViewsWidget;\n",
       "\n",
       "\n",
       "SelectionWidget.prototype.get_key = function(current_vals) {\n",
       "  var key = \"(\";\n",
       "  for (var i=0; i<this.slider_ids.length; i++)\n",
       "  {\n",
       "    val = this.current_vals[i];\n",
       "    if (!(typeof val === 'string')) {\n",
       "      if (val % 1 === 0) { val = val.toFixed(1); }\n",
       "      else { val = val.toFixed(10); val = val.slice(0, val.length-1);}\n",
       "    }\n",
       "    key += \"'\" + val + \"'\";\n",
       "    if(i != this.slider_ids.length-1) { key += ', ';}\n",
       "    else if(this.slider_ids.length == 1) { key += ',';}\n",
       "  }\n",
       "  key += \")\";\n",
       "  return this.keyMap[key];\n",
       "}\n",
       "\n",
       "SelectionWidget.prototype.set_frame = function(dim_val, dim_idx){\n",
       "  this.current_vals[dim_idx] = dim_val;\n",
       "  var key = this.current_vals;\n",
       "  if (!this.dynamic) {\n",
       "    key = this.get_key(key)\n",
       "  }\n",
       "  if (this.dynamic || !this.cached) {\n",
       "    if ((this.time !== undefined) && ((this.wait) && ((this.time + 10000) > Date.now()))) {\n",
       "      this.queue.push(key);\n",
       "      return\n",
       "    }\n",
       "    this.queue = [];\n",
       "    this.time = Date.now();\n",
       "    this.current_frame = key;\n",
       "    this.wait = true;\n",
       "    this.dynamic_update(key)\n",
       "  } else if (key !== undefined) {\n",
       "    this.update(key)\n",
       "  }\n",
       "}\n",
       "\n",
       "\n",
       "/* Define the ScrubberWidget class */\n",
       "function ScrubberWidget(frames, num_frames, id, interval, load_json, mode, cached, json_path, dynamic){\n",
       "  this.slider_id = \"_anim_slider\" + id;\n",
       "  this.loop_select_id = \"_anim_loop_select\" + id;\n",
       "  this.id = id;\n",
       "  this.interval = interval;\n",
       "  this.current_frame = 0;\n",
       "  this.direction = 0;\n",
       "  this.dynamic = dynamic;\n",
       "  this.timer = null;\n",
       "  this.load_json = load_json;\n",
       "  this.mode = mode;\n",
       "  this.cached = cached;\n",
       "  this.frames = frames;\n",
       "  this.cache = {};\n",
       "  this.length = num_frames;\n",
       "  this.json_path = json_path;\n",
       "  document.getElementById(this.slider_id).max = this.length - 1;\n",
       "  this.init_slider(0);\n",
       "  this.wait = false;\n",
       "  this.queue = [];\n",
       "  if (!this.cached || this.dynamic) {\n",
       "    this.init_comms()\n",
       "  }\n",
       "}\n",
       "\n",
       "ScrubberWidget.prototype = new HoloViewsWidget;\n",
       "\n",
       "ScrubberWidget.prototype.set_frame = function(frame){\n",
       "  this.current_frame = frame;\n",
       "  widget = document.getElementById(this.slider_id);\n",
       "  if (widget === null) {\n",
       "    this.pause_animation();\n",
       "    return\n",
       "  }\n",
       "  widget.value = this.current_frame;\n",
       "  if(this.cached) {\n",
       "    this.update(frame)\n",
       "  } else {\n",
       "    this.dynamic_update(frame)\n",
       "  }\n",
       "}\n",
       "\n",
       "\n",
       "ScrubberWidget.prototype.get_loop_state = function(){\n",
       "  var button_group = document[this.loop_select_id].state;\n",
       "  for (var i = 0; i < button_group.length; i++) {\n",
       "    var button = button_group[i];\n",
       "    if (button.checked) {\n",
       "      return button.value;\n",
       "    }\n",
       "  }\n",
       "  return undefined;\n",
       "}\n",
       "\n",
       "\n",
       "ScrubberWidget.prototype.next_frame = function() {\n",
       "  this.set_frame(Math.min(this.length - 1, this.current_frame + 1));\n",
       "}\n",
       "\n",
       "ScrubberWidget.prototype.previous_frame = function() {\n",
       "  this.set_frame(Math.max(0, this.current_frame - 1));\n",
       "}\n",
       "\n",
       "ScrubberWidget.prototype.first_frame = function() {\n",
       "  this.set_frame(0);\n",
       "}\n",
       "\n",
       "ScrubberWidget.prototype.last_frame = function() {\n",
       "  this.set_frame(this.length - 1);\n",
       "}\n",
       "\n",
       "ScrubberWidget.prototype.slower = function() {\n",
       "  this.interval /= 0.7;\n",
       "  if(this.direction > 0){this.play_animation();}\n",
       "  else if(this.direction < 0){this.reverse_animation();}\n",
       "}\n",
       "\n",
       "ScrubberWidget.prototype.faster = function() {\n",
       "  this.interval *= 0.7;\n",
       "  if(this.direction > 0){this.play_animation();}\n",
       "  else if(this.direction < 0){this.reverse_animation();}\n",
       "}\n",
       "\n",
       "ScrubberWidget.prototype.anim_step_forward = function() {\n",
       "  if(this.current_frame < this.length - 1){\n",
       "    this.next_frame();\n",
       "  }else{\n",
       "    var loop_state = this.get_loop_state();\n",
       "    if(loop_state == \"loop\"){\n",
       "      this.first_frame();\n",
       "    }else if(loop_state == \"reflect\"){\n",
       "      this.last_frame();\n",
       "      this.reverse_animation();\n",
       "    }else{\n",
       "      this.pause_animation();\n",
       "      this.last_frame();\n",
       "    }\n",
       "  }\n",
       "}\n",
       "\n",
       "ScrubberWidget.prototype.anim_step_reverse = function() {\n",
       "  if(this.current_frame > 0){\n",
       "    this.previous_frame();\n",
       "  } else {\n",
       "    var loop_state = this.get_loop_state();\n",
       "    if(loop_state == \"loop\"){\n",
       "      this.last_frame();\n",
       "    }else if(loop_state == \"reflect\"){\n",
       "      this.first_frame();\n",
       "      this.play_animation();\n",
       "    }else{\n",
       "      this.pause_animation();\n",
       "      this.first_frame();\n",
       "    }\n",
       "  }\n",
       "}\n",
       "\n",
       "ScrubberWidget.prototype.pause_animation = function() {\n",
       "  this.direction = 0;\n",
       "  if (this.timer){\n",
       "    clearInterval(this.timer);\n",
       "    this.timer = null;\n",
       "  }\n",
       "}\n",
       "\n",
       "ScrubberWidget.prototype.play_animation = function() {\n",
       "  this.pause_animation();\n",
       "  this.direction = 1;\n",
       "  var t = this;\n",
       "  if (!this.timer) this.timer = setInterval(function(){t.anim_step_forward();}, this.interval);\n",
       "}\n",
       "\n",
       "ScrubberWidget.prototype.reverse_animation = function() {\n",
       "  this.pause_animation();\n",
       "  this.direction = -1;\n",
       "  var t = this;\n",
       "  if (!this.timer) this.timer = setInterval(function(){t.anim_step_reverse();}, this.interval);\n",
       "}\n",
       "\n",
       "function extend(destination, source) {\n",
       "  for (var k in source) {\n",
       "    if (source.hasOwnProperty(k)) {\n",
       "      destination[k] = source[k];\n",
       "    }\n",
       "  }\n",
       "  return destination;\n",
       "}\n",
       "\n",
       "function update_widget(widget, values) {\n",
       "  if (widget.hasClass(\"ui-slider\")) {\n",
       "    widget.slider('option', {\n",
       "      min: 0,\n",
       "      max: values.length-1,\n",
       "      dim_vals: values,\n",
       "      value: 0,\n",
       "      dim_labels: values\n",
       "\t})\n",
       "    widget.slider('option', 'slide').call(widget, event, {value: 0})\n",
       "  } else {\n",
       "    widget.empty();\n",
       "    for (var i=0; i<values.length; i++){\n",
       "      widget.append($(\"<option>\", {\n",
       "        value: i,\n",
       "        text: values[i]\n",
       "      }))\n",
       "    };\n",
       "    widget.data('values', values);\n",
       "    widget.data('value', 0);\n",
       "    widget.trigger(\"change\");\n",
       "  };\n",
       "}\n",
       "\n",
       "// Define Bokeh specific subclasses\n",
       "function BokehSelectionWidget() {\n",
       "\tSelectionWidget.apply(this, arguments);\n",
       "}\n",
       "\n",
       "function BokehScrubberWidget() {\n",
       "\tScrubberWidget.apply(this, arguments);\n",
       "}\n",
       "\n",
       "// Let them inherit from the baseclasses\n",
       "BokehSelectionWidget.prototype = Object.create(SelectionWidget.prototype);\n",
       "BokehScrubberWidget.prototype = Object.create(ScrubberWidget.prototype);\n",
       "\n",
       "// Define methods to override on widgets\n",
       "var BokehMethods = {\n",
       "\tupdate_cache : function(){\n",
       "\t\t$.each(this.frames, $.proxy(function(index, frame) {\n",
       "\t\t\tthis.frames[index] = JSON.parse(frame);\n",
       "\t\t}, this));\n",
       "\t},\n",
       "\tupdate : function(current){\n",
       "\t\tif (current === undefined) {\n",
       "\t\t\tvar data = undefined;\n",
       "\t\t} else {\n",
       "\t\t\tvar data = this.frames[current];\n",
       "\t\t}\n",
       "\t\tif (data !== undefined) {\n",
       "\t\t\tvar doc = Bokeh.index[data.root].model.document;\n",
       "\t\t\tdoc.apply_json_patch(data.content);\n",
       "\t\t}\n",
       "\t},\n",
       "\tinit_comms : function() {\n",
       "\t}\n",
       "}\n",
       "\n",
       "// Extend Bokeh widgets with backend specific methods\n",
       "extend(BokehSelectionWidget.prototype, BokehMethods);\n",
       "extend(BokehScrubberWidget.prototype, BokehMethods);\n",
       "\n",
       "// Define MPL specific subclasses\n",
       "function MPLSelectionWidget() {\n",
       "    SelectionWidget.apply(this, arguments);\n",
       "}\n",
       "\n",
       "function MPLScrubberWidget() {\n",
       "    ScrubberWidget.apply(this, arguments);\n",
       "}\n",
       "\n",
       "// Let them inherit from the baseclasses\n",
       "MPLSelectionWidget.prototype = Object.create(SelectionWidget.prototype);\n",
       "MPLScrubberWidget.prototype = Object.create(ScrubberWidget.prototype);\n",
       "\n",
       "// Define methods to override on widgets\n",
       "var MPLMethods = {\n",
       "    init_slider : function(init_val){\n",
       "        if(this.load_json) {\n",
       "            this.from_json()\n",
       "        } else {\n",
       "            this.update_cache();\n",
       "        }\n",
       "        this.update(0);\n",
       "        if(this.mode == 'nbagg') {\n",
       "            this.set_frame(init_val, 0);\n",
       "        }\n",
       "    },\n",
       "    populate_cache : function(idx){\n",
       "        var cache_id = \"_anim_img\"+this.id+\"_\"+idx;\n",
       "        this.cache[idx].html(this.frames[idx]);\n",
       "        if (this.embed) {\n",
       "            delete this.frames[idx];\n",
       "        }\n",
       "    },\n",
       "    process_msg : function(msg) {\n",
       "        if (!(this.mode == 'nbagg')) {\n",
       "            var data = msg.content.data;\n",
       "            this.frames[this.current] = data;\n",
       "            this.update_cache(true);\n",
       "            this.update(this.current);\n",
       "        }\n",
       "    }\n",
       "}\n",
       "// Extend MPL widgets with backend specific methods\n",
       "extend(MPLSelectionWidget.prototype, MPLMethods);\n",
       "extend(MPLScrubberWidget.prototype, MPLMethods);\n",
       "</script>\n",
       "\n",
       "\n",
       "<link rel=\"stylesheet\" href=\"https://code.jquery.com/ui/1.10.4/themes/smoothness/jquery-ui.css\">\n",
       "<style>div.bk-hbox {\n",
       "    display: flex;\n",
       "    justify-content: center;\n",
       "}\n",
       "\n",
       "div.bk-hbox div.bk-plot {\n",
       "    padding: 8px;\n",
       "}\n",
       "\n",
       "div.bk-hbox div.bk-data-table {\n",
       "    padding: 20px;\n",
       "}\n",
       "\n",
       "div.hololayout {\n",
       "    display: flex;\n",
       "    align-items: center;\n",
       "    margin: 0;\n",
       "}\n",
       "\n",
       "div.holoframe {\n",
       "\twidth: 75%;\n",
       "}\n",
       "\n",
       "div.holowell {\n",
       "    display: flex;\n",
       "    align-items: center;\n",
       "    margin: 0;\n",
       "}\n",
       "\n",
       "form.holoform {\n",
       "    background-color: #fafafa;\n",
       "    border-radius: 5px;\n",
       "    overflow: hidden;\n",
       "\tpadding-left: 0.8em;\n",
       "    padding-right: 0.8em;\n",
       "    padding-top: 0.4em;\n",
       "    padding-bottom: 0.4em;\n",
       "}\n",
       "\n",
       "div.holowidgets {\n",
       "    padding-right: 0;\n",
       "\twidth: 25%;\n",
       "}\n",
       "\n",
       "div.holoslider {\n",
       "    min-height: 0 !important;\n",
       "    height: 0.8em;\n",
       "    width: 60%;\n",
       "}\n",
       "\n",
       "div.holoformgroup {\n",
       "    padding-top: 0.5em;\n",
       "    margin-bottom: 0.5em;\n",
       "}\n",
       "\n",
       "div.hologroup {\n",
       "    padding-left: 0;\n",
       "    padding-right: 0.8em;\n",
       "    width: 50%;\n",
       "}\n",
       "\n",
       ".holoselect {\n",
       "    width: 92%;\n",
       "    margin-left: 0;\n",
       "    margin-right: 0;\n",
       "}\n",
       "\n",
       ".holotext {\n",
       "    width: 100%;\n",
       "    padding-left:  0.5em;\n",
       "    padding-right: 0;\n",
       "}\n",
       "\n",
       ".holowidgets .ui-resizable-se {\n",
       "\tvisibility: hidden\n",
       "}\n",
       "\n",
       ".holoframe > .ui-resizable-se {\n",
       "\tvisibility: hidden\n",
       "}\n",
       "\n",
       ".holowidgets .ui-resizable-s {\n",
       "\tvisibility: hidden\n",
       "}\n",
       "</style>\n",
       "\n",
       "\n",
       "<div class=\"logo-block\">\n",
       "<img src='data:image/png;base64,iVBORw0KGgoAAAANSUhEUgAAAEAAAABACAYAAACqaXHeAAAABHNCSVQICAgIfAhkiAAAAAlwSFlz\n",
       "AAAB+wAAAfsBxc2miwAAABl0RVh0U29mdHdhcmUAd3d3Lmlua3NjYXBlLm9yZ5vuPBoAAA6zSURB\n",
       "VHic7ZtpeFRVmsf/5966taWqUlUJ2UioBBJiIBAwCZtog9IOgjqACsogKtqirT2ttt069nQ/zDzt\n",
       "tI4+CrJIREFaFgWhBXpUNhHZQoKBkIUASchWla1S+3ar7r1nPkDaCAnZKoQP/D7mnPOe9/xy76n3\n",
       "nFSAW9ziFoPFNED2LLK5wcyBDObkb8ZkxuaoSYlI6ZcOKq1eWFdedqNzGHQBk9RMEwFAASkk0Xw3\n",
       "ETacDNi2vtvc7L0ROdw0AjoSotQVkKSvHQz/wRO1lScGModBFbDMaNRN1A4tUBCS3lk7BWhQkgpD\n",
       "lG4852/+7DWr1R3uHAZVQDsbh6ZPN7CyxUrCzJMRouusj0ipRwD2uKm0Zn5d2dFwzX1TCGhnmdGo\n",
       "G62Nna+isiUqhkzuKrkQaJlPEv5mFl2fvGg2t/VnzkEV8F5ioioOEWkLG86fvbpthynjdhXYZziQ\n",
       "x1hC9J2NFyi8vCTt91Fh04KGip0AaG9zuCk2wQCVyoNU3Hjezee9bq92duzzTmxsRJoy+jEZZZYo\n",
       "GTKJ6SJngdJqAfRzpze0+jHreUtPc7gpBLQnIYK6BYp/uGhw9YK688eu7v95ysgshcg9qSLMo3JC\n",
       "4jqLKQFBgdKDPoQ+Pltb8dUyQLpeDjeVgI6EgLIQFT5tEl3rn2losHVsexbZ3EyT9wE1uGdkIPcy\n",
       "BGxn8QUq1QrA5nqW5i2tLqvrrM9NK6AdkVIvL9E9bZL/oyfMVd/jqvc8LylzRBKDJSzIExwhQzuL\n",
       "QYGQj4rHfFTc8mUdu3E7yoLtbTe9gI4EqVgVkug2i5+uXGo919ixbRog+3fTbQ8qJe4ZOYNfMoTI\n",
       "OoshUNosgO60AisX15aeI2PSIp5KiFLI9ubb1vV3Qb2ltwLakUCDAkWX7/nHKRmmGIl9VgYsUhJm\n",
       "2NXjKYADtM1ygne9QQDIXlk49FBstMKx66D1v4+XuQr7vqTe0VcBHQlRWiOCbmmSYe2SqtL6q5rJ\n",
       "zsTb7lKx3FKOYC4DoqyS/B5bvLPxvD9Qtf6saxYLQGJErmDOdOMr/zo96km1nElr8bmPOBwI9COv\n",
       "HnFPRIwmkSOv9kcAS4heRsidOkpeWBgZM+UBrTFAXNYL5Vf2ii9c1trNzpYdaoVil3WIc+wdk+gQ\n",
       "noie3ecCcxt9ITcLAPWt/laGEO/9U6PmzZkenTtsSMQ8uYywJVW+grCstAvCIaAdArAsIWkRDDs/\n",
       "KzLm2YcjY1Lv0UdW73HabE9n6V66cxSzfEmuJssTpKGVp+0vHq73FwL46eOjpMpbRAnNmJFrGJNu\n",
       "Ukf9Yrz+3rghiumCKNXXWPhLYcjxGsIpoCMsIRoFITkW8AuyM8jC1+/QLx4bozCEJIq38+1rtpR6\n",
       "V/yzb8eBlRb3fo5l783N0CWolAzJHaVNzkrTzlEp2bQ2q3TC5gn6wpnoQAmwSiGh2GitnTmVMc5O\n",
       "UyfKWUKCIsU7+fZDKwqdT6DDpvkzAX4/+AMFjk0tDp5GRXLpQ2MUmhgDp5gxQT8+Y7hyPsMi8uxF\n",
       "71H0oebujHALECjFKaW9Lm68n18wXp2kVzIcABytD5iXFzg+WVXkegpAsOOYziqo0OkK76GyquC3\n",
       "ltZAzMhhqlSNmmWTE5T6e3IN05ITFLM4GdN0vtZ3ob8Jh1NAKXFbm5PtLU/eqTSlGjkNAJjdgn/N\n",
       "aedXa0tdi7+t9G0FIF49rtMSEgAs1kDLkTPO7ebm4IUWeyh1bKomXqlgMG6kJmHcSM0clYLJ8XtR\n",
       "1GTnbV3F6I5wCGikAb402npp1h1s7LQUZZSMIfALFOuL3UUrfnS8+rez7v9qcold5tilgHbO1fjK\n",
       "9ubb17u9oshxzMiUBKXWqJNxd+fqb0tLVs4lILFnK71H0Ind7uiPgACVcFJlrb0tV6DzxqqTIhUM\n",
       "CwDf1/rrVhTa33/3pGPxJYdQ2l2cbgVcQSosdx8uqnDtbGjh9SlDVSMNWhlnilfqZk42Th2ZpLpf\n",
       "xrHec5e815zrr0dfBZSwzkZfqsv+1FS1KUknUwPARVvItfKUY+cn57yP7qv07UE3p8B2uhUwLk09\n",
       "e0SCOrK+hbdYHYLjRIl71wWzv9jpEoeOHhGRrJAzyEyNiJuUqX0g2sBN5kGK6y2Blp5M3lsB9Qh4\n",
       "y2Ja6x6+i0ucmKgwMATwhSjdUu49tKrQ/pvN5d53ml2CGwCmJipmKjgmyuaXzNeL2a0AkQ01Th5j\n",
       "2DktO3Jyk8f9vcOBQHV94OK+fPumJmvQHxJoWkaKWq9Vs+yUsbq0zGT1I4RgeH2b5wef7+c7bl8F\n",
       "eKgoHVVZa8ZPEORzR6sT1BzDUAD/d9F78e2Tzv99v8D+fLVTqAKAsbGamKey1Mt9Ann4eH3gTXTz\n",
       "idWtAJ8PQWOk7NzSeQn/OTHDuEikVF1R4z8BQCy+6D1aWRfY0tTGG2OM8rRoPaeIj5ZHzJxszElN\n",
       "VM8K8JS5WOfv8mzRnQAKoEhmt8gyPM4lU9SmBK1MCQBnW4KONT86v1hZ1PbwSXPw4JWussVjtH9Y\n",
       "NCoiL9UoH/6PSu8jFrfY2t36erQHXLIEakMi1SydmzB31h3GGXFDFNPaK8Rme9B79Ixrd0WN+1ij\n",
       "NRQ/doRmuFLBkHSTOm5GruG+pFjFdAmorG4IXH1Qua6ASniclfFtDYt+oUjKipPrCQB7QBQ2lrgP\n",
       "fFzm+9XWUtcqJ3/5vDLDpJ79XHZk3u8nGZ42qlj1+ydtbxysCezrydp6ugmipNJ7WBPB5tydY0jP\n",
       "HaVNzs3QzeE4ZpTbI+ZbnSFPbVOw9vsfnVvqWnirPyCNGD08IlqtYkh2hjZ5dErEQzoNm+6ykyOt\n",
       "Lt5/PQEuSRRKo22VkydK+vvS1XEKlhCJAnsqvcVvH7f/ZU2R67eXbMEGAMiIV5oWZWiWvz5Fv2xG\n",
       "sjqNJQRvn3Rs2lji/lNP19VjAQDgD7FHhujZB9OGqYxRkZxixgRDVlqS6uEOFaJUVu0rPFzctrnF\n",
       "JqijImVp8dEKVWyUXDk92zAuMZ6bFwpBU1HrOw6AdhQgUooChb0+ItMbWJitSo5Ws3IAOGEOtL53\n",
       "0vHZih9sC4vtofZ7Qu6523V/fmGcds1TY3V36pUsBwAbSlxnVh2xLfAD/IAIMDf7XYIkNmXfpp2l\n",
       "18rkAJAy9HKFaIr/qULkeQQKy9zf1JgDB2uaeFNGijo5QsUyacNUUTOnGO42xSnv4oOwpDi1zYkc\n",
       "efUc3I5Gk6PhyTuVKaOGyLUAYPGIoY9Pu/atL/L92+4q9wbflRJ2Trpm/jPjdBtfnqB/dIThcl8A\n",
       "KG7hbRuKnb8qsQsVvVlTrwQAQMUlf3kwJI24Z4JhPMtcfng5GcH49GsrxJpGvvHIaeem2ma+KSjQ\n",
       "lIwUdYyCY8j4dE1KzijNnIP2llF2wcXNnsoapw9XxsgYAl6k+KzUXbi2yP3KR2ecf6z3BFsBICdW\n",
       "nvnIaG3eHybqX7vbpEqUMT+9OL4Qpe8VON7dXuFd39v19FoAABRVePbGGuXTszO0P7tu6lghUonE\n",
       "llRdrhArLvmKdh9u29jcFiRRkfLUxBiFNiqSU9icoZQHo5mYBI1MBgBH6wMNb+U7Pnw337H4gi1Y\n",
       "ciWs+uks3Z9fztUvfzxTm9Ne8XXkvQLHNytOOZeiD4e0PgkAIAYCYknKUNUDSXEKzdWNpnil7r4p\n",
       "xqkjTarZMtk/K8TQ6Qve78qqvXurGwIJqcOUKfUWHsm8KGvxSP68YudXq4pcj39X49uOK2X142O0\n",
       "Tz5/u/7TVybqH0rSya6ZBwD21/gubbrgWdDgEOx9WUhfBaC2ibcEBYm7a7x+ukrBMNcEZggyR0TE\n",
       "T8zUPjikQ4VosQZbTpS4vqizBKvqmvjsqnpfzaZyx9JPiz1/bfGKdgD45XB1zoIMzYbfTdS/NClB\n",
       "Gct0USiY3YL/g0LHy/uq/Ef6uo5+n0R/vyhp17Klpge763f8rMu6YU/zrn2nml+2WtH+Z+5IAAFc\n",
       "2bUTdTDOSNa9+cQY7YLsOIXhevEkCvzph7a8laecz/Un/z4/Ae04XeL3UQb57IwU9ZDr9UuKVajv\n",
       "nxp1+1UVIo/LjztZkKH59fO3G/JemqCfmaCRqbqbd90ZZ8FfjtkfAyD0J/9+C2h1hDwsSxvGjNDc\n",
       "b4zk5NfrSwiQblLHzZhg+Jf4aPlUwpDqkQqa9nimbt1/TDH8OitGMaQnj+RJS6B1fbF7SY1TqO5v\n",
       "/v0WAADl1f7zokgS7s7VT2DZ7pegUjBM7mjtiDZbcN4j0YrHH0rXpCtY0qPX0cVL0rv5jv/ZXend\n",
       "0u/EESYBAFBU4T4Qa5TflZOhTe7pmKpaP8kCVUVw1+yhXfJWvn1P3hnXi33JsTN6PnP3hHZ8Z3/h\n",
       "aLHzmkNPuPj7Bc/F/Q38CwjTpSwQXgE4Vmwry9tpfq/ZFgqFMy4AVDtCvi8rvMvOmv0N4YwbVgEA\n",
       "sPM72/KVnzfspmH7HQGCRLG2yL1+z8XwvPcdCbsAANh+xPzstgMtxeGKt+6MK3/tacfvwhWvIwMi\n",
       "oKEBtm0H7W+UVfkc/Y1V0BhoPlDr/w1w/eu1vjIgAgDg22OtX6/eYfnEz/focrZTHAFR+PSs56/7\n",
       "q32nwpjazxgwAQCwcU/T62t3WL7r6/jVRa6/byp1rei+Z98ZUAEAhEPHPc8fKnTU9nbgtnOe8h0l\n",
       "9hcGIqmODLQAHCy2Xti6v/XNRivf43f4fFvIteu854+VHnR7q9tfBlwAAGz+pnndB9vM26UebAe8\n",
       "SLHujPOTPVW+rwY+sxskAAC2HrA8t2Vvc7ffP1r9o+vwR2dcr92InIAbKKC1FZ5tB1tf+/G8p8sv\n",
       "N/9Q5zd/XR34LYCwV5JdccMEAMDBk45DH243r/X4xGvqxFa/GNpS7n6rwOwNWwHVE26oAADYurf1\n",
       "zx/utOzt+DMKYM0p17YtZZ5VNzqfsB2HewG1WXE8PoZ7gOclbTIvynZf9JV+fqZtfgs/8F/Nu5rB\n",
       "EIBmJ+8QRMmpU7EzGRsf2FzuePqYRbzh/zE26EwdrT10f6r6o8HOYzCJB9Dpff8tbnGLG8L/A/WE\n",
       "roTBs2RqAAAAAElFTkSuQmCC'\n",
       "     style='height:25px; border-radius:12px; display: inline-block; float: left; vertical-align: middle'></img>\n",
       "\n",
       "\n",
       "\n",
       "\n",
       "  <img src='data:image/png;base64,iVBORw0KGgoAAAANSUhEUgAAACAAAAAgCAYAAABzenr0AAAABHNCSVQICAgIfAhkiAAAAAlwSFlz\n",
       "AAAFMAAABTABZarKtgAAABl0RVh0U29mdHdhcmUAd3d3Lmlua3NjYXBlLm9yZ5vuPBoAAArNSURB\n",
       "VFiFnVd5VFNXGv/ee0kgGyQhbFoXIKCFYEXEDVErTucMoKUOWA/VLsNSLPQgFTOdyrHPiIp1lFIQ\n",
       "OlaPShEG3EpPcQmISCuV1bQ1CLKIULeQhJA9JO+9+UMT0x5aPfOdc895373f/e7v/t537/ddBF5Q\n",
       "JBIJl81mJwCACEVRQBCEQhAEAQCgnghCURRCkmS7Wq2+WlJSYn0Rv8jzDHAcD0EQJIVGo5mFQuGF\n",
       "jIyMu39kq1KpkOrq6gU6nS6aIAiGzWY7VVBQ0P9/AcjNzWXy+fxcOp2uiY+Przm0d6+n8dblv/Fo\n",
       "kzM4SzYfPlRePvFnjnt6ehh1dXVv2mw2nlar/byoqMj8wgBwHBchCJIZEhJSeu1yHVi7vtu02t8+\n",
       "NykQ7BMWoOUMhXQsXLv5IQAwSJJEEASxcDicoeTk5DtCoZBy9XX69Gnv3t7ebJIky3EcH3guAKlU\n",
       "GoGiaOKWLVsOvhs7/9XXPMde3/IyIFbMnaPDuD5AUdQuOf2XlD0npTExMWYAgNbWVpZcLg8xGAzB\n",
       "JEnSvby82tPT052LaTQatLy8fBtJkt/s3Lnz5h8CwHFcRKPRNu/YsePAjh072KTs0IGCxRg8RgUB\n",
       "TGpSx6cmHgMAfNqN6Xa1GvJ/D35gYAAViURkcXHxUrPZHDRv3rxv4uLiDI7xPXv2bLdYLBUFBQWD\n",
       "jj7M8ZGbm8tkMpmSrKysQiaTScXGxtpqL7dManT6tcu5mgEWWJyOhicozpk+c3NsbKzNFcBbWWEf\n",
       "1Td9/upA30i3ZJv0h8bGxiSFQmFcuHDhOACAWCy+0d3dvX3lypUtzc3N9t8AiIuLk4SEhByLiooy\n",
       "AgAcO3ZsNlPgH3Cttb35JZo+bCYXIQAA9MDiUW7sWS1KN687w6Mera2twa2trfMvXboUOS28Pyb1\n",
       "U08McRtf/sXBSmt5cc35pqamVQqFwhoZGallMpnU/fv3e7RaberVq1d/AABAn1IfQqfTNRs3blQB\n",
       "AFy+fJk7Nja2XCKRnD3dNSorusPq6NfTPR+gPiEEoLRFXO1tS2+zavv27ReftjNttyr0S1/j0rUP\n",
       "PEJQwNwQYGgAACQSyXmNRhMtk8lYAAApKSlKDMP0+fn5QU4ACIKkxMfH1zjYuHnz5uspKSlOfdX7\n",
       "u68fvOePcCzKQR4YVCgATGfa/F3pnzaHWOAXSDyaMCqH2+r8VXErP3D+snXr1tV2dXW94dATExOr\n",
       "6XT6JgAAVCKRcDEMM4WHh9sAAHJyUqNu//wDymKx7AAAVVVVPiaTKXxByrYMvBsxEMSTwPXhuL+8\n",
       "e/fu9fv371+flvbemogYNz+TnsBOFEwMFO8/KzEYDKFVVVX+AAChoaGT7u7ud48ePRro0DEMs+bl\n",
       "5bFRNpud4O3tfdGBzq5uy/5wTUPM/q2zC9atmbVqeHg4Pi0t7WxGRoZFH5rw76I7LI8HqHfwPL7d\n",
       "rfVagzw1NfW81t4ePUfsP/OrnWZ6fPSuUqFQSEkkkrOjo6OvuQR5q0ajiXLoPj4+lzgcTjwKACLH\n",
       "9SqXy2kzhBO8haGo+UA2wZW+p880DxeveGt9aHx9fT09ctlq3sC0NT9e6xsbjuZblSxl7wKtVotM\n",
       "m6PnXvlmZJBtX91CEMQsxyJsNlteXl4udugIghAajQYFAEhPTx9AEGQOimGY8y4oLt63KlJkdB4t\n",
       "P282Z/c/dPrDH04ktJ9P2tfWXP3+2o1vHzunEp6Xq0lsGt08KzUrcSGTQ3n3XeefLCs5UqnT6Rap\n",
       "VCoEACA7O/snvV4f5gJooLa2NsihoygKKEVRzquTND2OCpttGXdG1tOxwOlgzdvE9v30rV+m3W5I\n",
       "2jfJNQmLH85QUUzPNTwvkAx0+vVGhq2/VV9fT+dyuZ01NTXOXQOA3fGxevXq2waDYY5r8KIoij5b\n",
       "jzB5Cz2oKdOo0erOm+1tVuVtBMZXElNMRJR1fvvjx9iPLQ/RjpuB0Xu/Vp7YmH1864YNG3oNBkPw\n",
       "VD7mzp1rJUnSzZUBmqsBggAgGFC/n6jVA+3WoN3tu1Gg39cg2tEx1Cg3CIJHsclxnl2HRorMN8Z0\n",
       "fRW+vr7GJ36Q56Z5h9BIknzGAMJWtvdQYs0EZe3/FSwqk5tpXEMb1JoYD+n8xRdQJl/fMPEgzKhS\n",
       "L40KCD7lGzg92qIyovpb3y/msT2un2psvFpWVvYyl8vtc1nDSXFXV5c7iqLOtEyS5LNBAADfWeKm\n",
       "Ly4uuvR1++sfv51/P5sfnHm2/Iy+mBmwsaHJbpt+Q0jHSS7TZ/PSNVkNJ/973OxtemD1s91CPb12\n",
       "h9MfvZsk5meo1eqo5ORkxTNWn7HR1tY2l8PhOAsUiqIolCRJcETtv/61qzNySYK5trZ2TCgUUiwW\n",
       "S1FSUhLR+bA/kAzwXcAbHa/cFhrTXrJ/v+7IkSPu3Je4Xm5eboJv2wba5QbO5fQwxhsP679Y+nFO\n",
       "jgAAoKSkJILFYjnBGI1G0YYNGwYBnqRoiqIQlKKojurq6gUAAAKBgKQoiuGYkJWVpTCZTOKmI1Xd\n",
       "HwnDcm+cOnOMw+H0FxYWbqpvqv/r9EV+bky+O+/QoUPiqJRt9JphTLFHbKBCR87tWL9EPN9oNIZn\n",
       "ZWUpXHaMCQQCEgCgsrIyEgBuoGq1+qpOp4t2GPH5/BvFxcVLHXpgYGDD8ePH/56Xl2cCAMjMzOxP\n",
       "S0s7pWfow4RCbz/fAF9RT0+P9yeffHJySSqev+9nxLD1FaAlTR8vlJ8vxxzsFhUVLRMIBB0OvwaD\n",
       "YRlFUdfQkpISK0EQ9J6eHgYAQEZGxl2z2Rw0MjJCBwBITk5+xOVyfzpw4ECSw5lQKKQIbxtJm4EN\n",
       "8eZ7jPz0oNv+dK5FG/jq54eH+IFr/S1KabBy0UerAvI+++wzD4vFEpCWljYEACCTyVh2ux3FcXwS\n",
       "BQCw2WxVdXV1bzrQRURE1FVVVTn1zMzM/pkzZ35/9OjRd0pLS19RqVQIy4/tCwDgOcPTQvFQEQBA\n",
       "aWnpK0ERK2LbyVllN341GUJ4YDu8zD5bKyur7O+85tx9Z2fnO1ar9QjA04KkpaVFs2LFir8olcq7\n",
       "YWFhJpFINNnX16drbGyMjY6Ovg0AIBaLjcuXL5d3d3d7XbhwIW704b3F479MeD1qVfJ5Og/bvb4R\n",
       "LwaDMZabm9uwflNa/z/3HOIv5NsDEK7XS7FeevXPvYNLvm5S/GglCK5KpZorlUobXE8g5ObmMqVS\n",
       "6UG1Wu1BURSHoijOiRMnwgoLC7coFAqBo+9Fm0KhEKStmvvto3TeucFN7pVJYbytarXaQyqVHsRx\n",
       "3N15TF1BuBaljr4rV66wOzo63mAymXdzcnKuwwtIUVHRMqvVGkgQxMV7NXvyJijGvcNXB/7z5Zdf\n",
       "bicI4gSO40NTAgD4bVnuODIAT2pElUq1FEEQO4fD6QsPD++fqixHEATj8/ntjoCrqKhwS0hIsJWV\n",
       "leURBHEOx3G563pT3tn5+flBDAbjg6CgoMMpKSlK17GhoSFMJpMFPk04DJIkEQzDzCwW6+5UD5Oa\n",
       "mhrfO3fufECS5GHXnf8pAAAAHMfdURTdimGYPjExsTo0NHTyj2ynEplMxurs7HyHIAiKJMlSHMct\n",
       "U9k9N2vl5+cH0en0TRiGWX18fC65vnh+LxqNBq2oqFhgMpmi7XY7arVaj+zdu/fxn/l/4bSZl5fH\n",
       "5nK5CQAQMtXznCRJePpEbwOAZhzHX4ix/wHzzC/tu64gcwAAAABJRU5ErkJggg=='\n",
       "       style='height:15px; border-radius:12px; display: inline-block; float: left'></img>\n",
       "  \n",
       "\n",
       "\n",
       "</div>\n"
      ],
      "text/plain": [
       "<IPython.core.display.HTML object>"
      ]
     },
     "metadata": {},
     "output_type": "display_data"
    }
   ],
   "source": [
    "import holoviews as hv\n",
    "import holoviews.util\n",
    "#hv.extension('bokeh')\n",
    "from matplotlib import colors\n",
    "hv.extension('matplotlib')\n",
    "%output fig='pdf'\n",
    "\n",
    "import numpy as np\n",
    "import cPickle\n",
    "import yt\n",
    "import matplotlib.pyplot as pl\n",
    "from astropy.cosmology import WMAP9 as cosmo\n",
    "from astropy.table import Table\n",
    "from emission_functions import *\n",
    "import pandas as pd\n",
    "import datashader as dshade\n",
    "import matplotlib.pyplot as plt\n",
    "\n",
    "from holoviews.operation.datashader import aggregate, datashade, dynspread, shade\n",
    "from holoviews.operation import decimate\n",
    "from holoviews.operation import histogram\n",
    "from holoviews import Store"
   ]
  },
  {
   "cell_type": "code",
   "execution_count": 2,
   "metadata": {
    "collapsed": true
   },
   "outputs": [],
   "source": [
    "def make_radius_array(rb_width,frbarr):\n",
    "    box_size = rb_width/2.\n",
    "    num_cells = frbarr.shape[0]\n",
    "    xL = np.linspace(-1*box_size,box_size,num_cells)\n",
    "    xL2,yL = np.meshgrid(xL,xL)\n",
    "    r = abs(xL2+1j*yL)\n",
    "    return r "
   ]
  },
  {
   "cell_type": "markdown",
   "metadata": {},
   "source": [
    "## Perfecting Radial Profiles with Holoviews + Datashader"
   ]
  },
  {
   "cell_type": "code",
   "execution_count": 3,
   "metadata": {
    "collapsed": false
   },
   "outputs": [
    {
     "name": "stderr",
     "output_type": "stream",
     "text": [
      "yt : [INFO     ] 2018-02-15 12:55:42,024 Parameters: current_time              = 154.801032717\n",
      "yt : [INFO     ] 2018-02-15 12:55:42,024 Parameters: domain_dimensions         = [256 256 256]\n",
      "yt : [INFO     ] 2018-02-15 12:55:42,026 Parameters: domain_left_edge          = [ 0.  0.  0.]\n",
      "yt : [INFO     ] 2018-02-15 12:55:42,027 Parameters: domain_right_edge         = [ 1.  1.  1.]\n",
      "yt : [INFO     ] 2018-02-15 12:55:42,028 Parameters: cosmological_simulation   = 1\n",
      "yt : [INFO     ] 2018-02-15 12:55:42,029 Parameters: current_redshift          = 1.99999968795\n",
      "yt : [INFO     ] 2018-02-15 12:55:42,031 Parameters: omega_lambda              = 0.715\n",
      "yt : [INFO     ] 2018-02-15 12:55:42,032 Parameters: omega_matter              = 0.285\n",
      "yt : [INFO     ] 2018-02-15 12:55:42,033 Parameters: hubble_constant           = 0.695\n"
     ]
    },
    {
     "name": "stdout",
     "output_type": "stream",
     "text": [
      "using this loc:      col1       col2     col3     col4     col5     col6     col7   col8\n",
      "------------- -------- -------- -------- -------- -------- -------- ----\n",
      "2.04999996364 0.493091 0.488119 0.501099 0.495091 0.490119 0.503099   10\n"
     ]
    }
   ],
   "source": [
    "base = \"/Users/dalek/data/Molly/nref11n_nref10f_refine200kpc_z4to2\"\n",
    "fn = base+\"/RD0020/RD0020\"\n",
    "lines = ['HAlpha','OVI','CIV','CIII_977','SiIV']\n",
    "track_name = base+\"/halo_track\"\n",
    "args = fn.split('/')\n",
    "\n",
    "ds = yt.load(fn)\n",
    "track = Table.read(track_name, format='ascii')\n",
    "track.sort('col1')\n",
    "rb,rb_center,rb_width = get_refine_box(ds,ds.current_redshift,track)\n",
    "redshift = ds.current_redshift\n",
    "\n",
    "box_width = ds.arr(rb_width,'code_length').in_units('kpc')"
   ]
  },
  {
   "cell_type": "code",
   "execution_count": 4,
   "metadata": {
    "collapsed": false
   },
   "outputs": [],
   "source": [
    "natural_base = '_nref11_RD0020_'\n",
    "refined_base = '_nref11n_nref10f_refine200kpc_z4to2_RD0020_'\n",
    "box_size = ds.arr(rb_width,'code_length').in_units('kpc')\n",
    "res_list = [0.2,1,5,10]\n",
    "lines = ['CIII_977','OVI']"
   ]
  },
  {
   "cell_type": "code",
   "execution_count": 5,
   "metadata": {
    "collapsed": false
   },
   "outputs": [],
   "source": [
    "field = 'Emission_CIII_977'\n",
    "fileinNAT = 'frbs/frb'+'x'+natural_base+field+'_forcedres.cpkl'\n",
    "fileinREF = 'frbs/frb'+'x'+refined_base+field+'_forcedres.cpkl'\n",
    "\n",
    "frbNAT = cPickle.load(open(fileinNAT,'rb'))\n",
    "frbREF = cPickle.load(open(fileinREF,'rb'))\n",
    "\n",
    "frbNAT = np.log10(frbNAT/(1.+redshift)**4)\n",
    "frbREF = np.log10(frbREF/(1.+redshift)**4)\n",
    "\n",
    "r = make_radius_array(box_width,frbNAT)"
   ]
  },
  {
   "cell_type": "code",
   "execution_count": 8,
   "metadata": {
    "collapsed": false
   },
   "outputs": [],
   "source": [
    "emisREF = frbREF.flatten()\n",
    "dist = r.flatten()\n",
    "detect_prob = np.chararray(np.size(dist), 4)\n",
    "detect_prob[emisREF >= 3] = 'definite'\n",
    "detect_prob[((emisREF < 3) & (emisREF >= 2))] = 'probable'\n",
    "detect_prob[((emisREF < 2) & (emisREF >= 1))] = 'possible'\n",
    "detect_prob[emisREF < 1] = 'nope'\n",
    "dfREF = pd.DataFrame({'dist':dist,'emisREF':emisREF,'detect_prob':detect_prob})\n",
    "dfREF.detec_prob = dfREF.detect_prob.astype('category') \n",
    "\n",
    "#arrH = np.zeros((len(idH),2))\n",
    "#arrH[:,0],arrH[:,1] = dist[idH],emisREF[idH]\n",
    "#arrM = np.zeros((len(idM),2))\n",
    "#arrM[:,0],arrM[:,1] = dist[idM],emisREF[idM]\n",
    "#arrL = np.zeros((len(idL),2))\n",
    "#arrL[:,0],arrL[:,1] = dist[idL],emisREF[idL]\n",
    "#arrN = np.zeros((len(idN),2))\n",
    "#arrN[:,0],arrN[:,1] = dist[idN],emisREF[idN]"
   ]
  },
  {
   "cell_type": "code",
   "execution_count": 9,
   "metadata": {
    "collapsed": false
   },
   "outputs": [
    {
     "name": "stdout",
     "output_type": "stream",
     "text": [
      "['defi' 'nope' 'poss' 'prob']\n"
     ]
    }
   ],
   "source": [
    "print np.unique(dfREF['detect_prob'])"
   ]
  },
  {
   "cell_type": "code",
   "execution_count": 10,
   "metadata": {
    "collapsed": false
   },
   "outputs": [],
   "source": [
    "dtest = dist[0:1000]\n",
    "etest = emisREF[0:1000]\n",
    "dfTEST = pd.DataFrame({'dist':dtest,'emisREF':etest})"
   ]
  },
  {
   "cell_type": "code",
   "execution_count": 11,
   "metadata": {
    "collapsed": true
   },
   "outputs": [],
   "source": [
    "detect_color_key = {b'nope':'#808080',\n",
    "                    b'poss':'#FF69B4',\n",
    "                    b'prob':'#00CED1',\n",
    "                    b'defi': '#32CD32'} #'#7FFF00'}"
   ]
  },
  {
   "cell_type": "code",
   "execution_count": null,
   "metadata": {
    "collapsed": false,
    "scrolled": true
   },
   "outputs": [],
   "source": [
    "#%%opts RGB [width=820] {+axiswise}\n",
    "\n",
    "sb_point = hv.Points(dfREF,kdims=['dist','emisREF'],label='CIII 977') \n",
    "sb_shade = datashade(sb_point,color_key=detect_color_key,\n",
    "                     aggregator=dshade.count_cat('detect_prob'),y_range=(-10,6),\n",
    "                     dynamic=False).opts(plot=dict(aspect='square'))\n",
    "sb_shade\n",
    "#help(testout)"
   ]
  },
  {
   "cell_type": "code",
   "execution_count": null,
   "metadata": {
    "collapsed": false
   },
   "outputs": [],
   "source": [
    "from holoviews import Store\n",
    "renderer = Store.renderers['matplotlib'].instance(fig='pdf', holomap='gif')\n",
    "renderer.save(sb_shade, 'SBprof_test') "
   ]
  },
  {
   "cell_type": "code",
   "execution_count": null,
   "metadata": {
    "collapsed": false
   },
   "outputs": [],
   "source": [
    "emisNAT = frbNAT.flatten()\n",
    "dist = r.flatten()\n",
    "detect_prob = np.chararray(np.size(dist), 4)\n",
    "detect_prob[emisNAT >= 3] = 'definite'\n",
    "detect_prob[((emisNAT < 3) & (emisNAT >= 2))] = 'probable'\n",
    "detect_prob[((emisNAT < 2) & (emisNAT >= 1))] = 'possible'\n",
    "detect_prob[emisNAT < 1] = 'nope'\n",
    "dfNAT = pd.DataFrame({'dist':dist,'emisREF':emisNAT,'detect_prob':detect_prob})\n",
    "dfNAT.detec_prob = dfNAT.detect_prob.astype('category') "
   ]
  },
  {
   "cell_type": "code",
   "execution_count": null,
   "metadata": {
    "collapsed": false
   },
   "outputs": [],
   "source": [
    "test_plot = hv.Points(dfNAT,kdims=['dist','emisREF'],label='CIII 977') \n",
    "shade2 = datashade(test_plot,color_key=detect_color_key,\n",
    "                   aggregator=dshade.count_cat('detect_prob'),y_range=(-10,6),\n",
    "                   dynamic=False).opts(plot=dict(aspect='square',show_title=False))\n",
    "\n",
    "test2 = (sb_shade+shade2).cols(1)\n",
    "test3 = (sb_shade + sb_shade)\n",
    "test4 = (shade2 + shade2)\n",
    "\n",
    "(test3 + test4).cols(2)"
   ]
  },
  {
   "cell_type": "code",
   "execution_count": 48,
   "metadata": {
    "collapsed": false
   },
   "outputs": [],
   "source": [
    "idH,idM,idL,idN = (emisREF >=3),((emisREF >=2) & (emisREF <3)), ((emisREF >=1) & (emisREF <2)),(emisREF <1)\n",
    "eH,dH = emisREF[idH],dist[idH]\n",
    "eM,dM = emisREF[idM],dist[idM]\n",
    "eL,dL = emisREF[idL],dist[idL]\n",
    "eN,dN = emisREF[idN],dist[idN]\n",
    "\n",
    "ptsH = np.vstack((dH, eH)).T\n",
    "ptsM = np.vstack((dM, eM)).T\n",
    "ptsL = np.vstack((dL, eL)).T\n",
    "ptsN = np.vstack((dN, eN)).T"
   ]
  },
  {
   "cell_type": "code",
   "execution_count": null,
   "metadata": {
    "collapsed": false
   },
   "outputs": [],
   "source": []
  },
  {
   "cell_type": "code",
   "execution_count": 57,
   "metadata": {
    "collapsed": false
   },
   "outputs": [],
   "source": [
    "test_plot = hv.Points(ptsH,kdims=['dist','emisREF'],label='CIII 977').opts(style=dict(color=detect_color_key['defi']))\n",
    "test_plot = test_plot * hv.Points(ptsM,kdims=['dist','emisREF'],\n",
    "                                  label='CIII 977').opts(style=dict(color=detect_color_key['prob']))\n",
    "test_plot = test_plot * hv.Points(ptsL,kdims=['dist','emisREF'],\n",
    "                                  label='CIII 977').opts(style=dict(color=detect_color_key['poss']))\n",
    "test_plot = test_plot * hv.Points(ptsN,kdims=['dist','emisREF'],\n",
    "                                  label='CIII 977').opts(style=dict(color=detect_color_key['nope']))"
   ]
  },
  {
   "cell_type": "code",
   "execution_count": 58,
   "metadata": {
    "collapsed": false
   },
   "outputs": [
    {
     "data": {
      "text/html": [
       "<img src='data:image/png;base64,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' style='max-width:100%; margin: auto; display: block; '/>"
      ],
      "text/plain": [
       ":Overlay\n",
       "   .Points.CIII_977.I   :Points   [dist,emisREF]\n",
       "   .Points.CIII_977.II  :Points   [dist,emisREF]\n",
       "   .Points.CIII_977.III :Points   [dist,emisREF]\n",
       "   .Points.CIII_977.IV  :Points   [dist,emisREF]"
      ]
     },
     "execution_count": 58,
     "metadata": {},
     "output_type": "execute_result"
    }
   ],
   "source": [
    "test_plot"
   ]
  },
  {
   "cell_type": "markdown",
   "metadata": {
    "collapsed": true
   },
   "source": [
    "## Connecting Emission and HI Properties"
   ]
  },
  {
   "cell_type": "markdown",
   "metadata": {},
   "source": [
    "#### First, let's test out matching pixels from one frb to another. "
   ]
  },
  {
   "cell_type": "code",
   "execution_count": 40,
   "metadata": {
    "collapsed": true
   },
   "outputs": [],
   "source": [
    "cmap = colors.ListedColormap(['Gray','HotPink','DarkTurquoise','Chartreuse'])\n",
    "bounds = [-5,1,2,3,5]\n",
    "norm = colors.BoundaryNorm(bounds,cmap.N)"
   ]
  },
  {
   "cell_type": "code",
   "execution_count": 70,
   "metadata": {
    "collapsed": true
   },
   "outputs": [],
   "source": [
    "data = cPickle.load(open('frbs/frbx_nref11_RD0020_H_p0_number_density_forcedres.cpkl','rb'))\n",
    "emis = cPickle.load(open('frbs/frbx_nref11_RD0020_Emission_CIII_977_forcedres.cpkl','rb'))\n",
    "#emis = cPickle.load(open('frbs/frbx_nref11_RD0020_Emission_OVI_forcedres.cpkl','rb'))\n",
    "emis = emis/(3.**4)\n",
    "test = np.ma.masked_where((np.log10(emis) > 1.),emis)"
   ]
  },
  {
   "cell_type": "code",
   "execution_count": 71,
   "metadata": {
    "collapsed": false
   },
   "outputs": [
    {
     "name": "stderr",
     "output_type": "stream",
     "text": [
      "/Users/dalek/anaconda2/lib/python2.7/site-packages/ipykernel/__main__.py:6: RuntimeWarning: divide by zero encountered in log10\n"
     ]
    },
    {
     "data": {
      "image/png": "[encoded data removed]",
      "text/plain": [
       "<matplotlib.figure.Figure at 0x11ca64b10>"
      ]
     },
     "metadata": {},
     "output_type": "display_data"
    }
   ],
   "source": [
    "fig,ax = plt.subplots(1,2)\n",
    "\n",
    "ax[0].imshow(np.log10(emis),cmap=cmap,norm=norm,vmin=-6,vmax=6)\n",
    "datamasked = data*test.mask\n",
    "ax[1].imshow(np.log10(data),cmap='Greys_r',vmin=12,vmax=23)\n",
    "ax[1].imshow(np.log10(datamasked),vmin=16,vmax=22,cmap='GnBu_r')\n",
    "plt.show()"
   ]
  },
  {
   "cell_type": "code",
   "execution_count": 59,
   "metadata": {
    "collapsed": false
   },
   "outputs": [
    {
     "name": "stderr",
     "output_type": "stream",
     "text": [
      "/Users/dalek/anaconda2/lib/python2.7/site-packages/ipykernel/__main__.py:11: RuntimeWarning: divide by zero encountered in log10\n"
     ]
    },
    {
     "data": {
      "image/png": "[encoded data removed]",
      "text/plain": [
       "<matplotlib.figure.Figure at 0x11cab9610>"
      ]
     },
     "metadata": {},
     "output_type": "display_data"
    }
   ],
   "source": [
    "data = cPickle.load(open('frbs/frbx_nref11_RD0020_H_p0_number_density_10kpc.cpkl','rb'))\n",
    "emis = cPickle.load(open('frbs/frbx_nref11_RD0020_Emission_CIII_977_10kpc.cpkl','rb'))\n",
    "#emis = cPickle.load(open('frbs/frbx_nref11_RD0020_Emission_OVI_forcedres.cpkl','rb'))\n",
    "test = np.ma.masked_where((np.log10(emis) > 2.),emis)\n",
    "\n",
    "fig,ax = plt.subplots(1,2)\n",
    "\n",
    "ax[0].imshow(np.log10(emis),cmap=cmap,norm=norm,vmin=-6,vmax=6)\n",
    "datamasked = data*test.mask\n",
    "ax[1].imshow(np.log10(data),cmap='bone',vmin=12,vmax=23)\n",
    "ax[1].imshow(np.log10(datamasked),vmin=16,vmax=22,cmap='GnBu_r')\n",
    "plt.show()"
   ]
  },
  {
   "cell_type": "markdown",
   "metadata": {},
   "source": [
    "Well now that I'm seeing these next to each other, I like them a lot less than I thought I would. Maybe if I try with the forced refinement it'll make more of an impact for me?\n",
    "\n",
    "Ehh I'm still not really sure if these are necessary. Can show Molly and Jason though. At any rate, they could be interesting for a talk if not the paper."
   ]
  },
  {
   "cell_type": "code",
   "execution_count": 169,
   "metadata": {
    "collapsed": false
   },
   "outputs": [
    {
     "name": "stderr",
     "output_type": "stream",
     "text": [
      "/Users/dalek/anaconda2/lib/python2.7/site-packages/ipykernel/__main__.py:13: RuntimeWarning: divide by zero encountered in log10\n"
     ]
    },
    {
     "data": {
      "image/png": "[encoded data removed]",
      "text/plain": [
       "<matplotlib.figure.Figure at 0x1222af850>"
      ]
     },
     "metadata": {},
     "output_type": "display_data"
    }
   ],
   "source": [
    "data = cPickle.load(open('frbs/frbx_nref11n_nref10f_refine200kpc_z4to2_RD0020_H_p0_number_density_forcedres.cpkl','rb'))\n",
    "#emis = cPickle.load(open('frbs/frbx_nref11n_nref10f_refine200kpc_z4to2_RD0020_Emission_CIII_977_forcedres.cpkl','rb'))\n",
    "emis = cPickle.load(open('frbs/frbx_nref11n_nref10f_refine200kpc_z4to2_RD0020_Emission_OVI_forcedres.cpkl','rb'))\n",
    "emis = emis/(3.**4)\n",
    "test = np.ma.masked_where((np.log10(emis) > 1.),emis)\n",
    "\n",
    "fig,ax = plt.subplots(1,2)\n",
    "\n",
    "out1 = ax[0].imshow(np.log10(emis),cmap=cmap,norm=norm,vmin=-6,vmax=6)\n",
    "#plt.colorbar(out1)\n",
    "datamasked = data*test.mask\n",
    "ax[1].imshow(np.log10(data),cmap='Greys_r',vmin=12,vmax=23)\n",
    "out2 = ax[1].imshow(np.log10(datamasked),vmin=16,vmax=22,cmap='GnBu_r')\n",
    "#plt.colorbar(out2)\n",
    "plt.show()"
   ]
  },
  {
   "cell_type": "code",
   "execution_count": 73,
   "metadata": {
    "collapsed": false
   },
   "outputs": [
    {
     "name": "stderr",
     "output_type": "stream",
     "text": [
      "/Users/dalek/anaconda2/lib/python2.7/site-packages/ipykernel/__main__.py:12: RuntimeWarning: divide by zero encountered in log10\n"
     ]
    },
    {
     "data": {
      "image/png": "[encoded data removed]",
      "text/plain": [
       "<matplotlib.figure.Figure at 0x11f192410>"
      ]
     },
     "metadata": {},
     "output_type": "display_data"
    }
   ],
   "source": [
    "data = cPickle.load(open('frbs/frbx_nref11n_nref10f_refine200kpc_z4to2_RD0020_H_p0_number_density_10kpc.cpkl','rb'))\n",
    "emis = cPickle.load(open('frbs/frbx_nref11n_nref10f_refine200kpc_z4to2_RD0020_Emission_CIII_977_10kpc.cpkl','rb'))\n",
    "#emis = cPickle.load(open('frbs/frbx_nref11n_nref10f_refine200kpc_z4to2_RD0020_Emission_OVI_10kpc.cpkl','rb'))\n",
    "emis = emis/(3.**4)\n",
    "test = np.ma.masked_where((np.log10(emis) > 1.),emis)\n",
    "\n",
    "fig,ax = plt.subplots(1,2)\n",
    "\n",
    "ax[0].imshow(np.log10(emis),cmap=cmap,norm=norm,vmin=-6,vmax=6)\n",
    "datamasked = data*test.mask\n",
    "ax[1].imshow(np.log10(data),cmap='Greys_r',vmin=12,vmax=23)\n",
    "ax[1].imshow(np.log10(datamasked),vmin=16,vmax=22,cmap='GnBu_r')\n",
    "plt.show()"
   ]
  },
  {
   "cell_type": "code",
   "execution_count": null,
   "metadata": {
    "collapsed": true
   },
   "outputs": [],
   "source": []
  },
  {
   "cell_type": "code",
   "execution_count": 5,
   "metadata": {
    "collapsed": false
   },
   "outputs": [
    {
     "data": {
      "text/html": [
       "\n",
       "    <script>\n",
       "      function msg_handler(msg) {\n",
       "        var msg = msg.content.data;\n",
       "        \n",
       "/* Backend specific body of the msg_handler, updates displayed frame */\n",
       "target = $('#fig_4251df003ada46a683890d78587afaf6');\n",
       "img = $('<div />').html(msg);\n",
       "target.children().each(function () { $(this).remove() })\n",
       "target.append(img)\n",
       "\n",
       "      }\n",
       "\n",
       "      if ((window.Jupyter !== undefined) && (Jupyter.notebook.kernel != null)) {\n",
       "        comm_manager = Jupyter.notebook.kernel.comm_manager;\n",
       "        comm_manager.register_target(\"4251df003ada46a683890d78587afaf6\", function(comm) { comm.on_msg(msg_handler);});\n",
       "      }\n",
       "    </script>\n",
       "\n",
       "    <div id=\"fig_4251df003ada46a683890d78587afaf6\">\n",
       "      <img src='data:image/png;base64,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' style='max-width:100%; margin: auto; display: block; '/>\n",
       "    </div>\n",
       "    "
      ],
      "text/plain": [
       ":Layout\n",
       "   .DynamicMap.I :DynamicMap   []\n",
       "   .Points.I     :Points   [HI column,Emission]"
      ]
     },
     "execution_count": 5,
     "metadata": {},
     "output_type": "execute_result"
    }
   ],
   "source": [
    "colHI = cPickle.load(open('frbs/frbx_nref11n_nref10f_refine200kpc_z4to2_RD0020_H_p0_number_density_forcedres.cpkl','rb'))\n",
    "emisCIII = cPickle.load(open('frbs/frbx_nref11n_nref10f_refine200kpc_z4to2_RD0020_Emission_CIII_977_forcedres.cpkl','rb'))\n",
    "emisOVI = cPickle.load(open('frbs/frbx_nref11n_nref10f_refine200kpc_z4to2_RD0020_Emission_OVI_forcedres.cpkl','rb'))\n",
    "emisCIII = np.log10(emisCIII/(3.**4))\n",
    "emisOVI = np.log10(emisOVI/(3.**4))\n",
    "colHI = np.log10(colHI)\n",
    "\n",
    "iOVI = np.where(emisOVI >= 1.)\n",
    "ptshereOVI = np.vstack((colHI[iOVI], emisOVI[iOVI])).T\n",
    "iCIII = np.where(emisCIII >= 1.)\n",
    "ptshereCIII = np.vstack((colHI[iCIII], emisCIII[iCIII])).T\n",
    "\n",
    "pltOVI = hv.Points(ptshereOVI,kdims=['HI column','Emission'])#.opts(style=dict(alpha=0.4))\n",
    "pltCIII = hv.Points(ptshereCIII,kdims=['HI column','Emission'])\n",
    "\n",
    "datashade(pltCIII).opts(plot=dict(aspect='square')) + pltCIII"
   ]
  },
  {
   "cell_type": "markdown",
   "metadata": {
    "collapsed": false
   },
   "source": [
    "One thing that I could try to do is draw the contours, figure out ow to get them returned and then do a hybrid plot of shading within the contour and plotting the points that lie outside it."
   ]
  },
  {
   "cell_type": "code",
   "execution_count": 167,
   "metadata": {
    "collapsed": false
   },
   "outputs": [
    {
     "data": {
      "image/png": "[encoded data removed]",
      "text/plain": [
       "<matplotlib.figure.Figure at 0x12223ead0>"
      ]
     },
     "metadata": {},
     "output_type": "display_data"
    }
   ],
   "source": [
    "counts,ybins,xbins,image = plt.hist2d(colHI[iCIII],emisCIII[iCIII],bins=100,cmap='Blues')\n",
    "tout = plt.contour(counts.T,extent=[ybins.min(),ybins.max(),xbins.min(),xbins.max()],linewidths=3,cmap='Reds_r')\n",
    "#plt.contour(counts,extent=[xbins.min(),xbins.max(),ybins.min(),ybins.max()],linewidths=3,color='red')\n",
    "\n",
    "plt.show()"
   ]
  },
  {
   "cell_type": "markdown",
   "metadata": {
    "collapsed": false
   },
   "source": [
    "Buttt turns out getting those contours from matplotlib is so not easy. But in making emission pots for Jason, I refound code from my paper with David where I just used 2D histograms. If I pick a colorbar that doesn't end in white, even the low density points are shown."
   ]
  },
  {
   "cell_type": "code",
   "execution_count": 33,
   "metadata": {
    "collapsed": false
   },
   "outputs": [
    {
     "name": "stderr",
     "output_type": "stream",
     "text": [
      "/Users/dalek/anaconda2/lib/python2.7/site-packages/ipykernel/__main__.py:9: RuntimeWarning: divide by zero encountered in log10\n"
     ]
    },
    {
     "data": {
      "image/png": "[encoded data removed]",
      "text/plain": [
       "<matplotlib.figure.Figure at 0x128000cd0>"
      ]
     },
     "metadata": {},
     "output_type": "display_data"
    }
   ],
   "source": [
    "#colHI,emisOVI,emisCIII = colHI.flat,emisOVI.flat,emisCIII.flat\n",
    "iOVI = np.where(emisOVI >= 1.)\n",
    "colHIw,emisOVIw = colHI[iOVI],emisOVI[iOVI]\n",
    "iCIII = np.where(emisCIII >= 1.)\n",
    "colHIx,emisCIIIx = colHI[iCIII],emisCIII[iCIII]\n",
    "\n",
    "hist, xedges, yedges  = np.histogram2d(colHIw,emisOVIw,bins=80,\n",
    "                                       range=[[14,24],[0.5,7]])\n",
    "plt.imshow(np.log10(hist.T),extent=[14,24,0.5,7],origin='lower')\n",
    "plt.colorbar()\n",
    "plt.show()"
   ]
  },
  {
   "cell_type": "code",
   "execution_count": 20,
   "metadata": {
    "collapsed": false
   },
   "outputs": [
    {
     "name": "stdout",
     "output_type": "stream",
     "text": [
      "14.1436779464 23.8750746546\n",
      "1.00002661963 7.99259277893\n"
     ]
    }
   ],
   "source": [
    "print np.min(colHIx),np.max(colHI)\n",
    "print np.min(emisCIIIx),np.max(emisCIIIx)"
   ]
  },
  {
   "cell_type": "code",
   "execution_count": 35,
   "metadata": {
    "collapsed": false
   },
   "outputs": [
    {
     "name": "stderr",
     "output_type": "stream",
     "text": [
      "/Users/dalek/anaconda2/lib/python2.7/site-packages/ipykernel/__main__.py:3: RuntimeWarning: divide by zero encountered in log10\n",
      "  app.launch_new_instance()\n"
     ]
    },
    {
     "data": {
      "image/png": "[encoded data removed]",
      "text/plain": [
       "<matplotlib.figure.Figure at 0x128031b50>"
      ]
     },
     "metadata": {},
     "output_type": "display_data"
    }
   ],
   "source": [
    "hist, xedges, yedges  = np.histogram2d(colHIx,emisCIIIx,bins=80,\n",
    "                                       range=[[14,24],[0.5,7]])\n",
    "plt.imshow(np.log10(hist.T),extent=[14,24,0.5,7],origin='lower')\n",
    "plt.colorbar()\n",
    "plt.show()"
   ]
  },
  {
   "cell_type": "code",
   "execution_count": 42,
   "metadata": {
    "collapsed": false
   },
   "outputs": [],
   "source": [
    "colHIN = cPickle.load(open('frbs/frbx_nref11_RD0020_H_p0_number_density_forcedres.cpkl','rb'))\n",
    "emisCIIIN = cPickle.load(open('frbs/frbx_nref11_RD0020_Emission_CIII_977_forcedres.cpkl','rb'))\n",
    "emisOVIN = cPickle.load(open('frbs/frbx_nref11_RD0020_Emission_OVI_forcedres.cpkl','rb'))\n",
    "emisCIIIN = np.log10(emisCIIIN/(3.**4))\n",
    "emisOVIN = np.log10(emisOVIN/(3.**4))\n",
    "colHIN = np.log10(colHIN)\n",
    "\n",
    "colHIN,emisOVIN,emisCIIIN = colHIN.flat,emisOVIN.flat,emisCIIIN.flat\n",
    "iOVIN = np.where(emisOVIN >= 1.)\n",
    "colHIwN,emisOVIwN = colHIN[iOVIN],emisOVIN[iOVIN]\n",
    "iCIIIN = np.where(emisCIIIN >= 1.)\n",
    "colHIxN,emisCIIIxN = colHIN[iCIIIN],emisCIIIN[iCIIIN]"
   ]
  },
  {
   "cell_type": "code",
   "execution_count": 43,
   "metadata": {
    "collapsed": false
   },
   "outputs": [
    {
     "name": "stderr",
     "output_type": "stream",
     "text": [
      "/Users/dalek/anaconda2/lib/python2.7/site-packages/ipykernel/__main__.py:3: RuntimeWarning: divide by zero encountered in log10\n",
      "  app.launch_new_instance()\n"
     ]
    },
    {
     "data": {
      "image/png": "[encoded data removed]",
      "text/plain": [
       "<matplotlib.figure.Figure at 0x1273789d0>"
      ]
     },
     "metadata": {},
     "output_type": "display_data"
    }
   ],
   "source": [
    "hist, xedges, yedges  = np.histogram2d(colHIwN,emisOVIwN,bins=80,\n",
    "                                       range=[[14,24],[0.5,7]])\n",
    "plt.imshow(np.log10(hist.T),extent=[14,24,0.5,7],origin='lower')\n",
    "plt.colorbar()\n",
    "plt.show()"
   ]
  },
  {
   "cell_type": "code",
   "execution_count": 44,
   "metadata": {
    "collapsed": false
   },
   "outputs": [
    {
     "name": "stderr",
     "output_type": "stream",
     "text": [
      "/Users/dalek/anaconda2/lib/python2.7/site-packages/ipykernel/__main__.py:3: RuntimeWarning: divide by zero encountered in log10\n",
      "  app.launch_new_instance()\n"
     ]
    },
    {
     "data": {
      "image/png": "[encoded data removed]",
      "text/plain": [
       "<matplotlib.figure.Figure at 0x12721ec50>"
      ]
     },
     "metadata": {},
     "output_type": "display_data"
    }
   ],
   "source": [
    "hist, xedges, yedges  = np.histogram2d(colHIxN,emisCIIIxN,bins=80,\n",
    "                                       range=[[14,24],[0.5,7]])\n",
    "plt.imshow(np.log10(hist.T),extent=[14,24,0.5,7],origin='lower')\n",
    "plt.colorbar()\n",
    "plt.show()"
   ]
  },
  {
   "cell_type": "code",
   "execution_count": 45,
   "metadata": {
    "collapsed": true
   },
   "outputs": [],
   "source": [
    "ptshereOVIN = np.vstack((colHIN[iOVIN], emisOVIN[iOVIN])).T\n",
    "ptshereCIIIN = np.vstack((colHIN[iCIIIN], emisCIIIN[iCIIIN])).T\n",
    "\n",
    "pltOVIN = hv.Points(ptshereOVIN,kdims=['HI column','Emission'])#.opts(style=dict(alpha=0.4))\n",
    "pltCIIIN = hv.Points(ptshereCIIIN,kdims=['HI column','Emission'])\n",
    "\n"
   ]
  },
  {
   "cell_type": "code",
   "execution_count": 60,
   "metadata": {
    "collapsed": false
   },
   "outputs": [
    {
     "data": {
      "text/html": [
       "\n",
       "    <script>\n",
       "      function msg_handler(msg) {\n",
       "        var msg = msg.content.data;\n",
       "        \n",
       "/* Backend specific body of the msg_handler, updates displayed frame */\n",
       "target = $('#fig_b52ab835a17c460b8145f324bb22b0d9');\n",
       "img = $('<div />').html(msg);\n",
       "target.children().each(function () { $(this).remove() })\n",
       "target.append(img)\n",
       "\n",
       "      }\n",
       "\n",
       "      if ((window.Jupyter !== undefined) && (Jupyter.notebook.kernel != null)) {\n",
       "        comm_manager = Jupyter.notebook.kernel.comm_manager;\n",
       "        comm_manager.register_target(\"b52ab835a17c460b8145f324bb22b0d9\", function(comm) { comm.on_msg(msg_handler);});\n",
       "      }\n",
       "    </script>\n",
       "\n",
       "    <div id=\"fig_b52ab835a17c460b8145f324bb22b0d9\">\n",
       "      <img src='data:image/png;base64,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' style='max-width:100%; margin: auto; display: block; '/>\n",
       "    </div>\n",
       "    "
      ],
      "text/plain": [
       ":Layout\n",
       "   .DynamicMap.I  :DynamicMap   []\n",
       "   .DynamicMap.II :DynamicMap   []"
      ]
     },
     "execution_count": 60,
     "metadata": {},
     "output_type": "execute_result"
    }
   ],
   "source": [
    "totalCIII = datashade(pltCIII).opts(plot=dict(aspect='square')) + datashade(pltCIIIN,cmap='red').opts(plot=dict(aspect='square'))\n",
    "totalCIII.opts(plot=dict(figsize=[18,18]))"
   ]
  },
  {
   "cell_type": "code",
   "execution_count": 59,
   "metadata": {
    "collapsed": true
   },
   "outputs": [],
   "source": [
    "renderer = Store.renderers['matplotlib'].instance(fig='pdf',holomap='gif')\n",
    "renderer.save(totalCIII,'emisCIII_vs_HI')"
   ]
  },
  {
   "cell_type": "code",
   "execution_count": 63,
   "metadata": {
    "collapsed": false
   },
   "outputs": [
    {
     "data": {
      "text/html": [
       "\n",
       "    <script>\n",
       "      function msg_handler(msg) {\n",
       "        var msg = msg.content.data;\n",
       "        \n",
       "/* Backend specific body of the msg_handler, updates displayed frame */\n",
       "target = $('#fig_0b7fee0aa8964839ab7307b86972a1c6');\n",
       "img = $('<div />').html(msg);\n",
       "target.children().each(function () { $(this).remove() })\n",
       "target.append(img)\n",
       "\n",
       "      }\n",
       "\n",
       "      if ((window.Jupyter !== undefined) && (Jupyter.notebook.kernel != null)) {\n",
       "        comm_manager = Jupyter.notebook.kernel.comm_manager;\n",
       "        comm_manager.register_target(\"0b7fee0aa8964839ab7307b86972a1c6\", function(comm) { comm.on_msg(msg_handler);});\n",
       "      }\n",
       "    </script>\n",
       "\n",
       "    <div id=\"fig_0b7fee0aa8964839ab7307b86972a1c6\">\n",
       "      <img src='data:image/png;base64,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' style='max-width:100%; margin: auto; display: block; '/>\n",
       "    </div>\n",
       "    "
      ],
      "text/plain": [
       ":DynamicMap   []"
      ]
     },
     "execution_count": 63,
     "metadata": {},
     "output_type": "execute_result"
    }
   ],
   "source": [
    "totalOVI = datashade(pltOVI).opts(plot=dict(aspect='square')) * datashade(pltOVIN,cmap='red').opts(plot=dict(aspect='square'))\n",
    "totalOVI.opts(plot=dict(figsize=[18,18]))"
   ]
  },
  {
   "cell_type": "code",
   "execution_count": 108,
   "metadata": {
    "collapsed": false
   },
   "outputs": [],
   "source": [
    "id1= np.where(emisCIII > 1)[0]\n",
    "id2 = np.where(emisCIIIN> 1)[0]"
   ]
  },
  {
   "cell_type": "code",
   "execution_count": 107,
   "metadata": {
    "collapsed": false
   },
   "outputs": [
    {
     "name": "stdout",
     "output_type": "stream",
     "text": [
      "(525, 525)\n"
     ]
    }
   ],
   "source": [
    "eCIII = cPickle.load(open('frbs/frbx_nref11n_nref10f_refine200kpc_z4to2_RD0020_Emission_CIII_977_forcedres.cpkl','rb'))\n",
    "eCIIIN = cPickle.load(open('frbs/frbx_nref11_RD0020_Emission_CIII_977_forcedres.cpkl','rb'))\n"
   ]
  },
  {
   "cell_type": "code",
   "execution_count": 102,
   "metadata": {
    "collapsed": false
   },
   "outputs": [
    {
     "data": {
      "image/png": "[encoded data removed]",
      "text/plain": [
       "<matplotlib.figure.Figure at 0x1304459d0>"
      ]
     },
     "metadata": {},
     "output_type": "display_data"
    }
   ],
   "source": [
    "fig,ax = plt.subplots(1,2)\n",
    "im1 = ax[0].imshow(np.log10(eCIII/(3**4)),vmin=1)\n",
    "ax[1].imshow(np.log10(eCIIIN/(3**4)),vmin=1)\n",
    "plt.colorbar(im1)\n",
    "plt.show()\n"
   ]
  },
  {
   "cell_type": "code",
   "execution_count": 111,
   "metadata": {
    "collapsed": false
   },
   "outputs": [
    {
     "name": "stdout",
     "output_type": "stream",
     "text": [
      "157028 115624\n"
     ]
    }
   ],
   "source": [
    "id1= np.where(eCIII > 1)[0]\n",
    "id2 = np.where(eCIIIN> 1)[0]\n",
    "print len(id1),len(id2)\n"
   ]
  },
  {
   "cell_type": "code",
   "execution_count": 112,
   "metadata": {
    "collapsed": false
   },
   "outputs": [
    {
     "name": "stdout",
     "output_type": "stream",
     "text": [
      "0.736327279211\n"
     ]
    }
   ],
   "source": [
    "print 115624./157028"
   ]
  },
  {
   "cell_type": "code",
   "execution_count": null,
   "metadata": {
    "collapsed": true
   },
   "outputs": [],
   "source": []
  }
 ],
 "metadata": {
  "kernelspec": {
   "display_name": "Python 2",
   "language": "python",
   "name": "python2"
  },
  "language_info": {
   "codemirror_mode": {
    "name": "ipython",
    "version": 2
   },
   "file_extension": ".py",
   "mimetype": "text/x-python",
   "name": "python",
   "nbconvert_exporter": "python",
   "pygments_lexer": "ipython2",
   "version": "2.7.13"
  }
 },
 "nbformat": 4,
 "nbformat_minor": 2
}
