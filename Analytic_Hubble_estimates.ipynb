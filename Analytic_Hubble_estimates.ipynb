{
 "cells": [
  {
   "cell_type": "code",
   "execution_count": 2,
   "metadata": {
    "collapsed": true
   },
   "outputs": [],
   "source": [
    "import numpy as np\n",
    "import matplotlib.pyplot as plt\n",
    "from astropy import units as u"
   ]
  },
  {
   "cell_type": "code",
   "execution_count": 9,
   "metadata": {
    "collapsed": true
   },
   "outputs": [],
   "source": [
    "NHI = [15.,16.,17.,18.,19.]\n",
    "nH  = [-4.,-3.,-2.]#,-2.]\n",
    "Tc  = [3., 4.]\n",
    "Tm  = 6.\n",
    "L = []\n",
    "N = []\n",
    "M = []"
   ]
  },
  {
   "cell_type": "code",
   "execution_count": 10,
   "metadata": {
    "collapsed": false
   },
   "outputs": [
    {
     "name": "stdout",
     "output_type": "stream",
     "text": [
      "15.0 -4.0 3.24077928947 pc 0.000351680641596 solMass\n",
      "15.0 -3.0 0.324077928947 pc 3.51680641596e-06 solMass\n",
      "15.0 -2.0 0.0324077928947 pc 3.51680641596e-08 solMass\n",
      "16.0 -4.0 32.4077928947 pc 0.351680641596 solMass\n",
      "16.0 -3.0 3.24077928947 pc 0.00351680641596 solMass\n",
      "16.0 -2.0 0.324077928947 pc 3.51680641596e-05 solMass\n",
      "17.0 -4.0 324.077928947 pc 351.680641596 solMass\n",
      "17.0 -3.0 32.4077928947 pc 3.51680641596 solMass\n",
      "17.0 -2.0 3.24077928947 pc 0.0351680641596 solMass\n",
      "18.0 -4.0 3240.77928947 pc 351680.641596 solMass\n",
      "18.0 -3.0 324.077928947 pc 3516.80641596 solMass\n",
      "18.0 -2.0 32.4077928947 pc 35.1680641596 solMass\n",
      "19.0 -4.0 32407.7928947 pc 351680641.596 solMass\n",
      "19.0 -3.0 3240.77928947 pc 3516806.41596 solMass\n",
      "19.0 -2.0 324.077928947 pc 35168.0641596 solMass\n"
     ]
    }
   ],
   "source": [
    "for x in NHI:\n",
    "    for y in nH:\n",
    "        l = 10.**x/10.**y * u.cm\n",
    "        L = np.append(L,l.to('pc'))\n",
    "        mass = (4.*np.pi/3.)*(10**y*u.cm**-3)*l**3*u.g*1.67e-24\n",
    "        mass = mass.to('Msun')\n",
    "        print x,y,l.to('pc'),mass\n",
    "        N = np.append(N,x)\n",
    "        M = np.append(M,mass)"
   ]
  },
  {
   "cell_type": "code",
   "execution_count": 11,
   "metadata": {
    "collapsed": false
   },
   "outputs": [
    {
     "name": "stdout",
     "output_type": "stream",
     "text": [
      "[  3.24077929e+00   3.24077929e-01   3.24077929e-02   3.24077929e+01\n",
      "   3.24077929e+00   3.24077929e-01   3.24077929e+02   3.24077929e+01\n",
      "   3.24077929e+00   3.24077929e+03   3.24077929e+02   3.24077929e+01\n",
      "   3.24077929e+04   3.24077929e+03   3.24077929e+02] (Unit not initialised)\n"
     ]
    }
   ],
   "source": [
    "print L"
   ]
  },
  {
   "cell_type": "code",
   "execution_count": 12,
   "metadata": {
    "collapsed": false
   },
   "outputs": [
    {
     "name": "stdout",
     "output_type": "stream",
     "text": [
      "3.21126940865e+34\n"
     ]
    }
   ],
   "source": [
    "print (4.*np.pi/3.)*(1.67e-24*10**-5)*(250.*u.pc.to('cm'))**3"
   ]
  },
  {
   "cell_type": "code",
   "execution_count": 13,
   "metadata": {
    "collapsed": false
   },
   "outputs": [
    {
     "data": {
      "text/plain": [
       "3.516806415961993"
      ]
     },
     "execution_count": 13,
     "metadata": {},
     "output_type": "execute_result"
    }
   ],
   "source": [
    "6.99527964199e+33*u.g.to('solMass')"
   ]
  },
  {
   "cell_type": "code",
   "execution_count": 20,
   "metadata": {
    "collapsed": false
   },
   "outputs": [],
   "source": [
    "plt.plot(N,np.log10(L),'o')\n",
    "plt.axhline(np.log10(250.),color='Orange')\n",
    "plt.xlabel('N_HI')\n",
    "plt.ylabel('log(L) [pc]')\n",
    "#plt.show()\n",
    "plt.savefig('length_v_NHI.pdf')\n"
   ]
  },
  {
   "cell_type": "code",
   "execution_count": 23,
   "metadata": {
    "collapsed": false
   },
   "outputs": [
    {
     "name": "stdout",
     "output_type": "stream",
     "text": [
      "16.1443336617 solMass\n"
     ]
    }
   ],
   "source": [
    "enzoM = (4.*np.pi/3.)*1e-5*u.cm**-3*(250.*u.pc).to('cm')**3*1.67e-24*u.g\n",
    "enzoM = enzoM.to('Msun')\n",
    "print enzoM\n",
    "illustrisM = 1.2e5*u.solMass\n",
    "plt.close()"
   ]
  },
  {
   "cell_type": "code",
   "execution_count": 24,
   "metadata": {
    "collapsed": false
   },
   "outputs": [],
   "source": [
    "plt.plot(N,np.log10(M),'o')\n",
    "plt.axhline(np.log10(enzoM.value),color='Orange')\n",
    "plt.axhline(np.log10(illustrisM.value),color='Red')\n",
    "plt.xlabel('N_HI')\n",
    "plt.ylabel('log(M) [M_sun]')\n",
    "plt.savefig('mass_v_NHI.pdf')\n",
    "#plt.show()"
   ]
  },
  {
   "cell_type": "code",
   "execution_count": 19,
   "metadata": {
    "collapsed": false
   },
   "outputs": [
    {
     "data": {
      "image/png": "[encoded data removed]",
      "text/plain": [
       "<matplotlib.figure.Figure at 0x117390250>"
      ]
     },
     "metadata": {},
     "output_type": "display_data"
    }
   ],
   "source": [
    "plt.plot(np.log10(L),np.log10(M),'o')\n",
    "plt.xlabel('log(L) [pc]')\n",
    "plt.ylabel('log(M) [M_sun]')\n",
    "plt.show()"
   ]
  },
  {
   "cell_type": "code",
   "execution_count": null,
   "metadata": {
    "collapsed": true
   },
   "outputs": [],
   "source": []
  }
 ],
 "metadata": {
  "kernelspec": {
   "display_name": "Python 2",
   "language": "python",
   "name": "python2"
  },
  "language_info": {
   "codemirror_mode": {
    "name": "ipython",
    "version": 2
   },
   "file_extension": ".py",
   "mimetype": "text/x-python",
   "name": "python",
   "nbconvert_exporter": "python",
   "pygments_lexer": "ipython2",
   "version": "2.7.13"
  }
 },
 "nbformat": 4,
 "nbformat_minor": 2
}
