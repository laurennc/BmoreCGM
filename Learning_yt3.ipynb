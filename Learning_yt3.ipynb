{
 "cells": [
  {
   "cell_type": "code",
   "execution_count": 1,
   "metadata": {
    "collapsed": false
   },
   "outputs": [
    {
     "name": "stderr",
     "output_type": "stream",
     "text": [
      ":0: FutureWarning: IPython widgets are experimental and may change in the future.\n"
     ]
    }
   ],
   "source": [
    "import yt\n",
    "import numpy as np\n",
    "import matplotlib.pyplot as plt\n",
    "import seaborn as sns\n",
    "from mpl_toolkits.axes_grid1 import AxesGrid"
   ]
  },
  {
   "cell_type": "code",
   "execution_count": 8,
   "metadata": {
    "collapsed": false
   },
   "outputs": [
    {
     "name": "stderr",
     "output_type": "stream",
     "text": [
      "yt : [INFO     ] 2016-09-02 18:15:20,895 Parameters: current_time              = 275.041308666\n",
      "yt : [INFO     ] 2016-09-02 18:15:20,896 Parameters: domain_dimensions         = [128 128 128]\n",
      "yt : [INFO     ] 2016-09-02 18:15:20,898 Parameters: domain_left_edge          = [ 0.  0.  0.]\n",
      "yt : [INFO     ] 2016-09-02 18:15:20,900 Parameters: domain_right_edge         = [ 1.  1.  1.]\n",
      "yt : [INFO     ] 2016-09-02 18:15:20,901 Parameters: cosmological_simulation   = 1\n",
      "yt : [INFO     ] 2016-09-02 18:15:20,902 Parameters: current_redshift          = 0.999998836835\n",
      "yt : [INFO     ] 2016-09-02 18:15:20,903 Parameters: omega_lambda              = 0.721\n",
      "yt : [INFO     ] 2016-09-02 18:15:20,903 Parameters: omega_matter              = 0.279\n",
      "yt : [INFO     ] 2016-09-02 18:15:20,904 Parameters: hubble_constant           = 0.7\n",
      "Parsing Hierarchy : 100%|██████████| 44535/44535 [00:03<00:00, 11802.28it/s]\n",
      "yt : [INFO     ] 2016-09-02 18:15:28,534 Gathering a field list (this may take a moment.)\n",
      "yt : [INFO     ] 2016-09-02 18:20:37,029 Max Value is 2.69265e+06 at 0.3861618041992188 0.4608688354492188 0.4915695190429688\n"
     ]
    }
   ],
   "source": [
    "rvir0,rvir02,rvir05,rvir1 = 316.86,294.55,226.32,162.66\n",
    "fn = \"/Volumes/TOSHIBA EXT/r0038/redshift0038\"\n",
    "ds = yt.load(fn,file_style=\"%s.grid.cpu%%04i\")\n",
    "val, pos = ds.find_max('Density')\n",
    "rvir = 162.66"
   ]
  },
  {
   "cell_type": "code",
   "execution_count": 9,
   "metadata": {
    "collapsed": false
   },
   "outputs": [
    {
     "name": "stderr",
     "output_type": "stream",
     "text": [
      "yt : [INFO     ] 2016-09-02 18:25:24,483 Projection completed\n",
      "yt : [INFO     ] 2016-09-02 18:25:24,490 xlim = 0.432869 0.488869\n",
      "yt : [INFO     ] 2016-09-02 18:25:24,491 ylim = 0.463570 0.519570\n",
      "yt : [INFO     ] 2016-09-02 18:25:24,496 xlim = 0.432869 0.488869\n",
      "yt : [INFO     ] 2016-09-02 18:25:24,497 ylim = 0.463570 0.519570\n",
      "yt : [INFO     ] 2016-09-02 18:25:24,500 Making a fixed resolution buffer of (('gas', 'density')) 800 by 800\n",
      "yt : [INFO     ] 2016-09-02 18:25:25,233 Saving plot density_z1_Projection_x_density.png\n"
     ]
    },
    {
     "data": {
      "text/plain": [
       "['density_z1_Projection_x_density.png']"
      ]
     },
     "execution_count": 9,
     "metadata": {},
     "output_type": "execute_result"
    }
   ],
   "source": [
    "#pos = [0.40328598,0.47176743,0.46131516]\n",
    "#rvir = 320.\n",
    "\n",
    "dp = yt.ProjectionPlot(ds,'x',('gas','density'),center=pos,width=(1000,\"kpc\"))\n",
    "cmap = sns.blend_palette((\"black\",\"#984ea3\",\"#d73027\",\"darkorange\",\"#ffe34d\",\"#4daf4a\",\"white\"), n_colors=60, as_cmap=True)\n",
    "dp.set_cmap(('gas','density'),cmap)\n",
    "dp.set_zlim(('gas','density'),5e-6,1e-2)\n",
    "dp.annotate_sphere(pos, radius=(rvir,'kpc'), circle_args={'color':'white', 'ls':'--', 'lw':2})\n",
    "dp.hide_axes()\n",
    "dp.save('density_z1')"
   ]
  },
  {
   "cell_type": "code",
   "execution_count": 11,
   "metadata": {
    "collapsed": false
   },
   "outputs": [
    {
     "name": "stderr",
     "output_type": "stream",
     "text": [
      "yt : [INFO     ] 2016-09-02 18:35:29,818 Projection completed\n",
      "yt : [INFO     ] 2016-09-02 18:35:29,821 xlim = 0.432869 0.488869\n",
      "yt : [INFO     ] 2016-09-02 18:35:29,822 ylim = 0.463570 0.519570\n",
      "yt : [INFO     ] 2016-09-02 18:35:29,825 xlim = 0.432869 0.488869\n",
      "yt : [INFO     ] 2016-09-02 18:35:29,825 ylim = 0.463570 0.519570\n",
      "yt : [INFO     ] 2016-09-02 18:35:29,827 Making a fixed resolution buffer of (('gas', 'temperature')) 800 by 800\n",
      "yt : [INFO     ] 2016-09-02 18:35:30,602 Saving plot temp_z1_Projection_x_temperature_density.png\n"
     ]
    },
    {
     "data": {
      "text/plain": [
       "['temp_z1_Projection_x_temperature_density.png']"
      ]
     },
     "execution_count": 11,
     "metadata": {},
     "output_type": "execute_result"
    }
   ],
   "source": [
    "tp = yt.ProjectionPlot(ds,'x',('gas','temperature'),weight_field=('gas','density'),center=pos,width=(1000,\"kpc\"))\n",
    "cmap = sns.blend_palette((\"black\",\"#d73027\",\"darkorange\",\"#ffe34d\"), n_colors=50, as_cmap=True)\n",
    "tp.set_cmap(\"temperature\",cmap)\n",
    "tp.set_zlim(\"temperature\",1e4,5e6)\n",
    "tp.annotate_sphere(pos, radius=(rvir,'kpc'), circle_args={'color':'white', 'ls':'--', 'lw':2})\n",
    "tp.hide_axes()\n",
    "tp.save('temp_z1')"
   ]
  },
  {
   "cell_type": "code",
   "execution_count": 6,
   "metadata": {
    "collapsed": false
   },
   "outputs": [
    {
     "name": "stderr",
     "output_type": "stream",
     "text": [
      "yt : [INFO     ] 2016-09-02 18:14:02,845 Projection completed\n",
      "yt : [INFO     ] 2016-09-02 18:14:02,847 xlim = 0.444710 0.486710\n",
      "yt : [INFO     ] 2016-09-02 18:14:02,848 ylim = 0.457550 0.499550\n",
      "yt : [INFO     ] 2016-09-02 18:14:02,850 xlim = 0.444710 0.486710\n",
      "yt : [INFO     ] 2016-09-02 18:14:02,851 ylim = 0.457550 0.499550\n",
      "yt : [INFO     ] 2016-09-02 18:14:02,854 Making a fixed resolution buffer of (('gas', 'metallicity')) 800 by 800\n",
      "yt : [INFO     ] 2016-09-02 18:14:03,465 Saving plot metal_z05_Projection_x_metallicity_density.png\n"
     ]
    },
    {
     "data": {
      "text/plain": [
       "['metal_z05_Projection_x_metallicity_density.png']"
      ]
     },
     "execution_count": 6,
     "metadata": {},
     "output_type": "execute_result"
    }
   ],
   "source": [
    "mp = yt.ProjectionPlot(ds, 'x', ('gas','metallicity'), weight_field=('gas','density'), center=pos, width=(1000,\"kpc\"))\n",
    "mp.set_zlim(('gas','metallicity'),1e-4,1e-2)\n",
    "cmap = sns.blend_palette((\"black\",\"#984ea3\",\"#4575b4\",\"#4daf4a\",\"#ffe34d\",\"darkorange\"), as_cmap=True)\n",
    "mp.set_cmap(('gas','metallicity'),cmap)\n",
    "mp.annotate_sphere(pos, radius=(rvir,'kpc'), circle_args={'color':'white', 'ls':'--', 'lw':2})\n",
    "mp.hide_axes()\n",
    "mp.save('metal_z1')"
   ]
  },
  {
   "cell_type": "code",
   "execution_count": null,
   "metadata": {
    "collapsed": false
   },
   "outputs": [],
   "source": [
    "mp = yt.ProjectionPlot(ds, 'x', ('gas','metallicity'), weight_field=('gas','density'), center=pos, width=(1000,\"kpc\"))\n",
    "mp.set_zlim(('gas','metallicity'),1e-2,1)\n",
    "cmap = sns.blend_palette((\"black\",\"#984ea3\",\"#4575b4\",\"#4daf4a\",\"#ffe34d\",\"darkorange\"), as_cmap=True)\n",
    "mp.set_cmap(('gas','metallicity'),cmap)\n",
    "mp.annotate_sphere(pos, radius=(rvir,'kpc'), circle_args={'color':'white', 'ls':'--', 'lw':2})\n",
    "mp.hide_axes()\n",
    "mp.save('metal_z1_higher')"
   ]
  },
  {
   "cell_type": "markdown",
   "metadata": {
    "collapsed": false
   },
   "source": [
    "So multipanels is just not going well and I don't know what the issue is. SO! I'm going to go back to the original strategy of making frbs. It's easy to go directly from the projections but can I make a thin frb in yt3..."
   ]
  },
  {
   "cell_type": "code",
   "execution_count": 3,
   "metadata": {
    "collapsed": false
   },
   "outputs": [],
   "source": [
    "thickness = yt.YTQuantity(500., 'kpc')\n",
    "width = yt.YTQuantity(320.,'kpc')\n",
    "thickness,width = thickness.in_units('cm'),width.in_units('cm')\n",
    "\n",
    "thickness = float(thickness.value)/1.10202798453e+26\n",
    "width = float(width.value)/1.10202798453e+26\n"
   ]
  },
  {
   "cell_type": "code",
   "execution_count": 4,
   "metadata": {
    "collapsed": false
   },
   "outputs": [
    {
     "data": {
      "text/plain": [
       "(array([ 0.39628598,  0.46728743,  0.45683516]),\n",
       " array([ 0.41028598,  0.47624743,  0.46579516]))"
      ]
     },
     "execution_count": 4,
     "metadata": {},
     "output_type": "execute_result"
    }
   ],
   "source": [
    "axis = 'x'\n",
    "\n",
    "if axis=='x':\n",
    "    axis = 0\n",
    "elif axis=='y':\n",
    "    axis = 1\n",
    "elif axis=='z':\n",
    "    axis = 2\n",
    "else:\n",
    "    print 'no correct axis'\n",
    "\n",
    "center = np.array(pos)\n",
    "LE,RE = center.copy(),center.copy()\n",
    "LE[axis] -= thickness/2.0\n",
    "RE[axis] += thickness/2.0\n",
    "\n",
    "area_axes = [0,1,2]\n",
    "i = area_axes.index(axis)\n",
    "del area_axes[i]\n",
    "\n",
    "LE[area_axes] -= width/2.0\n",
    "RE[area_axes] += width/2.0\n",
    "\n",
    "LE,RE"
   ]
  },
  {
   "cell_type": "code",
   "execution_count": 21,
   "metadata": {
    "collapsed": false
   },
   "outputs": [
    {
     "name": "stdout",
     "output_type": "stream",
     "text": [
      "Unit name:      code_magnetic  \n",
      "CGS conversion: 0.000918623200201\n",
      "Dimensions:     sqrt((mass))/(sqrt((length))*(time))\n",
      "\n",
      "Unit name:      code_time      \n",
      "CGS conversion: 6.81554201096e+14\n",
      "Dimensions:     (time)         \n",
      "\n",
      "Unit name:      code_temperature\n",
      "CGS conversion: 1.0            \n",
      "Dimensions:     (temperature)  \n",
      "\n",
      "Unit name:      code_pressure  \n",
      "CGS conversion: 6.71529282277e-08\n",
      "Dimensions:     (mass)/((length)*(time)**2)\n",
      "\n",
      "Unit name:      code_mass      \n",
      "CGS conversion: 3.43762402761e+48\n",
      "Dimensions:     (mass)         \n",
      "\n",
      "Unit name:      code_velocity  \n",
      "CGS conversion: 1617626299.16  \n",
      "Dimensions:     (length)/(time)\n",
      "\n",
      "Unit name:      code_length    \n",
      "CGS conversion: 1.10202798453e+26\n",
      "Dimensions:     (length)       \n",
      "\n",
      "Unit name:      code_density   \n",
      "CGS conversion: 2.5685055429e-30\n",
      "Dimensions:     (mass)/(length)**3\n",
      "\n",
      "Unit name:      code_metallicity\n",
      "CGS conversion: 1.0            \n",
      "Dimensions:     1              \n",
      "\n"
     ]
    }
   ],
   "source": [
    "reg = ds.unit_registry\n",
    "\n",
    "for un in reg.keys():\n",
    "    if un.startswith('code_'):\n",
    "        fmt_tup = (un, reg.lut[un][0], str(reg.lut[un][1]))\n",
    "        print (\"Unit name:      {:<15}\\nCGS conversion: {:<15}\\nDimensions:     {:<15}\\n\".format(*fmt_tup))\n"
   ]
  },
  {
   "cell_type": "code",
   "execution_count": null,
   "metadata": {
    "collapsed": false,
    "scrolled": true
   },
   "outputs": [
    {
     "name": "stderr",
     "output_type": "stream",
     "text": [
      "Parsing Hierarchy : 100%|██████████| 29485/29485 [00:01<00:00, 16827.27it/s]\n",
      "yt : [INFO     ] 2016-09-02 13:00:25,781 Gathering a field list (this may take a moment.)\n"
     ]
    }
   ],
   "source": [
    "obj = ds.proj('Density','x',center=center)#,weight_field=weight_field)\n",
    "#obj = ds.proj(fields,'x',weight_field,center,region)"
   ]
  },
  {
   "cell_type": "code",
   "execution_count": 5,
   "metadata": {
    "collapsed": false
   },
   "outputs": [
    {
     "name": "stderr",
     "output_type": "stream",
     "text": [
      "Parsing Hierarchy : 100%|██████████| 29485/29485 [00:01<00:00, 16374.81it/s]\n",
      "yt : [INFO     ] 2016-09-02 13:02:26,408 Gathering a field list (this may take a moment.)\n",
      "yt : [INFO     ] 2016-09-02 13:04:09,214 Projection completed\n"
     ]
    }
   ],
   "source": [
    "region = ds.region(center,LE,RE)\n",
    "obj2 = ds.proj('Temperature','x',data_source=region,weight_field='Density')    \n",
    "    \n",
    "    #obj = pf.h.proj(axis,fields,source=region,center=center,weight_field=weight_field)\n",
    "        #frb = obj.to_frb(width,resolution,center=center)"
   ]
  },
  {
   "cell_type": "code",
   "execution_count": 9,
   "metadata": {
    "collapsed": false
   },
   "outputs": [],
   "source": [
    "resolution = [800,800]\n",
    "frb_out = obj2.to_frb(width,resolution,center=center)"
   ]
  },
  {
   "cell_type": "code",
   "execution_count": 35,
   "metadata": {
    "collapsed": false
   },
   "outputs": [
    {
     "name": "stdout",
     "output_type": "stream",
     "text": [
      "(14744990, 3)\n",
      "[ 0.39628598  0.46728743  0.45683516] [ 0.41028598  0.47624743  0.46579516]\n",
      "0.396286010742 code_length 0.410285949707 code_length\n"
     ]
    }
   ],
   "source": [
    "frb = np.array(frb_out['Temperature'])\n",
    "frb.shape\n",
    "\n",
    "print region.fcoords.shape\n",
    "print LE,RE\n",
    "print region.fcoords[:,0].min(),region.fcoords[:,0].max()\n",
    "\n"
   ]
  },
  {
   "cell_type": "code",
   "execution_count": 19,
   "metadata": {
    "collapsed": false
   },
   "outputs": [],
   "source": [
    "cmap = sns.blend_palette((\"black\",\"#d73027\",\"darkorange\",\"#ffe34d\"), n_colors=50, as_cmap=True)\n",
    "plt.imshow(np.log10(frb),interpolation='none',cmap=cmap,vmin=4,vmax=6.7)\n",
    "#plt.cmap(\"temperature\",cmap)\n",
    "#plt.set_zlim(\"temperature\",1e4,5e6)\n",
    "plt.colorbar()\n",
    "#tp.annotate_sphere(pos, radius=(320.,'kpc'), circle_args={'color':'white', 'ls':'--', 'lw':2})\n",
    "plt.show()"
   ]
  },
  {
   "cell_type": "code",
   "execution_count": 18,
   "metadata": {
    "collapsed": false
   },
   "outputs": [],
   "source": [
    "plt.close()"
   ]
  },
  {
   "cell_type": "code",
   "execution_count": 39,
   "metadata": {
    "collapsed": false
   },
   "outputs": [
    {
     "data": {
      "text/plain": [
       "['__class__',\n",
       " '__delattr__',\n",
       " '__dict__',\n",
       " '__doc__',\n",
       " '__format__',\n",
       " '__getattribute__',\n",
       " '__getitem__',\n",
       " '__hash__',\n",
       " '__init__',\n",
       " '__module__',\n",
       " '__new__',\n",
       " '__reduce__',\n",
       " '__reduce_ex__',\n",
       " '__repr__',\n",
       " '__setattr__',\n",
       " '__sizeof__',\n",
       " '__str__',\n",
       " '__subclasshook__',\n",
       " '__weakref__',\n",
       " 'angular_momentum_vector',\n",
       " 'bulk_velocity',\n",
       " 'center_of_mass',\n",
       " 'data_source',\n",
       " 'extrema',\n",
       " 'keys',\n",
       " 'max_location',\n",
       " 'min_location',\n",
       " 'sample_at_max_field_values',\n",
       " 'sample_at_min_field_values',\n",
       " 'spin_parameter',\n",
       " 'total_mass',\n",
       " 'total_quantity',\n",
       " 'weighted_average_quantity',\n",
       " 'weighted_variance']"
      ]
     },
     "execution_count": 39,
     "metadata": {},
     "output_type": "execute_result"
    }
   ],
   "source": [
    "dir(region.quantities)"
   ]
  },
  {
   "cell_type": "code",
   "execution_count": 3,
   "metadata": {
    "collapsed": false
   },
   "outputs": [
    {
     "name": "stdout",
     "output_type": "stream",
     "text": [
      "[ 0.39342117  0.46570969  0.47854996] code_length\n"
     ]
    }
   ],
   "source": [
    "print pos"
   ]
  },
  {
   "cell_type": "code",
   "execution_count": 4,
   "metadata": {
    "collapsed": false
   },
   "outputs": [
    {
     "name": "stdout",
     "output_type": "stream",
     "text": [
      "226.32\n"
     ]
    }
   ],
   "source": [
    "print rvir\n"
   ]
  },
  {
   "cell_type": "code",
   "execution_count": null,
   "metadata": {
    "collapsed": true
   },
   "outputs": [],
   "source": []
  }
 ],
 "metadata": {
  "kernelspec": {
   "display_name": "Python 2",
   "language": "python",
   "name": "python2"
  },
  "language_info": {
   "codemirror_mode": {
    "name": "ipython",
    "version": 2
   },
   "file_extension": ".py",
   "mimetype": "text/x-python",
   "name": "python",
   "nbconvert_exporter": "python",
   "pygments_lexer": "ipython2",
   "version": "2.7.12"
  }
 },
 "nbformat": 4,
 "nbformat_minor": 0
}
