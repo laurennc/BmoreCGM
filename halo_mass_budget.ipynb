{
 "cells": [
  {
   "cell_type": "code",
   "execution_count": 1,
   "metadata": {
    "collapsed": false
   },
   "outputs": [
    {
     "name": "stderr",
     "output_type": "stream",
     "text": [
      ":0: FutureWarning: IPython widgets are experimental and may change in the future.\n"
     ]
    }
   ],
   "source": [
    "import yt\n",
    "import numpy as np\n",
    "import matplotlib.pyplot as plt\n",
    "import seaborn as sns\n"
   ]
  },
  {
   "cell_type": "code",
   "execution_count": 2,
   "metadata": {
    "collapsed": false
   },
   "outputs": [
    {
     "name": "stderr",
     "output_type": "stream",
     "text": [
      "yt : [INFO     ] 2016-09-02 14:40:27,818 Parameters: current_time              = 523.44496311\n",
      "yt : [INFO     ] 2016-09-02 14:40:27,820 Parameters: domain_dimensions         = [128 128 128]\n",
      "yt : [INFO     ] 2016-09-02 14:40:27,821 Parameters: domain_left_edge          = [ 0.  0.  0.]\n",
      "yt : [INFO     ] 2016-09-02 14:40:27,823 Parameters: domain_right_edge         = [ 1.  1.  1.]\n",
      "yt : [INFO     ] 2016-09-02 14:40:27,824 Parameters: cosmological_simulation   = 1\n",
      "yt : [INFO     ] 2016-09-02 14:40:27,825 Parameters: current_redshift          = 0.199995700033\n",
      "yt : [INFO     ] 2016-09-02 14:40:27,826 Parameters: omega_lambda              = 0.721\n",
      "yt : [INFO     ] 2016-09-02 14:40:27,827 Parameters: omega_matter              = 0.279\n",
      "yt : [INFO     ] 2016-09-02 14:40:27,828 Parameters: hubble_constant           = 0.7\n"
     ]
    }
   ],
   "source": [
    "fn = \"/Volumes/TOSHIBA EXT/r0054/redshift0054\"\n",
    "ds = yt.load(fn,file_style=\"%s.grid.cpu%%04i\")\n",
    "pos = [0.40328598,0.47176743,0.46131516]\n",
    "rvir = 316.86"
   ]
  },
  {
   "cell_type": "code",
   "execution_count": 4,
   "metadata": {
    "collapsed": false
   },
   "outputs": [
    {
     "name": "stderr",
     "output_type": "stream",
     "text": [
      "Parsing Hierarchy : 100%|██████████| 30876/30876 [00:02<00:00, 13111.78it/s]\n",
      "yt : [INFO     ] 2016-09-02 14:41:26,287 Gathering a field list (this may take a moment.)\n"
     ]
    }
   ],
   "source": [
    "sphere = ds.sphere(center=pos,radius=(rvir,'kpc'))"
   ]
  },
  {
   "cell_type": "code",
   "execution_count": 16,
   "metadata": {
    "collapsed": false
   },
   "outputs": [
    {
     "data": {
      "text/plain": [
       "YTArray([  8.83296854e+07,   5.73291168e+09]) Msun"
      ]
     },
     "execution_count": 16,
     "metadata": {},
     "output_type": "execute_result"
    }
   ],
   "source": [
    "sphere.quantities['TotalMass']().in_units('Msun')"
   ]
  },
  {
   "cell_type": "code",
   "execution_count": 22,
   "metadata": {
    "collapsed": false
   },
   "outputs": [
    {
     "name": "stdout",
     "output_type": "stream",
     "text": [
      "0.0224341849737 g/cm**3\n",
      "0.0 Msun\n"
     ]
    }
   ],
   "source": [
    "idx = np.where(sphere['Density'].in_cgs() > 0.1)\n",
    "print sphere['Density'].max().in_cgs()/1.67e-24\n",
    "mass_ism1 = np.sum(sphere['cell_mass'][idx].in_units('Msun'))\n",
    "print mass_ism1"
   ]
  },
  {
   "cell_type": "markdown",
   "metadata": {},
   "source": [
    "Mdm = 1.52e12\n",
    "Mstar = 2.12e11\n",
    "\n",
    "The maximum H_NumberDensity in the simulation is: \n",
    "\n",
    "so I'm not going to be able to make the same cuts as the FIRE people. I guess they just have better overall resolution.\n",
    "    "
   ]
  },
  {
   "cell_type": "code",
   "execution_count": null,
   "metadata": {
    "collapsed": true
   },
   "outputs": [],
   "source": [
    "\n",
    "\n",
    "idx = np.where((sphere['Density'].in_cgs() > 0.1) & (sphere['Temperature'] < 1e4))[0][0]\n",
    "mass_ism2 = np.sum(sphere['CellMassMsun'])"
   ]
  },
  {
   "cell_type": "code",
   "execution_count": 15,
   "metadata": {
    "collapsed": false
   },
   "outputs": [
    {
     "name": "stdout",
     "output_type": "stream",
     "text": [
      "Help on TotalMass in module yt.data_objects.derived_quantities object:\n",
      "\n",
      "class TotalMass(TotalQuantity)\n",
      " |  Calculates the total mass of the object. Returns a YTArray where the\n",
      " |  first element is total gas mass and the second element is total particle \n",
      " |  mass.\n",
      " |  \n",
      " |  Examples\n",
      " |  --------\n",
      " |  \n",
      " |  >>> ds = load(\"IsolatedGalaxy/galaxy0030/galaxy0030\")\n",
      " |  >>> ad = ds.all_data()\n",
      " |  >>> print ad.quantities.total_mass()\n",
      " |  \n",
      " |  Method resolution order:\n",
      " |      TotalMass\n",
      " |      TotalQuantity\n",
      " |      DerivedQuantity\n",
      " |      yt.utilities.parallel_tools.parallel_analysis_interface.ParallelAnalysisInterface\n",
      " |      __builtin__.object\n",
      " |  \n",
      " |  Methods defined here:\n",
      " |  \n",
      " |  __call__(self)\n",
      " |  \n",
      " |  ----------------------------------------------------------------------\n",
      " |  Methods inherited from TotalQuantity:\n",
      " |  \n",
      " |  count_values(self, fields)\n",
      " |  \n",
      " |  process_chunk(self, data, fields)\n",
      " |  \n",
      " |  reduce_intermediate(self, values)\n",
      " |  \n",
      " |  ----------------------------------------------------------------------\n",
      " |  Methods inherited from DerivedQuantity:\n",
      " |  \n",
      " |  __init__(self, data_source)\n",
      " |  \n",
      " |  ----------------------------------------------------------------------\n",
      " |  Data and other attributes inherited from DerivedQuantity:\n",
      " |  \n",
      " |  num_vals = -1\n",
      " |  \n",
      " |  ----------------------------------------------------------------------\n",
      " |  Methods inherited from yt.utilities.parallel_tools.parallel_analysis_interface.ParallelAnalysisInterface:\n",
      " |  \n",
      " |  get_dependencies(self, fields)\n",
      " |  \n",
      " |  partition_index_2d(self, axis)\n",
      " |  \n",
      " |  partition_index_3d(self, ds, padding=0.0, rank_ratio=1)\n",
      " |  \n",
      " |  partition_index_3d_bisection_list(self)\n",
      " |      Returns an array that is used to drive _partition_index_3d_bisection,\n",
      " |      below.\n",
      " |  \n",
      " |  partition_region_3d(self, left_edge, right_edge, padding=0.0, rank_ratio=1)\n",
      " |      Given a region, it subdivides it into smaller regions for parallel\n",
      " |      analysis.\n",
      " |  \n",
      " |  ----------------------------------------------------------------------\n",
      " |  Data descriptors inherited from yt.utilities.parallel_tools.parallel_analysis_interface.ParallelAnalysisInterface:\n",
      " |  \n",
      " |  __dict__\n",
      " |      dictionary for instance variables (if defined)\n",
      " |  \n",
      " |  __weakref__\n",
      " |      list of weak references to the object (if defined)\n",
      " |  \n",
      " |  ----------------------------------------------------------------------\n",
      " |  Data and other attributes inherited from yt.utilities.parallel_tools.parallel_analysis_interface.ParallelAnalysisInterface:\n",
      " |  \n",
      " |  comm = None\n",
      "\n"
     ]
    }
   ],
   "source": [
    "help(sphere.quantities['TotalMass'])"
   ]
  },
  {
   "cell_type": "code",
   "execution_count": null,
   "metadata": {
    "collapsed": true
   },
   "outputs": [],
   "source": []
  }
 ],
 "metadata": {
  "kernelspec": {
   "display_name": "Python 2",
   "language": "python",
   "name": "python2"
  },
  "language_info": {
   "codemirror_mode": {
    "name": "ipython",
    "version": 2
   },
   "file_extension": ".py",
   "mimetype": "text/x-python",
   "name": "python",
   "nbconvert_exporter": "python",
   "pygments_lexer": "ipython2",
   "version": "2.7.12"
  }
 },
 "nbformat": 4,
 "nbformat_minor": 0
}
