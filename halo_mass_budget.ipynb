{
 "cells": [
  {
   "cell_type": "code",
   "execution_count": 1,
   "metadata": {
    "collapsed": false
   },
   "outputs": [
    {
     "name": "stderr",
     "output_type": "stream",
     "text": [
      "/Users/dalek/anaconda2/lib/python2.7/site-packages/yt/fields/local_fields.py:46: UserWarning: Because 'sampling_type' not specified, yt will assume a cell 'sampling_type'\n",
      "  warnings.warn(\"Because 'sampling_type' not specified, yt will \"\n"
     ]
    }
   ],
   "source": [
    "import yt\n",
    "import numpy as np\n",
    "import matplotlib.pyplot as plt\n",
    "import cPickle\n",
    "from emission_functions import *\n",
    "from astropy.table import Table\n",
    "import trident\n",
    "from decimal import Decimal\n",
    "\n",
    "from yt.data_objects.particle_filters import add_particle_filter"
   ]
  },
  {
   "cell_type": "markdown",
   "metadata": {},
   "source": [
    "### Originally with Ryan's sims but now for forced v. natural"
   ]
  },
  {
   "cell_type": "code",
   "execution_count": null,
   "metadata": {
    "collapsed": false
   },
   "outputs": [],
   "source": [
    "fn = \"/Volumes/TOSHIBA EXT/r0054/redshift0054\"\n",
    "ds = yt.load(fn,file_style=\"%s.grid.cpu%%04i\")\n",
    "pos = [0.40328598,0.47176743,0.46131516]\n",
    "rvir = 316.86"
   ]
  },
  {
   "cell_type": "code",
   "execution_count": null,
   "metadata": {
    "collapsed": false
   },
   "outputs": [],
   "source": [
    "sphere = ds.sphere(center=pos,radius=(rvir,'kpc'))\n",
    "sphere.quantities['TotalMass']().in_units('Msun')\n",
    "idx = np.where(sphere['Density'].in_cgs() > 0.1)\n",
    "print sphere['Density'].max().in_cgs()/1.67e-24\n",
    "mass_ism1 = np.sum(sphere['cell_mass'][idx].in_units('Msun'))\n",
    "print mass_ism1"
   ]
  },
  {
   "cell_type": "code",
   "execution_count": null,
   "metadata": {
    "collapsed": false
   },
   "outputs": [],
   "source": [
    "idx = np.where((sphere['Density'].in_cgs() > 0.1) & (sphere['Temperature'] < 1e4))[0][0]\n",
    "mass_ism2 = np.sum(sphere['CellMassMsun'])"
   ]
  },
  {
   "cell_type": "markdown",
   "metadata": {},
   "source": [
    "Mdm = 1.52e12\n",
    "Mstar = 2.12e11\n",
    "\n",
    "The maximum H_NumberDensity in the simulation is: \n",
    "\n",
    "so I'm not going to be able to make the same cuts as the FIRE people. I guess they just have better overall resolution.\n",
    "    "
   ]
  },
  {
   "cell_type": "markdown",
   "metadata": {
    "collapsed": true
   },
   "source": [
    "### Forced Refine Testing!"
   ]
  },
  {
   "cell_type": "code",
   "execution_count": 2,
   "metadata": {
    "collapsed": true
   },
   "outputs": [],
   "source": [
    "def Stars(pfilter, data):\n",
    "      return data[(\"all\", \"particle_type\")] == 2\n",
    "add_particle_filter(\"stars\", function=Stars, filtered_type='all',\n",
    "                    requires=[\"particle_type\"])\n"
   ]
  },
  {
   "cell_type": "code",
   "execution_count": 3,
   "metadata": {
    "collapsed": false
   },
   "outputs": [
    {
     "name": "stderr",
     "output_type": "stream",
     "text": [
      "yt : [INFO     ] 2018-03-14 11:23:04,624 Parameters: current_time              = 154.801032717\n",
      "yt : [INFO     ] 2018-03-14 11:23:04,624 Parameters: domain_dimensions         = [256 256 256]\n",
      "yt : [INFO     ] 2018-03-14 11:23:04,626 Parameters: domain_left_edge          = [ 0.  0.  0.]\n",
      "yt : [INFO     ] 2018-03-14 11:23:04,627 Parameters: domain_right_edge         = [ 1.  1.  1.]\n",
      "yt : [INFO     ] 2018-03-14 11:23:04,628 Parameters: cosmological_simulation   = 1\n",
      "yt : [INFO     ] 2018-03-14 11:23:04,629 Parameters: current_redshift          = 1.99999968795\n",
      "yt : [INFO     ] 2018-03-14 11:23:04,630 Parameters: omega_lambda              = 0.715\n",
      "yt : [INFO     ] 2018-03-14 11:23:04,631 Parameters: omega_matter              = 0.285\n",
      "yt : [INFO     ] 2018-03-14 11:23:04,632 Parameters: hubble_constant           = 0.695\n",
      "Parsing Hierarchy : 100%|██████████| 4574/4574 [00:00<00:00, 11763.95it/s]\n",
      "yt : [INFO     ] 2018-03-14 11:23:05,239 Gathering a field list (this may take a moment.)\n"
     ]
    },
    {
     "name": "stdout",
     "output_type": "stream",
     "text": [
      "using this loc:      col1       col2     col3     col4     col5     col6     col7   col8\n",
      "------------- -------- -------- -------- -------- -------- -------- ----\n",
      "2.04999996364 0.493091 0.488119 0.501099 0.495091 0.490119 0.503099   10\n"
     ]
    }
   ],
   "source": [
    "base = \"/Users/dalek/data/Molly/nref11n_nref10f_refine200kpc_z4to2\"\n",
    "fn = base+\"/RD0020/RD0020\"\n",
    "lines = ['HAlpha','OVI','CIV','CIII_977','SiIV']\n",
    "track_name = base+\"/halo_track\"\n",
    "args = fn.split('/')\n",
    "\n",
    "ds = yt.load(fn)\n",
    "trident.add_ion_fields(ds,['O','C','Si'])\n",
    "track = Table.read(track_name, format='ascii')\n",
    "track.sort('col1')\n",
    "rb,rb_center,rb_width = get_refine_box(ds,ds.current_redshift,track)\n",
    "redshift = ds.current_redshift\n",
    "ds.add_particle_filter('stars')\n",
    "\n",
    "box_width = ds.arr(rb_width,'code_length').in_units('kpc')"
   ]
  },
  {
   "cell_type": "code",
   "execution_count": 4,
   "metadata": {
    "collapsed": false
   },
   "outputs": [
    {
     "name": "stderr",
     "output_type": "stream",
     "text": [
      "yt : [INFO     ] 2018-03-14 11:23:09,341 Parameters: current_time              = 154.801187733\n",
      "yt : [INFO     ] 2018-03-14 11:23:09,342 Parameters: domain_dimensions         = [256 256 256]\n",
      "yt : [INFO     ] 2018-03-14 11:23:09,343 Parameters: domain_left_edge          = [ 0.  0.  0.]\n",
      "yt : [INFO     ] 2018-03-14 11:23:09,344 Parameters: domain_right_edge         = [ 1.  1.  1.]\n",
      "yt : [INFO     ] 2018-03-14 11:23:09,346 Parameters: cosmological_simulation   = 1\n",
      "yt : [INFO     ] 2018-03-14 11:23:09,347 Parameters: current_redshift          = 1.99999762534\n",
      "yt : [INFO     ] 2018-03-14 11:23:09,348 Parameters: omega_lambda              = 0.715\n",
      "yt : [INFO     ] 2018-03-14 11:23:09,349 Parameters: omega_matter              = 0.285\n",
      "yt : [INFO     ] 2018-03-14 11:23:09,350 Parameters: hubble_constant           = 0.695\n",
      "Parsing Hierarchy : 100%|██████████| 1449/1449 [00:00<00:00, 24085.80it/s]\n",
      "yt : [INFO     ] 2018-03-14 11:23:09,493 Gathering a field list (this may take a moment.)\n"
     ]
    },
    {
     "name": "stdout",
     "output_type": "stream",
     "text": [
      "using this loc:      col1       col2     col3     col4     col5     col6     col7   col8\n",
      "------------- -------- -------- -------- -------- -------- -------- ----\n",
      "1.99999996364 0.493032 0.487924 0.501169 0.495032 0.489924 0.503169   10\n"
     ]
    },
    {
     "data": {
      "text/plain": [
       "True"
      ]
     },
     "execution_count": 4,
     "metadata": {},
     "output_type": "execute_result"
    }
   ],
   "source": [
    "base2 = \"/Users/dalek/data/Molly/natural/nref11\"\n",
    "fn2 = base2+\"/RD0020/RD0020\"\n",
    "ds2 = yt.load(fn2)\n",
    "trident.add_ion_fields(ds2,['O','C','Si'])\n",
    "rb2,rb_center2,rb_width2 = get_refine_box(ds2,ds2.current_redshift,track)\n",
    "redshift = ds.current_redshift\n",
    "ds2.add_particle_filter('stars')\n"
   ]
  },
  {
   "cell_type": "code",
   "execution_count": null,
   "metadata": {
    "collapsed": false
   },
   "outputs": [],
   "source": [
    "# masses = [total,cold,cool,warm,hot]\n",
    "masses = [0.,0.,0.,0.,0.,0.,0.,0.]\n",
    "temp = np.log10(rb['Temperature'])\n",
    "dens = rb['H_nuclei_density']\n",
    "#dens = rb['Density'].in_units('g/cm**3')\n",
    "masses[0] = np.sum(rb['cell_mass'].in_units('Msun'))\n",
    "masses[1] = np.sum(rb[(\"stars\", \"particle_mass\")].in_units('Msun'))\n",
    "idx = np.where((temp < 4.) & (dens > 0.1))[0]\n",
    "masses[2] = np.sum(rb['cell_mass'][idx].in_units('Msun'))\n",
    "idx = np.where(temp < 4.)[0]\n",
    "masses[3] = np.sum(rb['cell_mass'][idx].in_units('Msun'))\n",
    "idx = np.where((temp >= 4.) & (temp < 5.))[0]\n",
    "masses[4] = np.sum(rb['cell_mass'][idx].in_units('Msun'))\n",
    "idx = np.where((temp >= 5.) & (temp < 6.))[0]\n",
    "masses[5] = np.sum(rb['cell_mass'][idx].in_units('Msun'))\n",
    "idx = np.where(temp >= 6.)[0]\n",
    "masses[6] = np.sum(rb['cell_mass'][idx].in_units('Msun'))\n",
    "masses[7] = np.sum(rb['metal_mass'].in_units('Msun'))"
   ]
  },
  {
   "cell_type": "code",
   "execution_count": null,
   "metadata": {
    "collapsed": false
   },
   "outputs": [],
   "source": [
    "# masses = [total,cold,cool,warm,hot]\n",
    "masses2 = [0.,0.,0.,0.,0.,0.,0.,0.]\n",
    "temp2 = np.log10(rb2['Temperature'])\n",
    "dens2 = rb2['H_nuclei_density']\n",
    "#dens2 = rb2['Density'].in_units('g/cm**3')\n",
    "masses2[0] = np.sum(rb2['cell_mass'].in_units('Msun'))\n",
    "masses2[1] = np.sum(rb2[(\"stars\", \"particle_mass\")].in_units('Msun'))\n",
    "idx = np.where((temp2 < 4.)& (dens2 > 0.1))[0]\n",
    "masses2[2] = np.sum(rb2['cell_mass'][idx].in_units('Msun'))\n",
    "idx = np.where(temp2 < 4.)[0]\n",
    "masses2[3] = np.sum(rb2['cell_mass'][idx].in_units('Msun'))\n",
    "idx = np.where((temp2 >= 4.) & (temp2 < 5.))[0]\n",
    "masses2[4] = np.sum(rb2['cell_mass'][idx].in_units('Msun'))\n",
    "idx = np.where((temp2 >= 5.) & (temp2 < 6.))[0]\n",
    "masses2[5] = np.sum(rb2['cell_mass'][idx].in_units('Msun'))\n",
    "idx = np.where(temp2 >= 6.)[0]\n",
    "masses2[6] = np.sum(rb2['cell_mass'][idx].in_units('Msun'))\n",
    "masses2[7] = np.sum(rb2['metal_mass'].in_units('Msun'))"
   ]
  },
  {
   "cell_type": "code",
   "execution_count": null,
   "metadata": {
    "collapsed": false
   },
   "outputs": [],
   "source": [
    "x = [0,1,2,3,4,5,6,7]\n",
    "x_tick_labels = ('Total','Stellar','ISM','Cold','Cool','Warm','Hot','Metal')\n",
    "plt.bar(x,np.log10(masses2),align='center',alpha=0.5,label='standard')\n",
    "plt.bar(x,np.log10(masses),align='center',alpha=0.5,label='refined')\n",
    "\n",
    "\n",
    "#plt.bar(x,(masses/masses[0]),align='center',alpha=0.5,label='refined')\n",
    "#plt.bar(x,(masses2/masses2[0]),align='center',alpha=0.5,label='standard')\n",
    "#plt.bar(x,((masses/masses[0])/(masses2/masses2[0])),align='center',alpha=0.5)#,label='refined')\n",
    "#plt.bar(x,(np.array(masses)/np.array(masses2)),align='center',alpha=0.5)#,label='refined')\n",
    "plt.ylim(7.5,10.5)\n",
    "plt.xticks(x,('Total','Stellar','ISM','Cold','Cool','Warm','Hot','Metal'))\n",
    "plt.legend()\n",
    "plt.show()"
   ]
  },
  {
   "cell_type": "code",
   "execution_count": null,
   "metadata": {
    "collapsed": false
   },
   "outputs": [],
   "source": [
    "i = 0\n",
    "while i < len(x_tick_labels):\n",
    "    wanted = '%.2E' % Decimal(str(masses2[i].value))\n",
    "    print x_tick_labels[i]+': '+wanted\n",
    "    i = i + 1\n",
    "    "
   ]
  },
  {
   "cell_type": "code",
   "execution_count": null,
   "metadata": {
    "collapsed": false
   },
   "outputs": [],
   "source": [
    "print np.log10(masses[2])\n",
    "print np.log10(masses2[2])\n",
    "\n",
    "print masses[2]/masses[3]\n",
    "print masses2[2]/masses2[3]\n",
    "print 'More of the cold gas is in the ISM in the refined simulation than in'\n",
    "print 'standard simulation but it is still the LARGE majority no matter what'"
   ]
  },
  {
   "cell_type": "code",
   "execution_count": 5,
   "metadata": {
    "collapsed": false
   },
   "outputs": [],
   "source": [
    "ion_num = {'C':6,'O':8,'Si':14}\n",
    "ion = 'O'"
   ]
  },
  {
   "cell_type": "code",
   "execution_count": null,
   "metadata": {
    "collapsed": false
   },
   "outputs": [],
   "source": [
    "print 'refined'\n",
    "massesO = []\n",
    "for i in range(ion_num[ion]):\n",
    "    field = ion+'_p'+str(i)+'_mass'\n",
    "    print field\n",
    "    massesO.append(np.sum(rb[field].in_units('Msun')))\n",
    "print 'standard'\n",
    "massesO2 = []\n",
    "for i in range(ion_num[ion]):\n",
    "    field = ion+'_p'+str(i)+'_mass'\n",
    "    print field\n",
    "    massesO2.append(np.sum(rb2[field].in_units('Msun')))"
   ]
  },
  {
   "cell_type": "code",
   "execution_count": null,
   "metadata": {
    "collapsed": false
   },
   "outputs": [],
   "source": [
    "y = [0,1,2,3,4,5,6,7]\n",
    "plt.bar(y,np.log10(massesO2),align='center',alpha=0.5,label='standard')\n",
    "plt.bar(y,np.log10(massesO),align='center',alpha=0.5,label='refined')\n",
    "#plt.bar(y,(massesO2/masses2[6]),align='center',alpha=0.5,label='standard')\n",
    "#plt.bar(y,(massesO/masses[6]),align='center',alpha=0.5,label='refined')\n",
    "#plt.bar(y,(np.array(massesO)/np.array(massesO2)),align='center')\n",
    "plt.ylim(4.5,8)\n",
    "plt.xticks(y,('OI','OII','OIII','OIV','OV','OVI','OVII','OVIII'))\n",
    "plt.legend()\n",
    "plt.show()"
   ]
  },
  {
   "cell_type": "code",
   "execution_count": null,
   "metadata": {
    "collapsed": false
   },
   "outputs": [],
   "source": [
    "oxy_tick_labels = ('OI','OII','OIII','OIV','OV','OVI','OVII','OVIII')\n",
    "i = 0\n",
    "while i < len(oxy_tick_labels):\n",
    "    wanted = '%.2E' % Decimal(str(massesO2[i].value))\n",
    "    print oxy_tick_labels[i]+': '+wanted\n",
    "    i = i + 1\n",
    "    "
   ]
  },
  {
   "cell_type": "code",
   "execution_count": null,
   "metadata": {
    "collapsed": false
   },
   "outputs": [],
   "source": [
    "print 'refined'\n",
    "ion = 'C'\n",
    "massesC = []\n",
    "for i in range(ion_num[ion]):\n",
    "    field = ion+'_p'+str(i)+'_mass'\n",
    "    print field\n",
    "    massesC.append(np.sum(rb[field].in_units('Msun')))\n",
    "print 'standard'\n",
    "massesC2 = []\n",
    "for i in range(ion_num[ion]):\n",
    "    field = ion+'_p'+str(i)+'_mass'\n",
    "    print field\n",
    "    massesC2.append(np.sum(rb2[field].in_units('Msun')))"
   ]
  },
  {
   "cell_type": "code",
   "execution_count": null,
   "metadata": {
    "collapsed": false
   },
   "outputs": [],
   "source": [
    "y = [0,1,2,3,4,5]\n",
    "plt.bar(y,np.log10(massesC2),align='center',alpha=0.5,label='standard')\n",
    "plt.bar(y,np.log10(massesC),align='center',alpha=0.5,label='refined')\n",
    "#plt.bar(y,(np.array(massesC)/np.array(massesC2)),align='center')\n",
    "plt.xticks(y,('CI','CII','CIII','CIV','CV','CVI'))\n",
    "plt.ylim(4,7)\n",
    "plt.legend()\n",
    "plt.show()"
   ]
  },
  {
   "cell_type": "code",
   "execution_count": null,
   "metadata": {
    "collapsed": false
   },
   "outputs": [],
   "source": [
    "car_tick_labels = ('CI','CII','CIII','CIV','CV','CVI')\n",
    "i = 0\n",
    "while i < len(car_tick_labels):\n",
    "    wanted = '%.2E' % Decimal(str(massesC2[i].value))\n",
    "    print car_tick_labels[i]+': '+wanted\n",
    "    i = i + 1\n",
    "    "
   ]
  },
  {
   "cell_type": "code",
   "execution_count": 6,
   "metadata": {
    "collapsed": false
   },
   "outputs": [
    {
     "name": "stdout",
     "output_type": "stream",
     "text": [
      "refined\n",
      "Si_p0_mass\n",
      "Si_p1_mass\n",
      "Si_p2_mass\n",
      "Si_p3_mass\n",
      "Si_p4_mass\n",
      "Si_p5_mass\n",
      "Si_p6_mass\n",
      "Si_p7_mass\n",
      "Si_p8_mass\n",
      "Si_p9_mass\n",
      "Si_p10_mass\n",
      "Si_p11_mass\n",
      "Si_p12_mass\n",
      "Si_p13_mass\n",
      "standard\n",
      "Si_p0_mass\n",
      "Si_p1_mass\n",
      "Si_p2_mass\n",
      "Si_p3_mass\n",
      "Si_p4_mass\n",
      "Si_p5_mass\n",
      "Si_p6_mass\n",
      "Si_p7_mass\n",
      "Si_p8_mass\n",
      "Si_p9_mass\n",
      "Si_p10_mass\n",
      "Si_p11_mass\n",
      "Si_p12_mass\n",
      "Si_p13_mass\n"
     ]
    }
   ],
   "source": [
    "print 'refined'\n",
    "ion = 'Si'\n",
    "massesSi = []\n",
    "for i in range(ion_num[ion]):\n",
    "    field = ion+'_p'+str(i)+'_mass'\n",
    "    print field\n",
    "    massesSi.append(np.sum(rb[field].in_units('Msun')))\n",
    "print 'standard'\n",
    "massesSi2 = []\n",
    "for i in range(ion_num[ion]):\n",
    "    field = ion+'_p'+str(i)+'_mass'\n",
    "    print field\n",
    "    massesSi2.append(np.sum(rb2[field].in_units('Msun')))"
   ]
  },
  {
   "cell_type": "code",
   "execution_count": 10,
   "metadata": {
    "collapsed": false
   },
   "outputs": [
    {
     "data": {
      "image/png": "[encoded data removed]",
      "text/plain": [
       "<matplotlib.figure.Figure at 0x130daecd0>"
      ]
     },
     "metadata": {},
     "output_type": "display_data"
    }
   ],
   "source": [
    "y = [0,1,2,3,4,5,6,7,8,9,10,11,12,13]\n",
    "plt.bar(y,np.log10(massesSi2),align='center',alpha=0.5,label='standard')\n",
    "plt.bar(y,np.log10(massesSi),align='center',alpha=0.5,label='refined')\n",
    "#plt.bar(y,(np.array(massesC)/np.array(massesC2)),align='center')\n",
    "plt.xticks(y,('SiI','SiII','SiIII','SiIV','SiV','SiVI','SiVII','SiVIII','SiIX','SiX','SiXI','SiXII','SiXIII','SiXIV'))\n",
    "plt.ylim(3.5,7)\n",
    "plt.legend()\n",
    "plt.show()"
   ]
  },
  {
   "cell_type": "code",
   "execution_count": 12,
   "metadata": {
    "collapsed": false
   },
   "outputs": [
    {
     "name": "stdout",
     "output_type": "stream",
     "text": [
      "SiI: 5.14E+04\n",
      "SiII: 5.73E+06\n",
      "SiIII: 5.61E+04\n",
      "SiIV: 1.41E+04\n",
      "SiV: 2.27E+04\n",
      "SiVI: 2.49E+04\n",
      "SiVII: 3.24E+04\n",
      "SiVIII: 2.87E+04\n",
      "SiIX: 2.30E+04\n",
      "SiX: 1.35E+04\n",
      "SiXI: 6.20E+03\n",
      "SiXII: 3.84E+03\n",
      "SiXIII: 1.06E+04\n",
      "SiXIV: 1.54E+03\n"
     ]
    }
   ],
   "source": [
    "si_tick_labels = ('SiI','SiII','SiIII','SiIV','SiV','SiVI','SiVII','SiVIII','SiIX','SiX','SiXI','SiXII','SiXIII','SiXIV')\n",
    "i = 0\n",
    "while i < len(si_tick_labels):\n",
    "    wanted = '%.2E' % Decimal(str(massesSi2[i].value))\n",
    "    print si_tick_labels[i]+': '+wanted\n",
    "    i = i + 1\n",
    "    "
   ]
  },
  {
   "cell_type": "code",
   "execution_count": null,
   "metadata": {
    "collapsed": false
   },
   "outputs": [],
   "source": [
    "## What is dark matter particle mass 1.2e6? \n",
    "def MustRefineParticles(pfilter, data):\n",
    "      return data[(\"all\", \"particle_type\")] == 4\n",
    "add_particle_filter(\"mustrefine\", function=MustRefineParticles, filtered_type='all',\n",
    "                    requires=[\"particle_type\"])\n"
   ]
  },
  {
   "cell_type": "code",
   "execution_count": null,
   "metadata": {
    "collapsed": false
   },
   "outputs": [],
   "source": [
    "ds.add_particle_filter('mustrefine')"
   ]
  },
  {
   "cell_type": "code",
   "execution_count": null,
   "metadata": {
    "collapsed": false
   },
   "outputs": [],
   "source": [
    "print (rb[(\"mustrefine\", \"particle_mass\")].in_units('Msun')[0])\n",
    "print (rb[(\"stars\", \"particle_mass\")].in_units('Msun').min())\n",
    "print (rb[(\"stars\", \"particle_mass\")].in_units('Msun').max())"
   ]
  },
  {
   "cell_type": "code",
   "execution_count": null,
   "metadata": {
    "collapsed": false
   },
   "outputs": [],
   "source": [
    "np.unique(rb['all','particle_type'])"
   ]
  },
  {
   "cell_type": "code",
   "execution_count": null,
   "metadata": {
    "collapsed": false
   },
   "outputs": [],
   "source": []
  },
  {
   "cell_type": "code",
   "execution_count": null,
   "metadata": {
    "collapsed": true
   },
   "outputs": [],
   "source": []
  }
 ],
 "metadata": {
  "kernelspec": {
   "display_name": "Python 2",
   "language": "python",
   "name": "python2"
  },
  "language_info": {
   "codemirror_mode": {
    "name": "ipython",
    "version": 2
   },
   "file_extension": ".py",
   "mimetype": "text/x-python",
   "name": "python",
   "nbconvert_exporter": "python",
   "pygments_lexer": "ipython2",
   "version": "2.7.13"
  }
 },
 "nbformat": 4,
 "nbformat_minor": 0
}
